{
 "cells": [
  {
   "cell_type": "markdown",
   "metadata": {},
   "source": [
    "There are exactly ten ways of selecting three from five, 12345:\n",
    "\n",
    "123, 124, 125, 134, 135, 145, 234, 235, 245, and 345\n",
    "\n",
    "In combinatorics, we use the notation, $^5C_3 = 10$.\n",
    "\n",
    "In general, $^nC_r = \\frac{n!}{r!(n-r)!}$, where $r ≤ n$, $n! = n×(n−1)×...×3×2×1$, and $0! = 1$.\n",
    "It is not until $n = 23$, that a value exceeds one-million: $^{23}C_{10} = 1144066$.\n",
    "\n",
    "How many, not necessarily distinct, values of   $^nC_r$, for $1 ≤ n ≤ 100$, are greater than one-million?"
   ]
  },
  {
   "cell_type": "markdown",
   "metadata": {},
   "source": [
    "#Approach:\n",
    "Brute force:\n",
    "###1.$r ≤ n$,\n",
    "###2.$ n ≤ 100$\n",
    "###3.Compute the calculation for n in range (1,101) and r in range(1, n+1), if result is $>10^6$ report it."
   ]
  },
  {
   "cell_type": "code",
   "execution_count": 4,
   "metadata": {
    "collapsed": true
   },
   "outputs": [],
   "source": [
    "def factorial(n):\n",
    "    if n == 0:\n",
    "        return 1\n",
    "    else:\n",
    "        return n * factorial(n-1)\n",
    "\n",
    "def pr053():\n",
    "    list_vals = []\n",
    "    #factorial = {}\n",
    "    for n in range(1,101):\n",
    "        for r in range(1,n+1):\n",
    "            val = (factorial(n))/(factorial(r)*factorial(n-r))\n",
    "            if val > 1000000:\n",
    "                list_vals.append((n,r,val))\n",
    "    return list_vals\n",
    "            \n"
   ]
  },
  {
   "cell_type": "code",
   "execution_count": 6,
   "metadata": {
    "collapsed": false
   },
   "outputs": [
    {
     "name": "stdout",
     "output_type": "stream",
     "text": [
      "4075\n"
     ]
    }
   ],
   "source": [
    "lv = pr053()\n",
    "print(len(lv))"
   ]
  },
  {
   "cell_type": "code",
   "execution_count": 29,
   "metadata": {
    "collapsed": true
   },
   "outputs": [],
   "source": [
    "def factorial2(n,d_f):\n",
    "    if n == 0:\n",
    "        return 1, d_f\n",
    "    else:\n",
    "        if not d_f.get(n-1):\n",
    "            d_f[n-1] = factorial(n-1)\n",
    "            return n * factorial(n-1), d_f\n",
    "        else:\n",
    "            return n*d_f[n-1], d_f\n",
    "\n",
    "def pr053_2():\n",
    "    list_vals = []\n",
    "    d_factorial = {}\n",
    "    for n in range(1,101):\n",
    "        for r in range(1,n+1):\n",
    "            f2, d_factorial = factorial2(n,d_factorial)\n",
    "            r2, d_factorial = factorial2(r, d_factorial)\n",
    "            k = n-r\n",
    "            n_r, d_factorial = factorial2(k,d_factorial)\n",
    "            val = f2/(r2 * n_r)\n",
    "            #(factorial2(n,d_factorial))/(factorial2(r)*factorial2(n-r))\n",
    "            if val > 1000000:\n",
    "                list_vals.append((n,r,val))\n",
    "    return list_vals\n",
    "            \n"
   ]
  },
  {
   "cell_type": "code",
   "execution_count": 33,
   "metadata": {
    "collapsed": true
   },
   "outputs": [],
   "source": [
    "import time"
   ]
  },
  {
   "cell_type": "code",
   "execution_count": 39,
   "metadata": {
    "collapsed": false
   },
   "outputs": [
    {
     "name": "stdout",
     "output_type": "stream",
     "text": [
      "4075\n",
      "1.2920541763305664\n"
     ]
    }
   ],
   "source": [
    "st = time.time()\n",
    "l_v = pr053()\n",
    "print(len(l_v))\n",
    "end = time.time()\n",
    "print(end-st)"
   ]
  },
  {
   "cell_type": "code",
   "execution_count": 35,
   "metadata": {
    "collapsed": false
   },
   "outputs": [
    {
     "data": {
      "text/plain": [
       "1476670915.901294"
      ]
     },
     "execution_count": 35,
     "metadata": {},
     "output_type": "execute_result"
    }
   ],
   "source": [
    "st"
   ]
  },
  {
   "cell_type": "code",
   "execution_count": 31,
   "metadata": {
    "collapsed": false
   },
   "outputs": [
    {
     "name": "stdout",
     "output_type": "stream",
     "text": [
      "1 loops, best of 3: 140 ms per loop\n"
     ]
    }
   ],
   "source": [
    "%timeit pr053_2()"
   ]
  },
  {
   "cell_type": "code",
   "execution_count": 40,
   "metadata": {
    "collapsed": false
   },
   "outputs": [
    {
     "name": "stdout",
     "output_type": "stream",
     "text": [
      "4075\n",
      "0.4520680904388428\n"
     ]
    }
   ],
   "source": [
    "st = time.time()\n",
    "l_v2 = pr053_2()\n",
    "print(len(l_v2))\n",
    "end = time.time()\n",
    "print(end-st)"
   ]
  }
 ],
 "metadata": {
  "kernelspec": {
   "display_name": "Python 3",
   "language": "python",
   "name": "python3"
  },
  "language_info": {
   "codemirror_mode": {
    "name": "ipython",
    "version": 3
   },
   "file_extension": ".py",
   "mimetype": "text/x-python",
   "name": "python",
   "nbconvert_exporter": "python",
   "pygments_lexer": "ipython3",
   "version": "3.4.4"
  }
 },
 "nbformat": 4,
 "nbformat_minor": 0
}
