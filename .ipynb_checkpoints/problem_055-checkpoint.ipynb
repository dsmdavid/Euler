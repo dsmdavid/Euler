{
 "cells": [
  {
   "cell_type": "markdown",
   "metadata": {},
   "source": [
    "If we take 47, reverse and add, $47 + 74 = 121,$ which is palindromic.\n",
    "\n",
    "Not all numbers produce palindromes so quickly. For example,\n",
    "\n",
    "#####1.) $349 + 943 = 1292,$\n",
    "#####2.) $1292 + 2921 = 4213$\n",
    "#####3.) $4213 + 3124 = 7337$\n",
    "\n",
    "That is, 349 took **three iterations** to arrive at a palindrome.\n",
    "\n",
    "Although no one has proved it yet, it is thought that some numbers, like __*196*__, never produce a palindrome. A number that never forms a palindrome through the reverse and add process is called a Lychrel number. Due to the theoretical nature of these numbers, and for the purpose of this problem, we shall assume that a number is Lychrel until proven otherwise.\n",
    "In addition you are given that for every number below ten-thousand, it will either\n",
    "1. Become a palindrome in less than **fifty iterations**, or, \n",
    "2. No one, with all the computing power that exists, has managed so far to map it to a palindrome.\n",
    "\n",
    "In fact, 10677 is the first number to be shown to require over fifty iterations before producing a palindrome: 4668731596684224866951378664 (53 iterations, 28-digits).\n",
    "\n",
    "Surprisingly, there are palindromic numbers that are themselves Lychrel numbers; the first example is 4994.\n",
    "\n",
    "How many Lychrel numbers are there below ten-thousand?\n",
    "\n",
    "NOTE: Wording was modified slightly on 24 April 2007 to emphasise the theoretical nature of Lychrel numbers."
   ]
  },
  {
   "cell_type": "markdown",
   "metadata": {},
   "source": [
    "#Approach:\n",
    "Brute force:\n"
   ]
  },
  {
   "cell_type": "code",
   "execution_count": 26,
   "metadata": {
    "collapsed": true
   },
   "outputs": [],
   "source": [
    "def reverse(n):\n",
    "    temp = str(n)\n",
    "    temp = temp[::-1]\n",
    "    return int(temp)\n",
    "\n",
    "def isPal(s):\n",
    "    s = str(s)\n",
    "    if len(s) <= 1:\n",
    "        return True\n",
    "    else:\n",
    "        return s == s[::-1]"
   ]
  },
  {
   "cell_type": "code",
   "execution_count": 105,
   "metadata": {
    "collapsed": true
   },
   "outputs": [],
   "source": [
    "def test_lych(s,iterations, val):\n",
    "    s0 = s\n",
    "    #first iteration -- to avoid excluding numbers that are palindromes already\n",
    "    its = 1\n",
    "    s = int(s)\n",
    "    s_r = reverse(s)\n",
    "    s = str(s+s_r)\n",
    "    #loop x iterations\n",
    "    while not isPal(s) and its <iterations:\n",
    "        s = int(s)\n",
    "        s_r = reverse(s)\n",
    "        s = str(s+s_r)\n",
    "        its += 1\n",
    "    # if, after looping the x iterations there is still no palindrome, add to the dict\n",
    "    if not isPal(s):\n",
    "        val[s0] = (s,its)\n",
    "    return val"
   ]
  },
  {
   "cell_type": "code",
   "execution_count": 106,
   "metadata": {
    "collapsed": true
   },
   "outputs": [],
   "source": [
    "val = {}\n",
    "for s in range(1,10001):\n",
    "    val = test_lych(s,49,val)"
   ]
  },
  {
   "cell_type": "code",
   "execution_count": 107,
   "metadata": {
    "collapsed": false
   },
   "outputs": [
    {
     "data": {
      "text/plain": [
       "249"
      ]
     },
     "execution_count": 107,
     "metadata": {},
     "output_type": "execute_result"
    }
   ],
   "source": [
    "len(val)"
   ]
  }
 ],
 "metadata": {
  "kernelspec": {
   "display_name": "Python 3",
   "language": "python",
   "name": "python3"
  },
  "language_info": {
   "codemirror_mode": {
    "name": "ipython",
    "version": 3
   },
   "file_extension": ".py",
   "mimetype": "text/x-python",
   "name": "python",
   "nbconvert_exporter": "python",
   "pygments_lexer": "ipython3",
   "version": "3.4.4"
  }
 },
 "nbformat": 4,
 "nbformat_minor": 0
}
