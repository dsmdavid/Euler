{
 "cells": [
  {
   "cell_type": "markdown",
   "metadata": {},
   "source": [
    "A googol ($10^{100}$) is a massive number: one followed by *one-hundred* zeros; $100^{100}$ is almost unimaginably large: one followed by **two-hundred** zeros. Despite their size, the sum of the digits in each number is only 1.\n",
    "\n",
    "Considering natural numbers of the form, $a^b$, where $a, b < 100$, what is the maximum digital sum?"
   ]
  },
  {
   "cell_type": "markdown",
   "metadata": {},
   "source": [
    "#Approach:\n",
    "Brute force:\n"
   ]
  },
  {
   "cell_type": "code",
   "execution_count": 4,
   "metadata": {
    "collapsed": true
   },
   "outputs": [],
   "source": [
    "import numpy as np"
   ]
  },
  {
   "cell_type": "code",
   "execution_count": 20,
   "metadata": {
    "collapsed": false
   },
   "outputs": [],
   "source": [
    "maxs= 0\n",
    "amax=0\n",
    "bmax=0\n",
    "for a in range(1,100):\n",
    "    for b in range(1,100):\n",
    "        suma = np.array([int(x) for x in list(repr(a**b))]).sum()\n",
    "        if suma > maxs:\n",
    "            maxs = suma\n",
    "            amax = a\n",
    "            bmax = b\n",
    "        "
   ]
  },
  {
   "cell_type": "code",
   "execution_count": 21,
   "metadata": {
    "collapsed": false
   },
   "outputs": [
    {
     "data": {
      "text/plain": [
       "(99, 95, 972)"
      ]
     },
     "execution_count": 21,
     "metadata": {},
     "output_type": "execute_result"
    }
   ],
   "source": [
    "amax, bmax, maxs"
   ]
  }
 ],
 "metadata": {
  "kernelspec": {
   "display_name": "Python 3",
   "language": "python",
   "name": "python3"
  },
  "language_info": {
   "codemirror_mode": {
    "name": "ipython",
    "version": 3
   },
   "file_extension": ".py",
   "mimetype": "text/x-python",
   "name": "python",
   "nbconvert_exporter": "python",
   "pygments_lexer": "ipython3",
   "version": "3.4.4"
  }
 },
 "nbformat": 4,
 "nbformat_minor": 0
}
