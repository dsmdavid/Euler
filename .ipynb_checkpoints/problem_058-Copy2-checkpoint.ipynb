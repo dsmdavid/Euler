{
 "cells": [
  {
   "cell_type": "markdown",
   "metadata": {},
   "source": [
    "\n",
    "Starting with 1 and spiralling anticlockwise in the following way, a square spiral with side length 7 is formed.\n",
    "\n",
    "\n",
    "$$\n",
    "|37| 36| 35| 34| 33| 32| 31| \\\\ \n",
    "|38| 17| 16| 15| 14| 13| 30|  \\\\\n",
    "|39| 18|  5|  4|  3| 12| 29|  \\\\\n",
    "|40| 19|  6|  1|  2| 11| 28|  \\\\\n",
    "|41| 20|  7|  8|  9| 10| 27|  \\\\ \n",
    "|42| 21| 22| 23| 24| 25| 26| \\\\\n",
    "|43| 44| 45| 46| 47| 48| 49|\n",
    "$$\n",
    "\n",
    "\n",
    "It is interesting to note that the odd squares lie along the bottom right diagonal, but what is more interesting is that 8 out of the 13 numbers lying along both diagonals are prime; that is, a ratio of 8/13 ≈ 62%.\n",
    "\n",
    "If one complete new layer is wrapped around the spiral above, a square spiral with side length 9 will be formed. If this process is continued, what is the side length of the square spiral for which the ratio of primes along both diagonals first falls below 10%?"
   ]
  },
  {
   "cell_type": "markdown",
   "metadata": {},
   "source": [
    "#Approach:\n",
    "####1. Create matrix\n",
    "####2. Fill matrix\n",
    "####3. Check if diagonals are prime\n",
    "####4. Calculate %"
   ]
  },
  {
   "cell_type": "code",
   "execution_count": 1,
   "metadata": {
    "collapsed": true
   },
   "outputs": [],
   "source": [
    "import numpy as np\n",
    "import eulertools"
   ]
  },
  {
   "cell_type": "code",
   "execution_count": 2,
   "metadata": {
    "collapsed": false
   },
   "outputs": [],
   "source": [
    "primes = eulertools.primesfrom2to(100000000)\n"
   ]
  },
  {
   "cell_type": "code",
   "execution_count": 3,
   "metadata": {
    "collapsed": false
   },
   "outputs": [],
   "source": [
    "@profile\n",
    "def alternate2(primes, val):\n",
    "    '''Deduce the way the numbers increase as a function of the increased side. Apply that knowdledge to \n",
    "    infer the turning point'''\n",
    "    #intialize\n",
    "    diagonals = [1,3,5,7,9]\n",
    "    dist = len(diagonals)\n",
    "    pmax = primes.max()\n",
    "    maxd = max(diagonals)\n",
    "    ratio = 1\n",
    "    pr_list = [1 if x in primes else 0 for x in diagonals]\n",
    "    \n",
    "    prs = sum(pr_list)\n",
    "    n=3\n",
    "    \n",
    "    #loop\n",
    "    while ratio > val:\n",
    "        n+=2\n",
    "    \n",
    "        if maxd < pmax:\n",
    "            primes = primes\n",
    "        else:\n",
    "            primes = eulertools.primesfrom2to(100*pmax)\n",
    "            pmax = primes.max()\n",
    "        \n",
    "        for i in range(1,5):\n",
    "            value = maxd + i *(n-1)\n",
    "            #diagonals.append(value)\n",
    "            if value in primes:\n",
    "                prs +=1\n",
    "        #ext_list = [maxd+(n-1), maxd+2*(n-1), maxd + 3*(n-1), maxd+4*(n-1)]\n",
    "        #ext_pr = [1  if x in primes else 0 for x in ext_list]\n",
    "        \n",
    "        #diagonals.extend(ext_list)\n",
    "        #pr_list.extend(ext_pr)\n",
    "        \n",
    "        maxd = maxd + 4*(n-1)\n",
    "        dist +=4\n",
    "        ratio = prs/dist\n",
    "    \n",
    "        \n",
    "    \n",
    "        \n",
    "    return n, ratio, prs, maxd, dist#, diagonals\n",
    "    \n",
    "    \n",
    "   # pr_list = [1 for x in diagonals if x in primes else 0]\n",
    "    "
   ]
  },
  {
   "cell_type": "code",
   "execution_count": 4,
   "metadata": {
    "collapsed": false
   },
   "outputs": [],
   "source": [
    "t = alternate2(primes, 0.25)"
   ]
  },
  {
   "cell_type": "code",
   "execution_count": 5,
   "metadata": {
    "collapsed": false
   },
   "outputs": [
    {
     "data": {
      "text/plain": [
       "(99, 0.24873096446700507, 49, 9801, 197)"
      ]
     },
     "execution_count": 5,
     "metadata": {},
     "output_type": "execute_result"
    }
   ],
   "source": [
    "t"
   ]
  }
 ],
 "metadata": {
  "kernelspec": {
   "display_name": "Python 3",
   "language": "python",
   "name": "python3"
  },
  "language_info": {
   "codemirror_mode": {
    "name": "ipython",
    "version": 3
   },
   "file_extension": ".py",
   "mimetype": "text/x-python",
   "name": "python",
   "nbconvert_exporter": "python",
   "pygments_lexer": "ipython3",
   "version": "3.4.5"
  }
 },
 "nbformat": 4,
 "nbformat_minor": 0
}
