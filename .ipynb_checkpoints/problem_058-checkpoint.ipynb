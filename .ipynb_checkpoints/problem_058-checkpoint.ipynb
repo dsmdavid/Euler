{
 "cells": [
  {
   "cell_type": "markdown",
   "metadata": {},
   "source": [
    "It is possible to show that the square root of two can be expressed as an infinite continued fraction.\n",
    "\n",
    "$\\sqrt{2}$ = 1 + 1/(2 + 1/(2 + 1/(2 + ... ))) = 1.414213...\n",
    "\n",
    "By expanding this for the first four iterations, we get:\n",
    "\n",
    "1 + 1/2 = 3/2 = 1.5\n",
    "\n",
    "1 + 1/(2 + 1/2) = 7/5 = 1.4\n",
    "\n",
    "1 + 1/(2 + 1/(2 + 1/2)) = 17/12 = 1.41666...\n",
    "\n",
    "1 + 1/(2 + 1/(2 + 1/(2 + 1/2))) = 41/29 = 1.41379...\n",
    "\n",
    "The next three expansions are 99/70, 239/169, and 577/408, but the eighth expansion, 1393/985, is the first example where the number of digits in the numerator exceeds the number of digits in the denominator.\n",
    "\n",
    "In the first one-thousand expansions, how many fractions contain a numerator with more digits than denominator?"
   ]
  },
  {
   "cell_type": "markdown",
   "metadata": {},
   "source": [
    "#Approach:\n",
    "Rule creation\n",
    "Dictionary for cache\n"
   ]
  },
  {
   "cell_type": "code",
   "execution_count": 4,
   "metadata": {
    "collapsed": true
   },
   "outputs": [],
   "source": [
    "import numpy as np"
   ]
  },
  {
   "cell_type": "code",
   "execution_count": 7,
   "metadata": {
    "collapsed": false
   },
   "outputs": [],
   "source": [
    "def suma(fraction, val):\n",
    "    '''Receives a tuple (numerator,denominator) and a value to add. All integers.'''\n",
    "    num = fraction[0]\n",
    "    den = fraction[1]\n",
    "    if type(num) == type(den) == type(val) == type(int(1)):\n",
    "        new_num = den * val + num\n",
    "        return (new_num, den)\n",
    "    else:\n",
    "        raise ValueError('Need all integers')\n",
    "\n",
    "def invert(fraction):\n",
    "    return (fraction[1],fraction[0])"
   ]
  },
  {
   "cell_type": "code",
   "execution_count": 21,
   "metadata": {
    "collapsed": true
   },
   "outputs": [],
   "source": [
    "dict_its = {}"
   ]
  },
  {
   "cell_type": "code",
   "execution_count": 27,
   "metadata": {
    "collapsed": true
   },
   "outputs": [],
   "source": [
    "def iter_me(n, dict_its):\n",
    "    fraction = (1,2)\n",
    "    for i in range(n):\n",
    "        if not dict_its.get(i):\n",
    "            fraction =invert(suma(fraction,2))\n",
    "            dict_its[i] = fraction\n",
    "        else:\n",
    "            fraction = dict_its.get(i)\n",
    "            \n",
    "    fraction = suma(fraction, 1)\n",
    "    return fraction, dict_its"
   ]
  },
  {
   "cell_type": "code",
   "execution_count": 36,
   "metadata": {
    "collapsed": false
   },
   "outputs": [
    {
     "name": "stdout",
     "output_type": "stream",
     "text": [
      "(1393, 985)\n"
     ]
    }
   ],
   "source": [
    "result, dict_its = iter_me(7,dict_its)\n",
    "print(result)"
   ]
  },
  {
   "cell_type": "code",
   "execution_count": 37,
   "metadata": {
    "collapsed": false
   },
   "outputs": [],
   "source": [
    "def islonger(fraction):\n",
    "    return len(str(fraction[0])) > len(str(fraction[1]))"
   ]
  },
  {
   "cell_type": "code",
   "execution_count": 47,
   "metadata": {
    "collapsed": false
   },
   "outputs": [
    {
     "name": "stdout",
     "output_type": "stream",
     "text": [
      "153 1.248049020767212\n"
     ]
    }
   ],
   "source": [
    "st = time.time()\n",
    "dict_its = {}\n",
    "ct= 0\n",
    "for number in range(0,1001):\n",
    "    result, dict_its = iter_me(number, dict_its)\n",
    "    if islonger(result):\n",
    "        ct +=1\n",
    "ct\n",
    "end = time.time()\n",
    "print(ct, end-st)"
   ]
  },
  {
   "cell_type": "code",
   "execution_count": 41,
   "metadata": {
    "collapsed": false
   },
   "outputs": [],
   "source": [
    "#without dict_cache:\n",
    "def iter_me2(n):\n",
    "    fraction = (1,2)\n",
    "    for i in range(n):\n",
    "        fraction =invert(suma(fraction,2))\n",
    "            \n",
    "    fraction = suma(fraction, 1)\n",
    "    return fraction"
   ]
  },
  {
   "cell_type": "code",
   "execution_count": 45,
   "metadata": {
    "collapsed": false
   },
   "outputs": [
    {
     "name": "stdout",
     "output_type": "stream",
     "text": [
      "153 4.801342010498047\n"
     ]
    }
   ],
   "source": [
    "st = time.time()\n",
    "ct2= 0\n",
    "for number in range(0,1001):\n",
    "    if islonger(iter_me2(number)):\n",
    "        ct2 +=1\n",
    "ct2\n",
    "end= time.time()\n",
    "print(ct2, end-st)"
   ]
  },
  {
   "cell_type": "code",
   "execution_count": 44,
   "metadata": {
    "collapsed": true
   },
   "outputs": [],
   "source": [
    "import time"
   ]
  },
  {
   "cell_type": "code",
   "execution_count": 49,
   "metadata": {
    "collapsed": false
   },
   "outputs": [
    {
     "name": "stdout",
     "output_type": "stream",
     "text": [
      "153 0.2516350746154785\n"
     ]
    }
   ],
   "source": [
    "\n",
    "class br:\n",
    "    def __init__(self, num, dem=1):\n",
    "        self.num = num\n",
    "        self.dem = dem\n",
    "\n",
    "    def __mul__(self, other):\n",
    "        return br(self.num*other.num, self.dem*other.dem)\n",
    "\n",
    "    def __str__(self):\n",
    "        return \"%d\\n---\\n%d\\n\" % (self.num, self.dem)\n",
    "\n",
    "    def __div__(self, other):\n",
    "        return br(self.num*other.dem, self.dem*other.num)\n",
    "\n",
    "    def __add__(self, other):\n",
    "        s = self * br(other.dem)\n",
    "        o = other * br(self.dem)\n",
    "        return br(s.num+o.num, s.dem*o.dem)\n",
    "    def numbiggerdem(self):\n",
    "        return len(str(self.num)) > len(str(self.dem))\n",
    "st = time.time()\n",
    "b = br(1,2)\n",
    "c = 0\n",
    "for i in range(1001):\n",
    "    if (br(1)+b).numbiggerdem():\n",
    "        c+=1\n",
    "        #print (br(1)+b)\n",
    "    b = br(1).__div__((br(2)+b))\n",
    "\n",
    "end = time.time()    \n",
    "print(c, end-st)\n",
    "\n",
    "\n"
   ]
  },
  {
   "cell_type": "code",
   "execution_count": null,
   "metadata": {
    "collapsed": true
   },
   "outputs": [],
   "source": []
  }
 ],
 "metadata": {
  "kernelspec": {
   "display_name": "Python 3",
   "language": "python",
   "name": "python3"
  },
  "language_info": {
   "codemirror_mode": {
    "name": "ipython",
    "version": 3
   },
   "file_extension": ".py",
   "mimetype": "text/x-python",
   "name": "python",
   "nbconvert_exporter": "python",
   "pygments_lexer": "ipython3",
   "version": "3.4.4"
  }
 },
 "nbformat": 4,
 "nbformat_minor": 0
}
