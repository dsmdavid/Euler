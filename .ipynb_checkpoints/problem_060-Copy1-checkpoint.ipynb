{
 "cells": [
  {
   "cell_type": "markdown",
   "metadata": {},
   "source": [
    "3, 7, 109, 673 are primes.\n",
    "Concatenating any two of them, results in another prime:\n",
    "3 - 7 -- 37; 7 - 3 -- 73; 673-3 -- 6733; 3 - 673 -- 3673; 109673; ...\n",
    "The sum of these primes (3 + 7 + 109 +673 = 792) is the lowest sum of four primes with this property.\n",
    "\n",
    "Find the lowest sum for a set of five primes for which any two primes concateamte to produce another prime."
   ]
  },
  {
   "cell_type": "code",
   "execution_count": null,
   "metadata": {
    "collapsed": true
   },
   "outputs": [],
   "source": []
  },
  {
   "cell_type": "markdown",
   "metadata": {},
   "source": [
    "#Approach:\n",
    "####1. Calculate primes up to 100 000 000 to be used as the matching set.\n",
    "####2. Calculate primes up to  10 000 to be used as the testing set\n",
    "####3. Start testing until one set candidate appears\n",
    "#####3.1 Randomly select 5 primes (not 2, not 5)\n",
    "#####3.2 Test if the set fulfills the criteria\n",
    "####4. For the remainder of potential combinations without repetition, calculate the sum, discard those that either have been tested already or whose sum is greater.\n",
    "####5. Test the rest until all have been cleared."
   ]
  },
  {
   "cell_type": "code",
   "execution_count": 1,
   "metadata": {
    "collapsed": false
   },
   "outputs": [],
   "source": [
    "import numpy as np\n",
    "import eulertools\n",
    "import itertools"
   ]
  },
  {
   "cell_type": "code",
   "execution_count": 14,
   "metadata": {
    "collapsed": false
   },
   "outputs": [],
   "source": [
    "primes = set(eulertools.primesfrom2to(1000000))\n",
    "primes_st = set([str(x) for x in primes])\n"
   ]
  },
  {
   "cell_type": "code",
   "execution_count": 220,
   "metadata": {
    "collapsed": true
   },
   "outputs": [],
   "source": [
    "p_test = set(eulertools.primesfrom2to(10000))\n",
    "p_test_str = [str(x) for x in p_test]"
   ]
  },
  {
   "cell_type": "code",
   "execution_count": 111,
   "metadata": {
    "collapsed": true
   },
   "outputs": [],
   "source": [
    "dict_p = {}"
   ]
  },
  {
   "cell_type": "code",
   "execution_count": 112,
   "metadata": {
    "collapsed": false
   },
   "outputs": [],
   "source": [
    "for item in p_test_str:\n",
    "    strings = []\n",
    "    for elem in primes_st:\n",
    "        if item != elem:\n",
    "            if len(item) == len(elem) ==1:\n",
    "                if (item+elem) in primes_st and (elem+item) in primes_st:\n",
    "                    strings.append(elem)\n",
    "                \n",
    "            temp_ = None\n",
    "            if elem.startswith(item):\n",
    "                temp_ = elem[len(item):]\n",
    "                if (temp_ + item) in primes_st and temp_ in primes_st:\n",
    "                    strings.append(temp_)\n",
    "\n",
    "            if elem.endswith(item):\n",
    "                temp_ = elem[:len(elem) - len(item)]\n",
    "                if (item + temp_) in primes_st and temp_ in primes_st:\n",
    "                    strings.append(temp_)\n",
    "    dict_p[item] = strings"
   ]
  },
  {
   "cell_type": "code",
   "execution_count": 115,
   "metadata": {
    "collapsed": false
   },
   "outputs": [
    {
     "data": {
      "text/plain": [
       "True"
      ]
     },
     "execution_count": 115,
     "metadata": {},
     "output_type": "execute_result"
    }
   ],
   "source": [
    "'7' in dict_p['3']"
   ]
  },
  {
   "cell_type": "code",
   "execution_count": 139,
   "metadata": {
    "collapsed": false
   },
   "outputs": [],
   "source": [
    "dict_tup = {}"
   ]
  },
  {
   "cell_type": "code",
   "execution_count": 138,
   "metadata": {
    "collapsed": false
   },
   "outputs": [
    {
     "data": {
      "text/plain": [
       "False"
      ]
     },
     "execution_count": 138,
     "metadata": {},
     "output_type": "execute_result"
    }
   ],
   "source": [
    "'3' in dict_p['97']"
   ]
  },
  {
   "cell_type": "code",
   "execution_count": 136,
   "metadata": {
    "collapsed": false
   },
   "outputs": [
    {
     "data": {
      "text/plain": [
       "False"
      ]
     },
     "execution_count": 136,
     "metadata": {},
     "output_type": "execute_result"
    }
   ],
   "source": [
    "973 in primes"
   ]
  },
  {
   "cell_type": "code",
   "execution_count": 133,
   "metadata": {
    "collapsed": false
   },
   "outputs": [],
   "source": [
    "item = '373'\n",
    "elem = '3'\n",
    "\n",
    "if elem.startswith(item):\n",
    "    temp_ = elem[len(item):]\n",
    "    if (temp_ + item) in primes_st and temp_ in primes_st:\n",
    "        print(temp_)\n",
    "if elem.endswith(item):\n",
    "    temp_ = elem[:len(elem) - len(item)]\n",
    "    if (item + temp_) in primes_st and temp_ in primes_st:\n",
    "        strings.append(temp_)\n"
   ]
  },
  {
   "cell_type": "code",
   "execution_count": 143,
   "metadata": {
    "collapsed": false
   },
   "outputs": [],
   "source": [
    "for key in ['53','97']:#dict_p.keys():\n",
    "    dict_ = {}\n",
    "    for item in dict_p[key]:\n",
    "        strings = []\n",
    "        for elem in dict_p[key]:\n",
    "            if item != elem:\n",
    "                if (item+elem) in primes_st and (elem+item) in primes_st:\n",
    "                    strings.append(elem)                \n",
    "                \n",
    "\n",
    "        if len(strings) >0:\n",
    "            dict_[item] = set(strings)\n",
    "    try:\n",
    "        dict_tuples[key] = dict_\n",
    "    except:\n",
    "        dict_tuples[key] = None"
   ]
  },
  {
   "cell_type": "code",
   "execution_count": 60,
   "metadata": {
    "collapsed": false
   },
   "outputs": [],
   "source": [
    "test = []\n",
    "for i in dict_tuples['53'].keys():\n",
    "    if len(dict_tuples['53'][i]) >0:\n",
    "        test.append((i,dict_tuples['53'][i]))"
   ]
  },
  {
   "cell_type": "code",
   "execution_count": 71,
   "metadata": {
    "collapsed": false
   },
   "outputs": [
    {
     "data": {
      "text/plain": [
       "624"
      ]
     },
     "execution_count": 71,
     "metadata": {},
     "output_type": "execute_result"
    }
   ],
   "source": [
    "key = '53'\n",
    "item = '419'\n",
    "elem = '4199'"
   ]
  },
  {
   "cell_type": "code",
   "execution_count": 96,
   "metadata": {
    "collapsed": false
   },
   "outputs": [
    {
     "data": {
      "text/plain": [
       "{'11': 0,\n",
       " '13': 0,\n",
       " '17': 0,\n",
       " '19': 0,\n",
       " '2': 0,\n",
       " '23': 0,\n",
       " '29': 0,\n",
       " '3': 0,\n",
       " '31': 0,\n",
       " '37': 0,\n",
       " '41': 0,\n",
       " '43': 0,\n",
       " '47': 0,\n",
       " '5': 0,\n",
       " '53': 0,\n",
       " '59': 0,\n",
       " '61': 0,\n",
       " '67': 0,\n",
       " '7': 0,\n",
       " '71': 0,\n",
       " '73': 0,\n",
       " '79': 0,\n",
       " '83': 0,\n",
       " '89': 0,\n",
       " '97': 0}"
      ]
     },
     "execution_count": 96,
     "metadata": {},
     "output_type": "execute_result"
    }
   ],
   "source": [
    "test = {}\n",
    "for i in dict_p.keys():\n",
    "    test[i] = len(dict_p[i])\n",
    "test"
   ]
  },
  {
   "cell_type": "code",
   "execution_count": 141,
   "metadata": {
    "collapsed": false
   },
   "outputs": [
    {
     "data": {
      "text/plain": [
       "19"
      ]
     },
     "execution_count": 141,
     "metadata": {},
     "output_type": "execute_result"
    }
   ],
   "source": [
    "len(dict_tuples['97'])"
   ]
  },
  {
   "cell_type": "code",
   "execution_count": 123,
   "metadata": {
    "collapsed": false
   },
   "outputs": [
    {
     "data": {
      "text/plain": [
       "{}"
      ]
     },
     "execution_count": 123,
     "metadata": {},
     "output_type": "execute_result"
    }
   ],
   "source": [
    "dict_tuples['53']"
   ]
  },
  {
   "cell_type": "code",
   "execution_count": 130,
   "metadata": {
    "collapsed": false
   },
   "outputs": [
    {
     "data": {
      "text/plain": [
       "False"
      ]
     },
     "execution_count": 130,
     "metadata": {},
     "output_type": "execute_result"
    }
   ],
   "source": [
    "'973' in primes_st"
   ]
  },
  {
   "cell_type": "code",
   "execution_count": 146,
   "metadata": {
    "collapsed": false
   },
   "outputs": [
    {
     "data": {
      "text/plain": [
       "True"
      ]
     },
     "execution_count": 146,
     "metadata": {},
     "output_type": "execute_result"
    }
   ],
   "source": [
    "971039 in primes"
   ]
  },
  {
   "cell_type": "code",
   "execution_count": 149,
   "metadata": {
    "collapsed": false
   },
   "outputs": [
    {
     "ename": "KeyboardInterrupt",
     "evalue": "",
     "output_type": "error",
     "traceback": [
      "\u001b[1;31m---------------------------------------------------------------------------\u001b[0m",
      "\u001b[1;31mKeyboardInterrupt\u001b[0m                         Traceback (most recent call last)",
      "\u001b[1;32m<ipython-input-149-0a1008e13b9a>\u001b[0m in \u001b[0;36m<module>\u001b[1;34m()\u001b[0m\n\u001b[0;32m      9\u001b[0m                         \u001b[1;32mif\u001b[0m \u001b[1;33m(\u001b[0m\u001b[0mi3\u001b[0m\u001b[1;33m+\u001b[0m\u001b[0mi1\u001b[0m\u001b[1;33m)\u001b[0m \u001b[1;32min\u001b[0m \u001b[0mprimes_st\u001b[0m \u001b[1;32mand\u001b[0m \u001b[1;33m(\u001b[0m\u001b[0mi1\u001b[0m\u001b[1;33m+\u001b[0m\u001b[0mi3\u001b[0m\u001b[1;33m)\u001b[0m \u001b[1;32min\u001b[0m \u001b[0mprimes_st\u001b[0m \u001b[1;32mand\u001b[0m \u001b[1;33m(\u001b[0m\u001b[0mi2\u001b[0m\u001b[1;33m+\u001b[0m\u001b[0mi3\u001b[0m\u001b[1;33m)\u001b[0m \u001b[1;32min\u001b[0m \u001b[0mprimes_st\u001b[0m \u001b[1;32mand\u001b[0m \u001b[1;33m(\u001b[0m\u001b[0mi3\u001b[0m\u001b[1;33m+\u001b[0m\u001b[0mi2\u001b[0m\u001b[1;33m)\u001b[0m \u001b[1;32min\u001b[0m \u001b[0mprimes_st\u001b[0m\u001b[1;33m:\u001b[0m\u001b[1;33m\u001b[0m\u001b[0m\n\u001b[0;32m     10\u001b[0m                             \u001b[1;32mfor\u001b[0m \u001b[0mi4\u001b[0m \u001b[1;32min\u001b[0m \u001b[0mprimes_st\u001b[0m\u001b[1;33m:\u001b[0m\u001b[1;33m\u001b[0m\u001b[0m\n\u001b[1;32m---> 11\u001b[1;33m                                 \u001b[1;32mif\u001b[0m \u001b[0mi4\u001b[0m \u001b[1;33m!=\u001b[0m \u001b[0mi1\u001b[0m \u001b[1;32mand\u001b[0m \u001b[0mi4\u001b[0m \u001b[1;33m!=\u001b[0m \u001b[0mi2\u001b[0m \u001b[1;32mand\u001b[0m \u001b[0mi4\u001b[0m \u001b[1;33m!=\u001b[0m \u001b[0mi3\u001b[0m\u001b[1;33m:\u001b[0m\u001b[1;33m\u001b[0m\u001b[0m\n\u001b[0m\u001b[0;32m     12\u001b[0m                                     \u001b[1;32mif\u001b[0m \u001b[1;33m(\u001b[0m\u001b[0mi4\u001b[0m\u001b[1;33m+\u001b[0m\u001b[0mi1\u001b[0m\u001b[1;33m)\u001b[0m \u001b[1;32min\u001b[0m \u001b[0mprimes_st\u001b[0m \u001b[1;32mand\u001b[0m \u001b[1;33m(\u001b[0m\u001b[0mi1\u001b[0m\u001b[1;33m+\u001b[0m\u001b[0mi4\u001b[0m\u001b[1;33m)\u001b[0m \u001b[1;32min\u001b[0m \u001b[0mprimes_st\u001b[0m \u001b[1;32mand\u001b[0m \u001b[1;33m(\u001b[0m\u001b[0mi4\u001b[0m\u001b[1;33m+\u001b[0m\u001b[0mi2\u001b[0m\u001b[1;33m)\u001b[0m \u001b[1;32min\u001b[0m \u001b[0mprimes_st\u001b[0m \u001b[1;32mand\u001b[0m                                     \u001b[1;33m(\u001b[0m\u001b[0mi2\u001b[0m\u001b[1;33m+\u001b[0m\u001b[0mi4\u001b[0m\u001b[1;33m)\u001b[0m \u001b[1;32min\u001b[0m \u001b[0mprimes_st\u001b[0m \u001b[1;32mand\u001b[0m \u001b[1;33m(\u001b[0m\u001b[0mi4\u001b[0m\u001b[1;33m+\u001b[0m\u001b[0mi3\u001b[0m\u001b[1;33m)\u001b[0m \u001b[1;32min\u001b[0m \u001b[0mprimes_st\u001b[0m \u001b[1;32mand\u001b[0m \u001b[1;33m(\u001b[0m\u001b[0mi3\u001b[0m\u001b[1;33m+\u001b[0m\u001b[0mi4\u001b[0m\u001b[1;33m)\u001b[0m \u001b[1;32min\u001b[0m \u001b[0mprimes_st\u001b[0m\u001b[1;33m:\u001b[0m\u001b[1;33m\u001b[0m\u001b[0m\n\u001b[0;32m     13\u001b[0m                                         \u001b[0mtest3\u001b[0m\u001b[1;33m.\u001b[0m\u001b[0mappend\u001b[0m\u001b[1;33m(\u001b[0m\u001b[1;33m(\u001b[0m\u001b[0mi1\u001b[0m\u001b[1;33m,\u001b[0m\u001b[0mi2\u001b[0m\u001b[1;33m,\u001b[0m\u001b[0mi3\u001b[0m\u001b[1;33m,\u001b[0m\u001b[0mi4\u001b[0m\u001b[1;33m)\u001b[0m\u001b[1;33m)\u001b[0m\u001b[1;33m\u001b[0m\u001b[0m\n",
      "\u001b[1;31mKeyboardInterrupt\u001b[0m: "
     ]
    }
   ],
   "source": [
    "test3 = []\n",
    "\n",
    "for i1 in p_test_str:\n",
    "    for i2 in p_test_str:\n",
    "        if i1 != i2:\n",
    "            if (i1+i2) in primes_st and (i2+i1) in primes_st:\n",
    "                for i3 in p_test_str:\n",
    "                    if i3 != i1 and i3 != i2:\n",
    "                        if (i3+i1) in primes_st and (i1+i3) in primes_st and (i2+i3) in primes_st and (i3+i2) in primes_st:\n",
    "                            for i4 in p_test_str:\n",
    "                                if i4 != i1 and i4 != i2 and i4 != i3:\n",
    "                                    if (i4+i1) in primes_st and (i1+i4) in primes_st and (i4+i2) in primes_st and \\\n",
    "                                    (i2+i4) in primes_st and (i4+i3) in primes_st and (i3+i4) in primes_st:\n",
    "                                        test3.append((i1,i2,i3,i4))"
   ]
  },
  {
   "cell_type": "code",
   "execution_count": 214,
   "metadata": {
    "collapsed": true
   },
   "outputs": [],
   "source": [
    "combs = itertools.product(test3[0][0],test3[0][1:])"
   ]
  },
  {
   "cell_type": "code",
   "execution_count": 215,
   "metadata": {
    "collapsed": false
   },
   "outputs": [
    {
     "name": "stdout",
     "output_type": "stream",
     "text": [
      "0\n",
      "1\n",
      "2\n",
      "error\n",
      "error\n",
      "end\n"
     ]
    },
    {
     "data": {
      "text/plain": [
       "5"
      ]
     },
     "execution_count": 215,
     "metadata": {},
     "output_type": "execute_result"
    }
   ],
   "source": [
    "n = 0\n",
    "pr = True\n",
    "while n < 5 and pr:\n",
    "    try:\n",
    "        pr = \n",
    "        print(n)\n",
    "    except:\n",
    "        print('error')\n",
    "    #print(n)\n",
    "    n+=1\n",
    "print('end')\n",
    "c\n",
    "n"
   ]
  },
  {
   "cell_type": "code",
   "execution_count": 217,
   "metadata": {
    "collapsed": false
   },
   "outputs": [
    {
     "name": "stdout",
     "output_type": "stream",
     "text": [
      "1 ('3', '7')\n",
      "1 ('3', '109')\n",
      "1 ('3', '673')\n",
      "1 ('7', '3')\n",
      "1 ('109', '3')\n",
      "1 ('673', '3')\n"
     ]
    },
    {
     "data": {
      "text/plain": [
       "1"
      ]
     },
     "execution_count": 217,
     "metadata": {},
     "output_type": "execute_result"
    }
   ],
   "source": [
    "test_pairs(test3[0][0],test3[0][1:])"
   ]
  },
  {
   "cell_type": "code",
   "execution_count": 218,
   "metadata": {
    "collapsed": false
   },
   "outputs": [],
   "source": [
    "def test_pairs(pairs, val):\n",
    "\n",
    "    pr = True\n",
    "    cont = True\n",
    "    \n",
    "    combs = itertools.product(pairs,val)\n",
    " \n",
    "    while pr and cont:\n",
    "        try:\n",
    "            comb = next(combs)\n",
    "            pr = pr *(comb[0]+comb[1] in primes_st)\n",
    "            #print(pr,comb)\n",
    "        except:\n",
    "            cont = False\n",
    "    \n",
    "    cont = True\n",
    "    combs = itertools.product(val, pairs)\n",
    "    \n",
    "    while pr and cont:\n",
    "        try:\n",
    "            comb = next(combs)\n",
    "            pr = pr *(comb[0]+comb[1] in primes_st)\n",
    "            #print(pr,comb)\n",
    "        except:\n",
    "            cont = False\n",
    "    return pr"
   ]
  },
  {
   "cell_type": "code",
   "execution_count": 219,
   "metadata": {
    "collapsed": true
   },
   "outputs": [],
   "source": [
    "p_test_str = ['3','7','109','673']"
   ]
  },
  {
   "cell_type": "code",
   "execution_count": null,
   "metadata": {
    "collapsed": false
   },
   "outputs": [],
   "source": [
    "test5 = []\n",
    "\n",
    "for i1 in p_test_str:\n",
    "    testing = [i1]\n",
    "    for i2 in p_test_str:\n",
    "        if i1 != i2:\n",
    "            if test_pairs(testing,[i2]):\n",
    "                testing = [i1,i2]\n",
    "                for i3 in p_test_str:\n",
    "                    if i3 not in testing:\n",
    "                        if test_pairs(testing,[i3]):\n",
    "                            testing = [i1,i2,i3]\n",
    "\n",
    "                            for i4 in p_test_str:\n",
    "                                if i4 not in testing:\n",
    "                            \n",
    "                                    if test_pairs(testing,[i4]):\n",
    "                                        testing = [i1,i2,i3,i4]\n",
    "                                        test4.append(testing)\n",
    "                                        for i5 in p_test_str:\n",
    "                                            if i5 not in testing:\n",
    "                                                if test_pairs(testing,[i5]):\n",
    "                                                    testing = [i1,i2,i3,i4,i5]\n",
    "                                                    test5.append(testing)\n",
    "                                                "
   ]
  },
  {
   "cell_type": "code",
   "execution_count": 194,
   "metadata": {
    "collapsed": false
   },
   "outputs": [
    {
     "data": {
      "text/plain": [
       "[]"
      ]
     },
     "execution_count": 194,
     "metadata": {},
     "output_type": "execute_result"
    }
   ],
   "source": [
    "test5"
   ]
  },
  {
   "cell_type": "code",
   "execution_count": 5,
   "metadata": {
    "collapsed": true
   },
   "outputs": [],
   "source": [
    "import time"
   ]
  },
  {
   "cell_type": "code",
   "execution_count": 9,
   "metadata": {
    "collapsed": false
   },
   "outputs": [
    {
     "name": "stderr",
     "output_type": "stream",
     "text": [
      "C:\\Anaconda3\\lib\\site-packages\\numpy\\core\\numeric.py:190: VisibleDeprecationWarning: using a non-integer number instead of an integer will result in an error in the future\n",
      "  a = empty(shape, dtype, order)\n",
      "C:\\Users\\sanchezmartind\\Dropbox\\python\\Euler\\eulertools.py:8: VisibleDeprecationWarning: using a non-integer number instead of an integer will result in an error in the future\n",
      "  sieve[       k*k/3     ::2*k] = False\n"
     ]
    },
    {
     "name": "stdout",
     "output_type": "stream",
     "text": [
      "(26241, 0.09999809454850327, 5248, 688590081, 52481, 999999937) 16.073400020599365\n"
     ]
    },
    {
     "name": "stderr",
     "output_type": "stream",
     "text": [
      "C:\\Users\\sanchezmartind\\Dropbox\\python\\Euler\\eulertools.py:9: VisibleDeprecationWarning: using a non-integer number instead of an integer will result in an error in the future\n",
      "  sieve[k*(k-2*(i&1)+4)/3::2*k] = False\n"
     ]
    }
   ],
   "source": [
    "# In[4]:\n",
    "start = time.time()\n",
    "primes = set(eulertools.primesfrom2to(999999999))\n",
    "\n",
    "t = alternate2(primes, 0.1)\n",
    "\n",
    "\n",
    "# In[5]:\n",
    "end = time.time()\n",
    "print(t, end-start)"
   ]
  },
  {
   "cell_type": "code",
   "execution_count": null,
   "metadata": {
    "collapsed": true
   },
   "outputs": [],
   "source": []
  }
 ],
 "metadata": {
  "kernelspec": {
   "display_name": "Python 3",
   "language": "python",
   "name": "python3"
  },
  "language_info": {
   "codemirror_mode": {
    "name": "ipython",
    "version": 3
   },
   "file_extension": ".py",
   "mimetype": "text/x-python",
   "name": "python",
   "nbconvert_exporter": "python",
   "pygments_lexer": "ipython3",
   "version": "3.4.5"
  }
 },
 "nbformat": 4,
 "nbformat_minor": 0
}
