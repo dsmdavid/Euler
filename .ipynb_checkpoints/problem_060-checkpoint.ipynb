{
 "cells": [
  {
   "cell_type": "markdown",
   "metadata": {},
   "source": [
    "3, 7, 109, 673 are primes.\n",
    "Concatenating any two of them, results in another prime:\n",
    "3 - 7 -- 37; 7 - 3 -- 73; 673-3 -- 6733; 3 - 673 -- 3673; 109673; ...\n",
    "The sum of these primes (3 + 7 + 109 +673 = 792) is the lowest sum of four primes with this property.\n",
    "\n",
    "Find the lowest sum for a set of five primes for which any two primes concateamte to produce another prime."
   ]
  },
  {
   "cell_type": "code",
   "execution_count": null,
   "metadata": {
    "collapsed": true
   },
   "outputs": [],
   "source": []
  },
  {
   "cell_type": "markdown",
   "metadata": {},
   "source": [
    "#Approach:\n",
    "####1. Calculate primes up to 100 000 000 to be used as the matching set.\n",
    "####2. Calculate primes up to  10 000 to be used as the testing set\n",
    "####3. Start testing until one set candidate appears\n",
    "#####3.1 Randomly select 5 primes (not 2, not 5)\n",
    "#####3.2 Test if the set fulfills the criteria\n",
    "####4. For the remainder of potential combinations without repetition, calculate the sum, discard those that either have been tested already or whose sum is greater.\n",
    "####5. Test the rest until all have been cleared."
   ]
  },
  {
   "cell_type": "code",
   "execution_count": 1,
   "metadata": {
    "collapsed": false
   },
   "outputs": [],
   "source": [
    "import numpy as np\n",
    "import eulertools\n",
    "import itertools"
   ]
  },
  {
   "cell_type": "code",
   "execution_count": 2,
   "metadata": {
    "collapsed": false
   },
   "outputs": [
    {
     "name": "stderr",
     "output_type": "stream",
     "text": [
      "C:\\Anaconda3\\lib\\site-packages\\numpy\\core\\numeric.py:190: VisibleDeprecationWarning: using a non-integer number instead of an integer will result in an error in the future\n",
      "  a = empty(shape, dtype, order)\n",
      "C:\\Users\\sanchezmartind\\Dropbox\\python\\Euler\\eulertools.py:8: VisibleDeprecationWarning: using a non-integer number instead of an integer will result in an error in the future\n",
      "  sieve[       k*k/3     ::2*k] = False\n",
      "C:\\Users\\sanchezmartind\\Dropbox\\python\\Euler\\eulertools.py:9: VisibleDeprecationWarning: using a non-integer number instead of an integer will result in an error in the future\n",
      "  sieve[k*(k-2*(i&1)+4)/3::2*k] = False\n"
     ]
    }
   ],
   "source": [
    "primes = set(eulertools.primesfrom2to(100000000))\n",
    "primes_st = set([str(x) for x in primes])\n"
   ]
  },
  {
   "cell_type": "code",
   "execution_count": 3,
   "metadata": {
    "collapsed": false
   },
   "outputs": [
    {
     "name": "stderr",
     "output_type": "stream",
     "text": [
      "C:\\Anaconda3\\lib\\site-packages\\numpy\\core\\numeric.py:190: VisibleDeprecationWarning: using a non-integer number instead of an integer will result in an error in the future\n",
      "  a = empty(shape, dtype, order)\n",
      "C:\\Users\\sanchezmartind\\Dropbox\\python\\Euler\\eulertools.py:8: VisibleDeprecationWarning: using a non-integer number instead of an integer will result in an error in the future\n",
      "  sieve[       k*k/3     ::2*k] = False\n",
      "C:\\Users\\sanchezmartind\\Dropbox\\python\\Euler\\eulertools.py:9: VisibleDeprecationWarning: using a non-integer number instead of an integer will result in an error in the future\n",
      "  sieve[k*(k-2*(i&1)+4)/3::2*k] = False\n"
     ]
    }
   ],
   "source": [
    "p_test = set(eulertools.primesfrom2to(1000000))\n",
    "p_test_str = [str(x) for x in p_test]"
   ]
  },
  {
   "cell_type": "code",
   "execution_count": 23,
   "metadata": {
    "collapsed": false
   },
   "outputs": [
    {
     "data": {
      "text/plain": [
       "1"
      ]
     },
     "execution_count": 23,
     "metadata": {},
     "output_type": "execute_result"
    }
   ],
   "source": [
    "first = ['3','7','109','673']\n",
    "a=['3','7']\n",
    "b= ['109']\n",
    "test_pairs(['3','7'],['109'])"
   ]
  },
  {
   "cell_type": "code",
   "execution_count": 26,
   "metadata": {
    "collapsed": false
   },
   "outputs": [
    {
     "name": "stdout",
     "output_type": "stream",
     "text": [
      "3109\n",
      "7109\n"
     ]
    }
   ],
   "source": [
    "for i in itertools.product(a,b):\n",
    "    print(i[0]+i[1])"
   ]
  },
  {
   "cell_type": "code",
   "execution_count": 6,
   "metadata": {
    "collapsed": false
   },
   "outputs": [],
   "source": [
    "def test_pairs(pairs, val):\n",
    "\n",
    "    pr = True\n",
    "    cont = True\n",
    "    \n",
    "    combs = itertools.product(pairs,val)\n",
    " \n",
    "    while pr and cont:\n",
    "        try:\n",
    "            comb = next(combs)\n",
    "            pr = pr *(comb[0]+comb[1] in primes_st)\n",
    "            #print(pr,comb)\n",
    "        except:\n",
    "            cont = False\n",
    "    \n",
    "    cont = True\n",
    "    combs = itertools.product(val, pairs)\n",
    "    \n",
    "    while pr and cont:\n",
    "        try:\n",
    "            comb = next(combs)\n",
    "            pr = pr *(comb[0]+comb[1] in primes_st)\n",
    "            #print(pr,comb)\n",
    "        except:\n",
    "            cont = False\n",
    "    return pr"
   ]
  },
  {
   "cell_type": "code",
   "execution_count": 147,
   "metadata": {
    "collapsed": false
   },
   "outputs": [
    {
     "name": "stdout",
     "output_type": "stream",
     "text": [
      "5761455 0\n"
     ]
    }
   ],
   "source": [
    "print(n, len(list_d))"
   ]
  },
  {
   "cell_type": "code",
   "execution_count": 8,
   "metadata": {
    "collapsed": true
   },
   "outputs": [],
   "source": [
    "dict_p = {}"
   ]
  },
  {
   "cell_type": "code",
   "execution_count": 9,
   "metadata": {
    "collapsed": false
   },
   "outputs": [
    {
     "ename": "KeyboardInterrupt",
     "evalue": "",
     "output_type": "error",
     "traceback": [
      "\u001b[1;31m---------------------------------------------------------------------------\u001b[0m",
      "\u001b[1;31mKeyboardInterrupt\u001b[0m                         Traceback (most recent call last)",
      "\u001b[1;32m<ipython-input-9-1d7c1f3e7aeb>\u001b[0m in \u001b[0;36m<module>\u001b[1;34m()\u001b[0m\n\u001b[0;32m     17\u001b[0m             \u001b[1;31m#    if (item + temp_) in primes_st and temp_ in primes_st:\u001b[0m\u001b[1;33m\u001b[0m\u001b[1;33m\u001b[0m\u001b[0m\n\u001b[0;32m     18\u001b[0m             \u001b[1;31m#        strings.append(temp_)\u001b[0m\u001b[1;33m\u001b[0m\u001b[1;33m\u001b[0m\u001b[0m\n\u001b[1;32m---> 19\u001b[1;33m             \u001b[0mstrings\u001b[0m \u001b[1;33m=\u001b[0m \u001b[1;33m[\u001b[0m\u001b[0mx\u001b[0m \u001b[1;32mfor\u001b[0m \u001b[0mx\u001b[0m \u001b[1;32min\u001b[0m \u001b[0mset\u001b[0m\u001b[1;33m(\u001b[0m\u001b[0mstrings\u001b[0m\u001b[1;33m)\u001b[0m\u001b[1;33m]\u001b[0m\u001b[1;33m\u001b[0m\u001b[0m\n\u001b[0m\u001b[0;32m     20\u001b[0m     \u001b[0mdict_p\u001b[0m\u001b[1;33m[\u001b[0m\u001b[0mitem\u001b[0m\u001b[1;33m]\u001b[0m \u001b[1;33m=\u001b[0m \u001b[0mstrings\u001b[0m\u001b[1;33m\u001b[0m\u001b[0m\n",
      "\u001b[1;31mKeyboardInterrupt\u001b[0m: "
     ]
    }
   ],
   "source": [
    "for item in p_test_str:\n",
    "    strings = []\n",
    "    for elem in primes_st:\n",
    "        if item != elem:\n",
    "            if len(item) == len(elem) ==1:\n",
    "                if (item+elem) in primes_st and (elem+item) in primes_st:\n",
    "                    strings.append(elem)\n",
    "                \n",
    "            temp_ = None\n",
    "            if elem.startswith(item):\n",
    "                temp_ = elem[len(item):]\n",
    "                if (temp_ + item) in primes_st and temp_ in primes_st:\n",
    "                    strings.append(temp_)\n",
    "\n",
    "            #if elem.endswith(item):\n",
    "            #    temp_ = elem[:len(elem) - len(item)]\n",
    "            #    if (item + temp_) in primes_st and temp_ in primes_st:\n",
    "            #        strings.append(temp_)\n",
    "            strings = [x for x in set(strings)]\n",
    "    dict_p[item] = strings"
   ]
  },
  {
   "cell_type": "code",
   "execution_count": 122,
   "metadata": {
    "collapsed": false
   },
   "outputs": [
    {
     "data": {
      "text/plain": [
       "58"
      ]
     },
     "execution_count": 122,
     "metadata": {},
     "output_type": "execute_result"
    }
   ],
   "source": [
    "len(dict_p['97'])"
   ]
  },
  {
   "cell_type": "code",
   "execution_count": 136,
   "metadata": {
    "collapsed": true
   },
   "outputs": [],
   "source": [
    "first = ['3','7','109','673']\n"
   ]
  },
  {
   "cell_type": "code",
   "execution_count": 7,
   "metadata": {
    "collapsed": false
   },
   "outputs": [
    {
     "ename": "NameError",
     "evalue": "name 'first' is not defined",
     "output_type": "error",
     "traceback": [
      "\u001b[1;31m---------------------------------------------------------------------------\u001b[0m",
      "\u001b[1;31mNameError\u001b[0m                                 Traceback (most recent call last)",
      "\u001b[1;32m<ipython-input-7-611b9d9960bf>\u001b[0m in \u001b[0;36m<module>\u001b[1;34m()\u001b[0m\n\u001b[0;32m      3\u001b[0m \u001b[1;32mfor\u001b[0m \u001b[0mi\u001b[0m \u001b[1;32min\u001b[0m \u001b[0mprimes_st\u001b[0m\u001b[1;33m:\u001b[0m\u001b[1;33m\u001b[0m\u001b[0m\n\u001b[0;32m      4\u001b[0m     \u001b[0mn\u001b[0m\u001b[1;33m+=\u001b[0m\u001b[1;36m1\u001b[0m\u001b[1;33m\u001b[0m\u001b[0m\n\u001b[1;32m----> 5\u001b[1;33m     \u001b[1;32mif\u001b[0m \u001b[0mtest_pairs\u001b[0m\u001b[1;33m(\u001b[0m\u001b[0mfirst\u001b[0m\u001b[1;33m,\u001b[0m \u001b[1;33m[\u001b[0m\u001b[0mi\u001b[0m\u001b[1;33m]\u001b[0m\u001b[1;33m)\u001b[0m\u001b[1;33m:\u001b[0m\u001b[1;33m\u001b[0m\u001b[0m\n\u001b[0m\u001b[0;32m      6\u001b[0m         \u001b[0mlist_d\u001b[0m\u001b[1;33m.\u001b[0m\u001b[0mappend\u001b[0m\u001b[1;33m(\u001b[0m\u001b[0mi\u001b[0m\u001b[1;33m)\u001b[0m\u001b[1;33m\u001b[0m\u001b[0m\n",
      "\u001b[1;31mNameError\u001b[0m: name 'first' is not defined"
     ]
    }
   ],
   "source": [
    "list_d = []\n",
    "n=0\n",
    "for i in primes_st:\n",
    "    n+=1\n",
    "    if test_pairs(first, [i]):\n",
    "        list_d.append(i)"
   ]
  },
  {
   "cell_type": "code",
   "execution_count": 109,
   "metadata": {
    "collapsed": true
   },
   "outputs": [],
   "source": [
    "test4 = []"
   ]
  },
  {
   "cell_type": "code",
   "execution_count": null,
   "metadata": {
    "collapsed": false
   },
   "outputs": [],
   "source": [
    "test5 = []\n",
    "\n",
    "\n",
    "for i in range(0,len(p_test_str)):\n",
    "    i1 = p_test_str.pop()\n",
    "    \n",
    "    if len(dict_p[i1])>0:\n",
    "        for i2 in dict_p[i1]:\n",
    "            testing = [i1]\n",
    "            \n",
    "            if i1 != i2:\n",
    "                \n",
    "                if test_pairs(testing,[i2]):                    \n",
    "                    for i3 in dict_p[i1]:\n",
    "                        testing = [i1,i2]\n",
    "                        if i3 not in testing:\n",
    "                            if test_pairs(testing,[i3]):\n",
    "                                for i4 in dict_p[i1]:\n",
    "                                    testing = [i1,i2,i3]\n",
    "                                    if i4 not in testing:  \n",
    "                                        if test_pairs(testing,[i4]):\n",
    "                                            #testing = [i1,i2,i3,i4]\n",
    "                                            #if sorted(testing) not in test4:\n",
    "                                            #    test4.append(sorted(testing))\n",
    "                                            for i5 in  dict_p[i1]:\n",
    "                                                testing = [i1,i2,i3,i4]\n",
    "                                                if i5 not in testing:\n",
    "                                                    if test_pairs(testing,[i5]):\n",
    "                                                        testing = sorted([i1,i2,i3,i4,i5])\n",
    "                                                        if testing not in test5:\n",
    "                                                            test5.append(testing)                                                "
   ]
  },
  {
   "cell_type": "code",
   "execution_count": 128,
   "metadata": {
    "collapsed": false
   },
   "outputs": [
    {
     "data": {
      "text/plain": [
       "'19699'"
      ]
     },
     "execution_count": 128,
     "metadata": {},
     "output_type": "execute_result"
    }
   ],
   "source": [
    "i5"
   ]
  },
  {
   "cell_type": "code",
   "execution_count": 129,
   "metadata": {
    "collapsed": false
   },
   "outputs": [
    {
     "data": {
      "text/plain": [
       "['3', '19699']"
      ]
     },
     "execution_count": 129,
     "metadata": {},
     "output_type": "execute_result"
    }
   ],
   "source": [
    "testing"
   ]
  },
  {
   "cell_type": "code",
   "execution_count": 130,
   "metadata": {
    "collapsed": false
   },
   "outputs": [
    {
     "data": {
      "text/plain": [
       "('524287', '19699', '19699', '19699', '19699')"
      ]
     },
     "execution_count": 130,
     "metadata": {},
     "output_type": "execute_result"
    }
   ],
   "source": [
    "i1,i2,i3,i4,i5"
   ]
  },
  {
   "cell_type": "code",
   "execution_count": null,
   "metadata": {
    "collapsed": false
   },
   "outputs": [],
   "source": [
    "print(len(test5))"
   ]
  },
  {
   "cell_type": "code",
   "execution_count": 71,
   "metadata": {
    "collapsed": false
   },
   "outputs": [
    {
     "name": "stdout",
     "output_type": "stream",
     "text": [
      "{'109', '673', '3', '7'} \n",
      " {'37', '67', '2377', '3'} \n",
      " {'109', '673', '3', '7'}\n"
     ]
    }
   ],
   "source": [
    "print(a, '\\n',b,'\\n',c)"
   ]
  },
  {
   "cell_type": "code",
   "execution_count": 72,
   "metadata": {
    "collapsed": false
   },
   "outputs": [
    {
     "ename": "TypeError",
     "evalue": "unhashable type: 'set'",
     "output_type": "error",
     "traceback": [
      "\u001b[1;31m---------------------------------------------------------------------------\u001b[0m",
      "\u001b[1;31mTypeError\u001b[0m                                 Traceback (most recent call last)",
      "\u001b[1;32m<ipython-input-72-4be030ec23e3>\u001b[0m in \u001b[0;36m<module>\u001b[1;34m()\u001b[0m\n\u001b[0;32m      1\u001b[0m \u001b[0md\u001b[0m \u001b[1;33m=\u001b[0m \u001b[0mset\u001b[0m\u001b[1;33m(\u001b[0m\u001b[1;33m)\u001b[0m\u001b[1;33m\u001b[0m\u001b[0m\n\u001b[1;32m----> 2\u001b[1;33m \u001b[0md\u001b[0m\u001b[1;33m.\u001b[0m\u001b[0madd\u001b[0m\u001b[1;33m(\u001b[0m\u001b[0ma\u001b[0m\u001b[1;33m)\u001b[0m\u001b[1;33m\u001b[0m\u001b[0m\n\u001b[0m",
      "\u001b[1;31mTypeError\u001b[0m: unhashable type: 'set'"
     ]
    }
   ],
   "source": [
    "d = set()\n",
    "d.add(a)"
   ]
  },
  {
   "cell_type": "code",
   "execution_count": 126,
   "metadata": {
    "collapsed": false
   },
   "outputs": [
    {
     "data": {
      "text/plain": [
       "0"
      ]
     },
     "execution_count": 126,
     "metadata": {},
     "output_type": "execute_result"
    }
   ],
   "source": [
    "len(p_test_str)"
   ]
  },
  {
   "cell_type": "code",
   "execution_count": 57,
   "metadata": {
    "collapsed": false
   },
   "outputs": [
    {
     "data": {
      "text/plain": [
       "True"
      ]
     },
     "execution_count": 57,
     "metadata": {},
     "output_type": "execute_result"
    }
   ],
   "source": [
    "'7' in dict_p['3']"
   ]
  },
  {
   "cell_type": "code",
   "execution_count": 59,
   "metadata": {
    "collapsed": false
   },
   "outputs": [
    {
     "data": {
      "text/plain": [
       "1"
      ]
     },
     "execution_count": 59,
     "metadata": {},
     "output_type": "execute_result"
    }
   ],
   "source": [
    "test_pairs(['3'],['7'])"
   ]
  },
  {
   "cell_type": "code",
   "execution_count": 33,
   "metadata": {
    "collapsed": false
   },
   "outputs": [
    {
     "name": "stdout",
     "output_type": "stream",
     "text": [
      "succeed\n"
     ]
    }
   ],
   "source": [
    "if test_pairs(['3','7','109'],['673']):\n",
    "    print('succeed')"
   ]
  },
  {
   "cell_type": "code",
   "execution_count": 50,
   "metadata": {
    "collapsed": false
   },
   "outputs": [
    {
     "data": {
      "text/plain": [
       "1"
      ]
     },
     "execution_count": 50,
     "metadata": {},
     "output_type": "execute_result"
    }
   ],
   "source": [
    "test_pairs(test4[0][0:3], [test4[0][3]])"
   ]
  },
  {
   "cell_type": "code",
   "execution_count": 47,
   "metadata": {
    "collapsed": false
   },
   "outputs": [
    {
     "data": {
      "text/plain": [
       "1"
      ]
     },
     "execution_count": 47,
     "metadata": {},
     "output_type": "execute_result"
    }
   ],
   "source": [
    "test_pairs(['23','311','677'],['827'])"
   ]
  },
  {
   "cell_type": "code",
   "execution_count": null,
   "metadata": {
    "collapsed": false
   },
   "outputs": [],
   "source": [
    "with open('C:\\\\test.txt','w') as f:\n",
    "    f.write('\\n'.join(test5))\n",
    "    #for group in test5:\n",
    "     #   f.write(group)#  f.write('\\n')"
   ]
  },
  {
   "cell_type": "code",
   "execution_count": 5,
   "metadata": {
    "collapsed": true
   },
   "outputs": [],
   "source": [
    "import time"
   ]
  },
  {
   "cell_type": "code",
   "execution_count": 9,
   "metadata": {
    "collapsed": false
   },
   "outputs": [
    {
     "name": "stderr",
     "output_type": "stream",
     "text": [
      "C:\\Anaconda3\\lib\\site-packages\\numpy\\core\\numeric.py:190: VisibleDeprecationWarning: using a non-integer number instead of an integer will result in an error in the future\n",
      "  a = empty(shape, dtype, order)\n",
      "C:\\Users\\sanchezmartind\\Dropbox\\python\\Euler\\eulertools.py:8: VisibleDeprecationWarning: using a non-integer number instead of an integer will result in an error in the future\n",
      "  sieve[       k*k/3     ::2*k] = False\n"
     ]
    },
    {
     "name": "stdout",
     "output_type": "stream",
     "text": [
      "(26241, 0.09999809454850327, 5248, 688590081, 52481, 999999937) 16.073400020599365\n"
     ]
    },
    {
     "name": "stderr",
     "output_type": "stream",
     "text": [
      "C:\\Users\\sanchezmartind\\Dropbox\\python\\Euler\\eulertools.py:9: VisibleDeprecationWarning: using a non-integer number instead of an integer will result in an error in the future\n",
      "  sieve[k*(k-2*(i&1)+4)/3::2*k] = False\n"
     ]
    }
   ],
   "source": [
    "# In[4]:\n",
    "start = time.time()\n",
    "primes = set(eulertools.primesfrom2to(999999999))\n",
    "\n",
    "t = alternate2(primes, 0.1)\n",
    "\n",
    "\n",
    "# In[5]:\n",
    "end = time.time()\n",
    "print(t, end-start)"
   ]
  },
  {
   "cell_type": "code",
   "execution_count": 15,
   "metadata": {
    "collapsed": false
   },
   "outputs": [
    {
     "name": "stderr",
     "output_type": "stream",
     "text": [
      "C:\\Anaconda3\\lib\\site-packages\\numpy\\core\\numeric.py:190: VisibleDeprecationWarning: using a non-integer number instead of an integer will result in an error in the future\n",
      "  a = empty(shape, dtype, order)\n",
      "C:\\Users\\sanchezmartind\\Dropbox\\python\\Euler\\eulertools.py:8: VisibleDeprecationWarning: using a non-integer number instead of an integer will result in an error in the future\n",
      "  sieve[       k*k/3     ::2*k] = False\n",
      "C:\\Users\\sanchezmartind\\Dropbox\\python\\Euler\\eulertools.py:9: VisibleDeprecationWarning: using a non-integer number instead of an integer will result in an error in the future\n",
      "  sieve[k*(k-2*(i&1)+4)/3::2*k] = False\n"
     ]
    }
   ],
   "source": [
    "p_test1 = eulertools.primesfrom2to(100000)\n",
    "p_test = set(p_test1)\n",
    "p_test_str = [str(x) for x in p_test]"
   ]
  },
  {
   "cell_type": "code",
   "execution_count": 10,
   "metadata": {
    "collapsed": false
   },
   "outputs": [
    {
     "ename": "KeyboardInterrupt",
     "evalue": "",
     "output_type": "error",
     "traceback": [
      "\u001b[1;31m---------------------------------------------------------------------------\u001b[0m",
      "\u001b[1;31mKeyboardInterrupt\u001b[0m                         Traceback (most recent call last)",
      "\u001b[1;32m<ipython-input-10-d29e4fc86386>\u001b[0m in \u001b[0;36m<module>\u001b[1;34m()\u001b[0m\n\u001b[0;32m      9\u001b[0m                 \u001b[1;32mfor\u001b[0m \u001b[0mi3\u001b[0m \u001b[1;32min\u001b[0m \u001b[0mp_test_str\u001b[0m\u001b[1;33m:\u001b[0m\u001b[1;33m\u001b[0m\u001b[0m\n\u001b[0;32m     10\u001b[0m                     \u001b[1;32mif\u001b[0m \u001b[0mi3\u001b[0m \u001b[1;32mnot\u001b[0m \u001b[1;32min\u001b[0m \u001b[0mtesting\u001b[0m\u001b[1;33m:\u001b[0m\u001b[1;33m\u001b[0m\u001b[0m\n\u001b[1;32m---> 11\u001b[1;33m                         \u001b[1;32mif\u001b[0m \u001b[0mtest_pairs\u001b[0m\u001b[1;33m(\u001b[0m\u001b[0mtesting\u001b[0m\u001b[1;33m,\u001b[0m\u001b[1;33m[\u001b[0m\u001b[0mi3\u001b[0m\u001b[1;33m]\u001b[0m\u001b[1;33m)\u001b[0m\u001b[1;33m:\u001b[0m\u001b[1;33m\u001b[0m\u001b[0m\n\u001b[0m\u001b[0;32m     12\u001b[0m                             \u001b[0mtesting\u001b[0m \u001b[1;33m=\u001b[0m \u001b[1;33m[\u001b[0m\u001b[0mi1\u001b[0m\u001b[1;33m,\u001b[0m\u001b[0mi2\u001b[0m\u001b[1;33m,\u001b[0m\u001b[0mi3\u001b[0m\u001b[1;33m]\u001b[0m\u001b[1;33m\u001b[0m\u001b[0m\n\u001b[0;32m     13\u001b[0m \u001b[1;33m\u001b[0m\u001b[0m\n",
      "\u001b[1;31mKeyboardInterrupt\u001b[0m: "
     ]
    }
   ],
   "source": [
    "test4 = []\n",
    "minn = sum(p_test[-4:])\n",
    "for i1 in p_test_str:\n",
    "    testing = [i1]\n",
    "    for i2 in p_test_str:\n",
    "        if i1 != i2:\n",
    "            if test_pairs(testing,[i2]):\n",
    "                testing = [i1,i2]\n",
    "                for i3 in p_test_str:\n",
    "                    if i3 not in testing:\n",
    "                        if test_pairs(testing,[i3]):\n",
    "                            testing = [i1,i2,i3]\n",
    "\n",
    "                            for i4 in p_test_str:\n",
    "                                if i4 not in testing:\n",
    "                            \n",
    "                                    if test_pairs(testing,[i4]):\n",
    "                                        testing = [i1,i2,i3,i4]\n",
    "                                        if sorted(testing) not in test4:\n",
    "                                            test4.append(sorted(testing))\n",
    "                                            if sum(testing) < minn:\n",
    "                                                minn = testing\n",
    "\n",
    "                                                "
   ]
  },
  {
   "cell_type": "code",
   "execution_count": 20,
   "metadata": {
    "collapsed": false
   },
   "outputs": [
    {
     "ename": "TypeError",
     "evalue": "unsupported operand type(s) for +: 'int' and 'str'",
     "output_type": "error",
     "traceback": [
      "\u001b[1;31m---------------------------------------------------------------------------\u001b[0m",
      "\u001b[1;31mTypeError\u001b[0m                                 Traceback (most recent call last)",
      "\u001b[1;32m<ipython-input-20-65056c8df484>\u001b[0m in \u001b[0;36m<module>\u001b[1;34m()\u001b[0m\n\u001b[0;32m      1\u001b[0m \u001b[1;32mfor\u001b[0m \u001b[0mi\u001b[0m \u001b[1;32min\u001b[0m \u001b[0mtest4\u001b[0m\u001b[1;33m:\u001b[0m\u001b[1;33m\u001b[0m\u001b[0m\n\u001b[1;32m----> 2\u001b[1;33m     \u001b[0mprint\u001b[0m\u001b[1;33m(\u001b[0m\u001b[0msum\u001b[0m\u001b[1;33m(\u001b[0m\u001b[0mi\u001b[0m\u001b[1;33m)\u001b[0m\u001b[1;33m)\u001b[0m\u001b[1;33m\u001b[0m\u001b[0m\n\u001b[0m",
      "\u001b[1;31mTypeError\u001b[0m: unsupported operand type(s) for +: 'int' and 'str'"
     ]
    }
   ],
   "source": [
    "for i in test4:\n",
    "    print(sum(i))"
   ]
  },
  {
   "cell_type": "code",
   "execution_count": 13,
   "metadata": {
    "collapsed": false
   },
   "outputs": [
    {
     "data": {
      "text/plain": [
       "True"
      ]
     },
     "execution_count": 13,
     "metadata": {},
     "output_type": "execute_result"
    }
   ],
   "source": [
    "3109 in primes"
   ]
  },
  {
   "cell_type": "code",
   "execution_count": 16,
   "metadata": {
    "collapsed": false
   },
   "outputs": [],
   "source": [
    "minn = sum(p_test1[-4:])"
   ]
  },
  {
   "cell_type": "code",
   "execution_count": 17,
   "metadata": {
    "collapsed": false
   },
   "outputs": [
    {
     "data": {
      "text/plain": [
       "399912"
      ]
     },
     "execution_count": 17,
     "metadata": {},
     "output_type": "execute_result"
    }
   ],
   "source": [
    "minn"
   ]
  },
  {
   "cell_type": "code",
   "execution_count": 19,
   "metadata": {
    "collapsed": false
   },
   "outputs": [
    {
     "data": {
      "text/plain": [
       "array([99961, 99971, 99989, 99991], dtype=int64)"
      ]
     },
     "execution_count": 19,
     "metadata": {},
     "output_type": "execute_result"
    }
   ],
   "source": [
    "p_test1[-4:]"
   ]
  },
  {
   "cell_type": "code",
   "execution_count": null,
   "metadata": {
    "collapsed": true
   },
   "outputs": [],
   "source": []
  }
 ],
 "metadata": {
  "kernelspec": {
   "display_name": "Python 3",
   "language": "python",
   "name": "python3"
  },
  "language_info": {
   "codemirror_mode": {
    "name": "ipython",
    "version": 3
   },
   "file_extension": ".py",
   "mimetype": "text/x-python",
   "name": "python",
   "nbconvert_exporter": "python",
   "pygments_lexer": "ipython3",
   "version": "3.4.5"
  }
 },
 "nbformat": 4,
 "nbformat_minor": 0
}
