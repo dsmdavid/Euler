{
 "cells": [
  {
   "cell_type": "markdown",
   "metadata": {},
   "source": [
    "Consider the fraction, n/d, where n and d are positive integers. If n<d and HCF(n,d)=1, it is called a reduced proper fraction.\n",
    "\n",
    "If we list the set of reduced proper fractions for d ≤ 8 in ascending order of size, we get:\n",
    "\n",
    "1/8, 1/7, 1/6, 1/5, 1/4, 2/7, 1/3, 3/8, 2/5, 3/7, 1/2, 4/7, 3/5, 5/8, 2/3, 5/7, 3/4, 4/5, 5/6, 6/7, 7/8\n",
    "\n",
    "It can be seen that 2/5 is the fraction immediately to the left of 3/7.\n",
    "\n",
    "By listing the set of reduced proper fractions for d ≤ 1,000,000 in ascending order of size, find the numerator of the fraction immediately to the left of 3/7."
   ]
  },
  {
   "cell_type": "markdown",
   "metadata": {
    "collapsed": true
   },
   "source": [
    "#Approach:\n",
    "##1. Use scipy.\n",
    "##2. Create set of fractions.\n",
    "##3. Order the set.\n",
    "##4. Find position for 3/7\n",
    "##5. Find position to the left\n"
   ]
  },
  {
   "cell_type": "code",
   "execution_count": 1,
   "metadata": {
    "collapsed": false
   },
   "outputs": [],
   "source": [
    "from fractions import Fraction\n",
    "#import eulertools\n",
    "#import itertools\n",
    "import time\n",
    "\n",
    "#from collections import defaultdict"
   ]
  },
  {
   "cell_type": "code",
   "execution_count": 2,
   "metadata": {
    "collapsed": false
   },
   "outputs": [
    {
     "name": "stdout",
     "output_type": "stream",
     "text": [
      "428571/1000000\n",
      "428570/999997\n",
      "0.027072906494140625\n"
     ]
    }
   ],
   "source": [
    "start = time.time()\n",
    "maxim = 1000001\n",
    "fraction_problem = Fraction(3,7)\n",
    "float_input = str(float(3/7))\n",
    "\n",
    "test = float_input[:]\n",
    "result = Fraction(3,7)\n",
    "while result == fraction_problem:\n",
    "    test = test[:-1]\n",
    "    result = Fraction(test).limit_denominator(1000000)\n",
    "print(result)\n",
    "new_test = float_input[0:len(test)] + str(int(float_input[len(test):len(test)+1])-1)\n",
    "while result != fraction_problem:\n",
    "    old = result*1\n",
    "    result = Fraction(new_test).limit_denominator(1000000)\n",
    "    if new_test[-1] != '9':\n",
    "        new_test = new_test[:-1] + str( int(new_test[-1])+1)\n",
    "    elif new_test[-1] == '9':\n",
    "        new_test = float_input[0:len(new_test)] + str(int(float_input[len(new_test):len(new_test)+1])+1)\n",
    "\n",
    "print(old)    \n",
    "end = time.time()\n",
    "\n",
    "print(end-start)"
   ]
  }
 ],
 "metadata": {
  "kernelspec": {
   "display_name": "Python 3",
   "language": "python",
   "name": "python3"
  },
  "language_info": {
   "codemirror_mode": {
    "name": "ipython",
    "version": 3
   },
   "file_extension": ".py",
   "mimetype": "text/x-python",
   "name": "python",
   "nbconvert_exporter": "python",
   "pygments_lexer": "ipython3",
   "version": "3.4.5"
  }
 },
 "nbformat": 4,
 "nbformat_minor": 0
}
