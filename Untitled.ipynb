{
 "cells": [
  {
   "cell_type": "code",
   "execution_count": 1,
   "metadata": {
    "collapsed": false
   },
   "outputs": [
    {
     "name": "stdout",
     "output_type": "stream",
     "text": [
      "len(primes)\t 78498\n",
      "primes[len(primes)/2]\t 470303\n",
      "primes[len(primes)-1]\t 999983\n",
      "997651 543\n",
      "0.4419558048248291\n"
     ]
    },
    {
     "name": "stderr",
     "output_type": "stream",
     "text": [
      "C:\\Anaconda3\\lib\\site-packages\\numpy\\core\\numeric.py:190: VisibleDeprecationWarning: using a non-integer number instead of an integer will result in an error in the future\n",
      "  a = empty(shape, dtype, order)\n",
      "C:\\Users\\sanchezmartind\\Dropbox\\python\\Euler\\eulertools.py:8: VisibleDeprecationWarning: using a non-integer number instead of an integer will result in an error in the future\n",
      "  sieve[       k*k/3     ::2*k] = False\n",
      "C:\\Users\\sanchezmartind\\Dropbox\\python\\Euler\\eulertools.py:9: VisibleDeprecationWarning: using a non-integer number instead of an integer will result in an error in the future\n",
      "  sieve[k*(k-2*(i&1)+4)/3::2*k] = False\n",
      "C:\\Anaconda3\\lib\\site-packages\\IPython\\kernel\\__main__.py:202: VisibleDeprecationWarning: using a non-integer number instead of an integer will result in an error in the future\n"
     ]
    }
   ],
   "source": [
    "##The prime 41, can be written as the sum of six consecutive primes:\n",
    "##\n",
    "##41 = 2 + 3 + 5 + 7 + 11 + 13\n",
    "##This is the longest sum of consecutive primes that adds to a prime\n",
    "##below one-hundred.\n",
    "##\n",
    "##The longest sum of consecutive primes below one-thousand that\n",
    "##adds to a prime, contains 21 terms, and is equal to 953.\n",
    "##\n",
    "##Which prime, below one-million, can be written as the sum of\n",
    "##the most consecutive primes?\n",
    "\n",
    "import numpy as np\n",
    "import itertools\n",
    "import math\n",
    "import time\n",
    "import eulertools as et\n",
    "\n",
    "\n",
    "# 1. Find primes under one million.\n",
    "# 2. Test for each prime:\n",
    "#   primes[i] + primes[i+1] +... primes[j] until the sume >= prime.\n",
    "# if the sum == prime, end, if >, break and start again with primes[i+1].\n",
    "\n",
    "\n",
    "\n",
    "def euler50(upperlimit):\n",
    "    primes = et.primesfrom2to(upperlimit)\n",
    "    primeset = set(primes)\n",
    "    primes_rev = primes[::-1]\n",
    "    print(\"len(primes)\\t\",len(primes))\n",
    "    print(\"primes[len(primes)/2]\\t\",primes[len(primes)/2])\n",
    "    print(\"primes[len(primes)-1]\\t\",primes[len(primes)-1])\n",
    "    print(\"sum(primes)\\t\",sum(primes))\n",
    "    print(\"sum(primes[0:len(primes)/2])\\t\",sum(primes[0:len(primes)/2]))\n",
    "    dict_c = {}\n",
    "    #input(\"break\")\n",
    "    max_summs = 0\n",
    "    current = []\n",
    "    max_prime = 1\n",
    "    for i in range(0, len(primes_rev)):\n",
    "        prime = primes_rev[i]\n",
    "        set_tried =set()\n",
    "##        dict_c[prime] = []\n",
    "        for j in range(0,len(primes)):\n",
    "            suma = 0\n",
    "            start = j\n",
    "            list_primes = []\n",
    "            count = 0\n",
    "                        \n",
    "            while suma < prime and primes[j] != prime:\n",
    "                \n",
    "                count += 1\n",
    "                suma += primes[j]\n",
    "                if suma in set_tried:\n",
    "                    break\n",
    "                list_primes.append(primes[j])\n",
    "                if suma in primeset:\n",
    "                    set_tried.add(suma)\n",
    "                if j >= len(primes) - i:\n",
    "                    break\n",
    "                if suma == prime:                    \n",
    "                    if count > max_summs:\n",
    "                        max_summs = count\n",
    "                        current = list_primes.copy()\n",
    "                        max_prime = prime\n",
    "                        try:\n",
    "                            dict_c[prime].append(list_primes.copy())\n",
    "                        except:\n",
    "                            dict_c[prime] = list_primes.copy()\n",
    "                    break\n",
    "                \n",
    "                j += 1\n",
    "                \n",
    "    print(max_summs)\n",
    "##    print(current)\n",
    "    print(max_prime)\n",
    "\n",
    "def euler50b(upperlimit):\n",
    "\n",
    "# 1. Find primes under one million.\n",
    "# 2. Test for each prime:\n",
    "#   primes[i] + primes[i+1] +... primes[j] until the sume >= prime.\n",
    "# if the sum == prime, end, if >, break and start again with primes[i+1].\n",
    "\n",
    "\n",
    "    #create the list of primes\n",
    "    primes = et.primesfrom2to(upperlimit)\n",
    "    primeset = set(primes)\n",
    "    primes_rev = primes[::-1]\n",
    "    print(\"len(primes)\\t\",len(primes))\n",
    "    print(\"primes[len(primes)/2]\\t\",primes[len(primes)/2])\n",
    "    print(\"primes[len(primes)-1]\\t\",primes[len(primes)-1])\n",
    "\n",
    "\n",
    "#[a,b,c,...,n-1,n]\n",
    "# while t_sum < 10^6: increase t_sum with next prime.\n",
    "# t_sum = a + b + c + ... + (n-1) + n\n",
    "# once t_sum > 10^6, go back to t_sum < 10^6.\n",
    "# if t_sum not prime, subtract:\n",
    "# (a)\n",
    "# if (t_sum-a) not prime, try: (t_sum-n)\n",
    "# if that is not prime, try: t_sum - a - n, or t-sum-a-b, or t_sum - n - (n-1)\n",
    "# etc. until the result is prime.\n",
    "# repeat starting with \"b\", as long as the list of primes that\n",
    "# sum up to <10^6 is longer than the list of primes that sum to\n",
    "# the last prime.\n",
    "\n",
    "    \n",
    "    max_summs = 0\n",
    "    max_prime = 1\n",
    "    \n",
    "\n",
    "\n",
    "##    print(\"sum(primes)\\t\",sum(primes))\n",
    "##    print(\"sum(primes[0:len(primes)/2])\\t\",sum(primes[0:len(primes)/2]))\n",
    "    dict_c = {}\n",
    "    #input(\"break\")\n",
    "    max_summs = 0\n",
    "    current = []\n",
    "    max_prime = 1\n",
    "      \n",
    "    for i in range(0, len(primes_rev)):\n",
    "        prime = primes_rev[i]\n",
    "        set_tried =set()\n",
    "##        dict_c[prime] = []\n",
    "        for j in range(i+1,len(primes_rev)-1):\n",
    "            diff = prime\n",
    "            start = j\n",
    "            list_primes = []\n",
    "            count = 0\n",
    "                        \n",
    "            while diff > 0 and j <len(primes_rev):\n",
    "                \n",
    "                count += 1\n",
    "                try:\n",
    "                    diff -= primes_rev[j]\n",
    "                except:\n",
    "                    print(diff,i,j,len(primes_rev))\n",
    "                if diff in set_tried:\n",
    "                    break\n",
    "                list_primes.append(primes_rev[j])\n",
    "                if diff in primeset:\n",
    "                    set_tried.add(diff)\n",
    "##                if j >= len(primes) - i:\n",
    "##                    break\n",
    "                if diff == 0:                    \n",
    "                    if count > max_summs:\n",
    "                        max_summs = count\n",
    "                        current = list_primes.copy()\n",
    "                        max_prime = prime\n",
    "                        try:\n",
    "                            dict_c[prime].append(list_primes.copy())\n",
    "                        except:\n",
    "                            dict_c[prime] = list_primes.copy()\n",
    "                    break\n",
    "                \n",
    "                j += 1\n",
    "                \n",
    "    print(max_summs)\n",
    "##    print(current)\n",
    "    print(max_prime)\n",
    "    print(dict_c[max_prime])\n",
    "##    maxa = 0\n",
    "##    dict_max =dict()\n",
    "##    for i in dict_c.keys():\n",
    "##        try:\n",
    "##            for j in range(0,len(dict_c[i])):\n",
    "##                tmp_max = len(dict_c[i][j])\n",
    "##                if tmp_max >= maxa:\n",
    "##                    maxa = tmp_max\n",
    "##                    try:\n",
    "##                        m = dict_max[maxa]\n",
    "##                        addme = max(m,i)\n",
    "##\n",
    "##                    except:\n",
    "##                        pass\n",
    "##                        \n",
    "##                    dict_max[maxa] = i\n",
    "##        except:\n",
    "##            pass\n",
    "##    \n",
    "##    \n",
    "##    print(maxa)\n",
    "##    print(dict_max[maxa])\n",
    "##    print(dict_c[dict_max[maxa]])\n",
    "\n",
    "\n",
    "def euler50c(upperlimit):\n",
    "\n",
    "# 1. Find primes under one million.\n",
    "# 2. Test for each prime:\n",
    "#   primes[i] + primes[i+1] +... primes[j] until the sume >= prime.\n",
    "# if the sum == prime, end, if >, break and start again with primes[i+1].\n",
    "\n",
    "\n",
    "    #create the list of primes\n",
    "    primes = et.primesfrom2to(upperlimit)\n",
    "    primeset = set(primes)\n",
    "    primes_rev = primes[::-1]\n",
    "    print(\"len(primes)\\t\",len(primes))\n",
    "    print(\"primes[len(primes)/2]\\t\",primes[len(primes)/2])\n",
    "    print(\"primes[len(primes)-1]\\t\",primes[len(primes)-1])\n",
    "    max_prime = 2\n",
    "    current_max = 0\n",
    "    start_position = 0\n",
    "    dict_c = {}\n",
    "    vector_primes = np.zeros(upperlimit)\n",
    "    for i in primes:\n",
    "        vector_primes[i] = 1\n",
    "\n",
    "    for starting in range(0,len(primes)):\n",
    "        temp_max, temp_max_list, initial,end = rec_sum2(primes,vector_primes,upperlimit,start_position = starting,current_max = current_max)\n",
    "        if temp_max_list > current_max:\n",
    "            current_max = temp_max_list\n",
    "            max_prime = temp_max\n",
    "            dict_c[max_prime] = current_max\n",
    "    print(max_prime,current_max)\n",
    "\n",
    "def rec_sum2(list_primes,vector_primes,upperlimit,start_position,current_max):\n",
    "    \"\"\" Receives a list of consecutive primes, an upperlimit --max value admitted--\n",
    "    the starting position in the 'list of primes', and the\n",
    "    current maximum of summands found.\n",
    "    Returns the prime that can be constructed as the longest sum of consecutive\n",
    "    primes given those conditions.\"\"\"\n",
    "    \n",
    "    primes = list_primes\n",
    "    vector = vector_primes\n",
    "    t_sum = 0\n",
    "    start_p = start_position\n",
    "\n",
    "    \n",
    "    while t_sum < upperlimit:\n",
    "        t_sum += primes[start_p]\n",
    "##        \n",
    "##            print(t_sum, upperlimit, start_p, len(primes), start_position)\n",
    "##            input()\n",
    "        if start_p + 1 < len(primes):\n",
    "            start_p += 1\n",
    "        else:\n",
    "            break\n",
    "    if t_sum >= upperlimit:\n",
    "        t_sum -= primes[start_p-1]\n",
    "        start_p = start_p - 1\n",
    "\n",
    "    t_value = t_sum\n",
    "    value = 0\n",
    "    i = j = 0\n",
    "    while vector[t_value]== 0 and (((start_p-j)- (start_position+i))>current_max):\n",
    "        for i in range(0,value+1):\n",
    "            for j in range(0,value-i+1):\n",
    "                # proceed only if the potential list is longer than the existing\n",
    "                if current_max > ((start_p-j)- (start_position+i)):\n",
    "                    break\n",
    "                if i == 0:\n",
    "                    sum_i = 0\n",
    "                else:\n",
    "                    sum_i = sum(primes[start_position:start_position+i])\n",
    "                if j == 0:\n",
    "                    sum_j = 0\n",
    "                else:\n",
    "                    sum_j = sum(primes[start_p-j:start_p])\n",
    "                t_value = t_sum - sum_i - sum_j\n",
    "                \n",
    "        value += 1\n",
    "\n",
    "    if current_max < ((start_p-j)- (start_position+i)) and vector[t_value]==1:\n",
    "        current_max = ((start_p-j)- (start_position+i))\n",
    "        return t_value, current_max, (start_position + i), (start_p - j)\n",
    "    else:\n",
    "        return 2, current_max, 0, 0\n",
    "\n",
    "def rec_sum(list_primes,upperlimit,start_position,current_max):\n",
    "    \"\"\" Receives a list of consecutive primes, an upperlimit --max value admitted--\n",
    "    the starting position in the 'list of primes', and the\n",
    "    current maximum of summands found.\n",
    "    Returns the prime that can be constructed as the longest sum of consecutive\n",
    "    primes given those conditions.\"\"\"\n",
    "    \n",
    "    primes = list_primes\n",
    "    t_sum = 0\n",
    "    start_p = start_position\n",
    "\n",
    "    \n",
    "    while t_sum < upperlimit:\n",
    "        t_sum += primes[start_p]\n",
    "##        \n",
    "##            print(t_sum, upperlimit, start_p, len(primes), start_position)\n",
    "##            input()\n",
    "        if start_p + 1 < len(primes):\n",
    "            start_p += 1\n",
    "        else:\n",
    "            break\n",
    "    if t_sum > upperlimit:\n",
    "        t_sum -= primes[start_p-1]\n",
    "        start_p = start_p - 1\n",
    "## do the operations here\n",
    "        ##\n",
    "\n",
    "# value = 1:\n",
    "# i) -a (1,0)\n",
    "# ii) -n (0,1)\n",
    "# value = 2:\n",
    "# i) -a -b (2,0)\n",
    "# ii) -a - n (1,1)\n",
    "# iii) -n - n-1 (0,2)\n",
    "# value = 3:\n",
    "# i) -a -b -c (3,0)\n",
    "#ii) -a -b -n (2,1)\n",
    "#iii) -a -n - n-1 (1,2)\n",
    "#iv) -n -n-1 -n-2 (0,3)\n",
    "    t_value = t_sum\n",
    "    value = 0\n",
    "    i = j = 0\n",
    "    while t_value not in primes and (((start_p-j)- (start_position+i))>current_max):\n",
    "        for i in range(0,value+1):\n",
    "            for j in range(0,value-i+1):\n",
    "                # proceed only if the potential list is longer than the existing\n",
    "                if current_max > ((start_p-j)- (start_position+i)):\n",
    "                    break\n",
    "                if i == 0:\n",
    "                    sum_i = 0\n",
    "                else:\n",
    "                    sum_i = sum(primes[start_position:start_position+i])\n",
    "                if j == 0:\n",
    "                    sum_j = 0\n",
    "                else:\n",
    "                    sum_j = sum(primes[start_p-j:start_p])\n",
    "                t_value = t_sum - sum_i - sum_j\n",
    "                \n",
    "        value += 1\n",
    "        \n",
    "    if current_max < ((start_p-j)- (start_position+i)) and t_value in primes:\n",
    "        current_max = ((start_p-j)- (start_position+i))\n",
    "        return t_value, current_max, (start_position + i), (start_p - j)\n",
    "    else:\n",
    "        return 2, current_max, 0, 0\n",
    "    \n",
    "\n",
    "        \n",
    "def main():\n",
    "    start = time.time()\n",
    "    euler50c(1000000)\n",
    "    end = time.time()\n",
    "    print(end-start)\n",
    "\n",
    "\n",
    "main()\n"
   ]
  },
  {
   "cell_type": "code",
   "execution_count": 5,
   "metadata": {
    "collapsed": false
   },
   "outputs": [
    {
     "name": "stderr",
     "output_type": "stream",
     "text": [
      "C:\\Anaconda3\\lib\\site-packages\\numpy\\core\\numeric.py:190: VisibleDeprecationWarning: using a non-integer number instead of an integer will result in an error in the future\n",
      "  a = empty(shape, dtype, order)\n",
      "C:\\Users\\sanchezmartind\\Dropbox\\python\\Euler\\eulertools.py:8: VisibleDeprecationWarning: using a non-integer number instead of an integer will result in an error in the future\n",
      "  sieve[       k*k/3     ::2*k] = False\n",
      "C:\\Users\\sanchezmartind\\Dropbox\\python\\Euler\\eulertools.py:9: VisibleDeprecationWarning: using a non-integer number instead of an integer will result in an error in the future\n",
      "  sieve[k*(k-2*(i&1)+4)/3::2*k] = False\n"
     ]
    }
   ],
   "source": [
    "primes = et.primesfrom2to(100000000)"
   ]
  },
  {
   "cell_type": "code",
   "execution_count": 6,
   "metadata": {
    "collapsed": false
   },
   "outputs": [
    {
     "data": {
      "text/plain": [
       "5761455"
      ]
     },
     "execution_count": 6,
     "metadata": {},
     "output_type": "execute_result"
    }
   ],
   "source": [
    "len(primes)"
   ]
  },
  {
   "cell_type": "code",
   "execution_count": 8,
   "metadata": {
    "collapsed": true
   },
   "outputs": [],
   "source": [
    "used = set()\n",
    "used_dict = {}"
   ]
  },
  {
   "cell_type": "code",
   "execution_count": 9,
   "metadata": {
    "collapsed": true
   },
   "outputs": [],
   "source": [
    "# For prime in primes:\n",
    "# Test whether changing digits would yield primes:\n",
    "# i.e. 56**3 --> 56003, 56113, 56333\n"
   ]
  },
  {
   "cell_type": "code",
   "execution_count": 67,
   "metadata": {
    "collapsed": false
   },
   "outputs": [],
   "source": [
    "def test_for_combinations(number):\n",
    "    seq_number = str(number)\n",
    "    return seq_number\n",
    "    "
   ]
  },
  {
   "cell_type": "code",
   "execution_count": 29,
   "metadata": {
    "collapsed": false
   },
   "outputs": [],
   "source": [
    "test_number = str(56003)"
   ]
  },
  {
   "cell_type": "code",
   "execution_count": 68,
   "metadata": {
    "collapsed": false
   },
   "outputs": [
    {
     "data": {
      "text/plain": [
       "'56003'"
      ]
     },
     "execution_count": 68,
     "metadata": {},
     "output_type": "execute_result"
    }
   ],
   "source": [
    "test_for_combinations(56003)"
   ]
  },
  {
   "cell_type": "code",
   "execution_count": 72,
   "metadata": {
    "collapsed": false
   },
   "outputs": [],
   "source": [
    "if test_number not in used:\n",
    "    test_str_number = test_for_combinations(test_number)\n",
    "    \n"
   ]
  },
  {
   "cell_type": "code",
   "execution_count": null,
   "metadata": {
    "collapsed": true
   },
   "outputs": [],
   "source": [
    "# Check if number in set of used. If not:\n",
    "# Convert number to str\n",
    "# Calculate the combinations with 0 (change) or 1 (keep original)\n",
    "# Replace in each combination the 0 for the value to be tested (0-9)\n",
    "# Test for primes in that combination / value. If Prime found: add to list\n",
    "# Move to the next.\n",
    "# Test all potential combinations.\n",
    "# Make a set of the found.\n",
    "# Add the set to the set of \"used\"\n",
    "# Add the entry of the lowest number to the used_dict.\n"
   ]
  },
  {
   "cell_type": "code",
   "execution_count": 75,
   "metadata": {
    "collapsed": false
   },
   "outputs": [
    {
     "data": {
      "text/plain": [
       "[('0', '0', '0', '0', '0'),\n",
       " ('0', '0', '0', '0', '1'),\n",
       " ('0', '0', '0', '1', '0'),\n",
       " ('0', '0', '0', '1', '1'),\n",
       " ('0', '0', '1', '0', '0'),\n",
       " ('0', '0', '1', '0', '1'),\n",
       " ('0', '0', '1', '1', '0'),\n",
       " ('0', '0', '1', '1', '1'),\n",
       " ('0', '1', '0', '0', '0'),\n",
       " ('0', '1', '0', '0', '1'),\n",
       " ('0', '1', '0', '1', '0'),\n",
       " ('0', '1', '0', '1', '1'),\n",
       " ('0', '1', '1', '0', '0'),\n",
       " ('0', '1', '1', '0', '1'),\n",
       " ('0', '1', '1', '1', '0'),\n",
       " ('0', '1', '1', '1', '1'),\n",
       " ('1', '0', '0', '0', '0'),\n",
       " ('1', '0', '0', '0', '1'),\n",
       " ('1', '0', '0', '1', '0'),\n",
       " ('1', '0', '0', '1', '1'),\n",
       " ('1', '0', '1', '0', '0'),\n",
       " ('1', '0', '1', '0', '1'),\n",
       " ('1', '0', '1', '1', '0'),\n",
       " ('1', '0', '1', '1', '1'),\n",
       " ('1', '1', '0', '0', '0'),\n",
       " ('1', '1', '0', '0', '1'),\n",
       " ('1', '1', '0', '1', '0'),\n",
       " ('1', '1', '0', '1', '1'),\n",
       " ('1', '1', '1', '0', '0'),\n",
       " ('1', '1', '1', '0', '1'),\n",
       " ('1', '1', '1', '1', '0'),\n",
       " ('1', '1', '1', '1', '1')]"
      ]
     },
     "execution_count": 75,
     "metadata": {},
     "output_type": "execute_result"
    }
   ],
   "source": [
    "to_test = []\n",
    "\n",
    "for i in itertools.product('01', repeat = len(test_str_number)):\n",
    "    to_test.append(i)\n",
    "to_test"
   ]
  },
  {
   "cell_type": "code",
   "execution_count": null,
   "metadata": {
    "collapsed": true
   },
   "outputs": [],
   "source": [
    "val_testing = '0' # will change to range(0,10)"
   ]
  },
  {
   "cell_type": "code",
   "execution_count": 77,
   "metadata": {
    "collapsed": false
   },
   "outputs": [],
   "source": [
    "n = '' #current string\n",
    "val_testing = '1'\n",
    "for i in range(0,len(to_test[3])):\n",
    "\n",
    "    if to_test[3][i] == '0':\n",
    "        n += val_testing\n",
    "    else:\n",
    "        n += test_str_number[i]"
   ]
  },
  {
   "cell_type": "code",
   "execution_count": 78,
   "metadata": {
    "collapsed": false
   },
   "outputs": [
    {
     "data": {
      "text/plain": [
       "'11103'"
      ]
     },
     "execution_count": 78,
     "metadata": {},
     "output_type": "execute_result"
    }
   ],
   "source": [
    "n"
   ]
  },
  {
   "cell_type": "code",
   "execution_count": 79,
   "metadata": {
    "collapsed": false
   },
   "outputs": [
    {
     "data": {
      "text/plain": [
       "('0', '0', '0', '1', '1')"
      ]
     },
     "execution_count": 79,
     "metadata": {},
     "output_type": "execute_result"
    }
   ],
   "source": [
    "to_test[3]"
   ]
  },
  {
   "cell_type": "code",
   "execution_count": 80,
   "metadata": {
    "collapsed": false
   },
   "outputs": [
    {
     "data": {
      "text/plain": [
       "'56003'"
      ]
     },
     "execution_count": 80,
     "metadata": {},
     "output_type": "execute_result"
    }
   ],
   "source": [
    "test_str_number"
   ]
  },
  {
   "cell_type": "code",
   "execution_count": 98,
   "metadata": {
    "collapsed": false
   },
   "outputs": [],
   "source": [
    "my_number_list = []\n",
    "for j in to_test:\n",
    "    for k in range(0,10):\n",
    "        val_testing = str(k)\n",
    "        n = '' #current string\n",
    "\n",
    "        for i in range(0,len(j)):\n",
    "            \n",
    "            if j[i] == '0':\n",
    "                n += val_testing\n",
    "            else:\n",
    "                n += test_str_number[i]\n",
    "        test_value = int(n)\n",
    "        #print(test_value)\n",
    "        if test_value in primes:\n",
    "            my_number_list.append(test_value)\n",
    "            used.add(test_value)\n",
    "if len(set(my_number_list)) > 1:\n",
    "    set_vals = set(my_number_list)\n",
    "    min_val = min(set_vals)\n",
    "    used_dict[min_val] = (len(set_vals), set_vals)"
   ]
  },
  {
   "cell_type": "code",
   "execution_count": 99,
   "metadata": {
    "collapsed": false
   },
   "outputs": [
    {
     "data": {
      "text/plain": [
       "{3: (42,\n",
       "  {3,\n",
       "   11003,\n",
       "   11113,\n",
       "   16001,\n",
       "   16103,\n",
       "   16111,\n",
       "   22003,\n",
       "   26003,\n",
       "   26203,\n",
       "   51001,\n",
       "   52223,\n",
       "   53003,\n",
       "   54403,\n",
       "   54443,\n",
       "   56003,\n",
       "   56009,\n",
       "   56053,\n",
       "   56093,\n",
       "   56099,\n",
       "   56101,\n",
       "   56113,\n",
       "   56333,\n",
       "   56443,\n",
       "   56503,\n",
       "   56663,\n",
       "   56773,\n",
       "   56909,\n",
       "   56993,\n",
       "   56999,\n",
       "   57073,\n",
       "   57077,\n",
       "   57773,\n",
       "   59009,\n",
       "   59093,\n",
       "   59999,\n",
       "   76003,\n",
       "   76777,\n",
       "   77003,\n",
       "   77773,\n",
       "   86083,\n",
       "   88003,\n",
       "   88883})}"
      ]
     },
     "execution_count": 99,
     "metadata": {},
     "output_type": "execute_result"
    }
   ],
   "source": [
    "used_dict"
   ]
  },
  {
   "cell_type": "code",
   "execution_count": 94,
   "metadata": {
    "collapsed": false
   },
   "outputs": [
    {
     "data": {
      "text/plain": [
       "[]"
      ]
     },
     "execution_count": 94,
     "metadata": {},
     "output_type": "execute_result"
    }
   ],
   "source": [
    "my_number_list"
   ]
  },
  {
   "cell_type": "code",
   "execution_count": 95,
   "metadata": {
    "collapsed": false
   },
   "outputs": [
    {
     "data": {
      "text/plain": [
       "56003"
      ]
     },
     "execution_count": 95,
     "metadata": {},
     "output_type": "execute_result"
    }
   ],
   "source": [
    "test_value"
   ]
  },
  {
   "cell_type": "code",
   "execution_count": null,
   "metadata": {
    "collapsed": true
   },
   "outputs": [],
   "source": []
  }
 ],
 "metadata": {
  "kernelspec": {
   "display_name": "Python 3",
   "language": "python",
   "name": "python3"
  },
  "language_info": {
   "codemirror_mode": {
    "name": "ipython",
    "version": 3
   },
   "file_extension": ".py",
   "mimetype": "text/x-python",
   "name": "python",
   "nbconvert_exporter": "python",
   "pygments_lexer": "ipython3",
   "version": "3.4.5"
  }
 },
 "nbformat": 4,
 "nbformat_minor": 0
}
