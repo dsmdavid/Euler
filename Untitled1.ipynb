{
 "cells": [
  {
   "cell_type": "markdown",
   "metadata": {},
   "source": [
    "It turns out that 12 cm is the smallest length of wire that can be bent to form an integer sided right angle triangle in exactly one way, but there are many more examples.\n",
    "\n",
    "+ **12 cm**: (3,4,5)\n",
    "+ **24 cm**: (6,8,10)\n",
    "+ **30 cm**: (5,12,13)\n",
    "+ **36 cm**: (9,12,15)\n",
    "+ **40 cm**: (8,15,17)\n",
    "+ **48 cm**: (12,16,20)\n",
    "\n",
    "In contrast, some lengths of wire, like 20 cm, cannot be bent to form an integer sided right angle triangle, and other lengths allow more than one solution to be found; for example, using 120 cm it is possible to form exactly three different integer sided right angle triangles.\n",
    "\n",
    "**120 cm**: (30,40,50), (20,48,52), (24,45,51)\n",
    "\n",
    "Given that L is the length of the wire, for how many values of L ≤ 1,500,000 can exactly one integer sided right angle triangle be formed?"
   ]
  },
  {
   "cell_type": "code",
   "execution_count": 65,
   "metadata": {
    "collapsed": false
   },
   "outputs": [],
   "source": [
    "def isright(tup):\n",
    "    #tup = list(tup)\n",
    "    l = [tup[0],tup[1],tup[2]]\n",
    "    m = sorted(l)\n",
    "    a = m.pop()\n",
    "    b = m.pop()\n",
    "    c = m.pop()\n",
    "    return a**2 == (b**2 + c**2)\n",
    "\n",
    "def make_combs(measure):\n",
    "    list_combs = []\n",
    "    for i in range(1,int(measure/2)):\n",
    "        for j in range(i, int(measure/2)-1):\n",
    "            k = measure - i - j\n",
    "            if sorted([i,j,k]) not in list_combs and k > 0:\n",
    "                list_combs.append(sorted([i,j,k]))\n",
    "    return list_combs\n",
    "\n",
    "def test_combs(set_combs):\n",
    "    cnt = 0\n",
    "    n = 0\n",
    "    while cnt <2 and n < len(set_combs)+1:\n",
    "        i = set_combs.pop()\n",
    "        if isright(i):\n",
    "            cnt+=1\n",
    "        n+=1\n",
    "    #print(n, cnt)\n",
    "    if cnt == 1:\n",
    "        return True\n",
    "    else:\n",
    "        return False"
   ]
  },
  {
   "cell_type": "code",
   "execution_count": 156,
   "metadata": {
    "collapsed": false
   },
   "outputs": [],
   "source": [
    "def make_and_test_combs(measure):\n",
    "    list_combs = []\n",
    "    cnt = 0\n",
    "    for i in range(int(measure/2)-1,int(measure/4)+1,-1):\n",
    "        for j in range(int(measure/2)-1,i-1,-1):\n",
    "            k = measure - i - j\n",
    "            trial = sorted([i,j,k])\n",
    "            if trial not in list_combs:\n",
    "                list_combs.append(trial)\n",
    "                if isright(trial):\n",
    "                    #print(trial)\n",
    "                    cnt +=1\n",
    "                    #print(cnt)\n",
    "                    if cnt > 1:\n",
    "                        return False\n",
    "    if cnt == 1:\n",
    "        return True\n",
    "    else:\n",
    "        return False"
   ]
  },
  {
   "cell_type": "code",
   "execution_count": 157,
   "metadata": {
    "collapsed": false
   },
   "outputs": [
    {
     "data": {
      "text/plain": [
       "True"
      ]
     },
     "execution_count": 157,
     "metadata": {},
     "output_type": "execute_result"
    }
   ],
   "source": [
    "make_and_test_combs(48)"
   ]
  },
  {
   "cell_type": "markdown",
   "metadata": {},
   "source": []
  },
  {
   "cell_type": "code",
   "execution_count": 95,
   "metadata": {
    "collapsed": true
   },
   "outputs": [],
   "source": [
    "import time"
   ]
  },
  {
   "cell_type": "code",
   "execution_count": 140,
   "metadata": {
    "collapsed": true
   },
   "outputs": [],
   "source": [
    "def try_targ(target):\n",
    "    l_vals = []\n",
    "    for j in range(9, target):\n",
    "        combs = make_combs(j)\n",
    "        if test_combs(combs):\n",
    "            l_vals.append(j)\n",
    "    return l_vals"
   ]
  },
  {
   "cell_type": "code",
   "execution_count": 160,
   "metadata": {
    "collapsed": true
   },
   "outputs": [],
   "source": [
    "def try_targ(target):\n",
    "    l_vals = []\n",
    "    for j in range(9, target,2):\n",
    "        \n",
    "        if make_and_test_combs(j):\n",
    "            l_vals.append(j)\n",
    "    return l_vals\n"
   ]
  },
  {
   "cell_type": "code",
   "execution_count": null,
   "metadata": {
    "collapsed": false
   },
   "outputs": [],
   "source": [
    "%prun  try_targ(1000)"
   ]
  },
  {
   "cell_type": "code",
   "execution_count": 103,
   "metadata": {
    "collapsed": false
   },
   "outputs": [
    {
     "name": "stderr",
     "output_type": "stream",
     "text": [
      "ERROR: Line magic function `%lprun` not found.\n"
     ]
    }
   ],
   "source": [
    "%lprun\n",
    "\n",
    "l_vals = []\n",
    "target  = 50\n",
    "for j in range(9, target):\n",
    "    combs = make_combs(j)\n",
    "    if test_combs(combs):\n",
    "        l_vals.append(j)\n"
   ]
  },
  {
   "cell_type": "code",
   "execution_count": 132,
   "metadata": {
    "collapsed": false
   },
   "outputs": [
    {
     "name": "stderr",
     "output_type": "stream",
     "text": [
      "ERROR: Line magic function `%lprun` not found.\n"
     ]
    }
   ],
   "source": [
    "%lprun\n",
    "\n",
    "l_vals = []\n",
    "target  = 50\n",
    "for j in range(9, target):\n",
    "    if make_and_test_combs(j):\n",
    "        l_vals.append(j)\n"
   ]
  },
  {
   "cell_type": "code",
   "execution_count": 94,
   "metadata": {
    "collapsed": false
   },
   "outputs": [
    {
     "data": {
      "text/plain": [
       "[12, 24, 30, 36, 40, 48, 56, 70, 72, 80, 96]"
      ]
     },
     "execution_count": 94,
     "metadata": {},
     "output_type": "execute_result"
    }
   ],
   "source": [
    "l_vals"
   ]
  },
  {
   "cell_type": "code",
   "execution_count": 137,
   "metadata": {
    "collapsed": false
   },
   "outputs": [
    {
     "data": {
      "text/plain": [
       "[12, 24, 30, 36, 40, 48]"
      ]
     },
     "execution_count": 137,
     "metadata": {},
     "output_type": "execute_result"
    }
   ],
   "source": [
    "m"
   ]
  },
  {
   "cell_type": "code",
   "execution_count": 86,
   "metadata": {
    "collapsed": false
   },
   "outputs": [],
   "source": [
    "combs = make_combs(9)"
   ]
  },
  {
   "cell_type": "code",
   "execution_count": 33,
   "metadata": {
    "collapsed": false
   },
   "outputs": [],
   "source": [
    "combs = make_combs(12)"
   ]
  },
  {
   "cell_type": "code",
   "execution_count": null,
   "metadata": {
    "collapsed": true
   },
   "outputs": [],
   "source": []
  }
 ],
 "metadata": {
  "kernelspec": {
   "display_name": "Python 3",
   "language": "python",
   "name": "python3"
  },
  "language_info": {
   "codemirror_mode": {
    "name": "ipython",
    "version": 3
   },
   "file_extension": ".py",
   "mimetype": "text/x-python",
   "name": "python",
   "nbconvert_exporter": "python",
   "pygments_lexer": "ipython3",
   "version": "3.4.5"
  }
 },
 "nbformat": 4,
 "nbformat_minor": 0
}
