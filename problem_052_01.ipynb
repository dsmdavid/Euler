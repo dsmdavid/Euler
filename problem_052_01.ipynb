{
 "cells": [
  {
   "cell_type": "markdown",
   "metadata": {},
   "source": [
    "It can be seen that the number, 125874, and its double, 251748, contain exactly the same digits, but in a different order.\n",
    "\n",
    "Find the smallest positive integer, x, such that 2x, 3x, 4x, 5x, and 6x, contain the same digits."
   ]
  },
  {
   "cell_type": "markdown",
   "metadata": {},
   "source": [
    "#Approach:\n",
    "Incremental:\n",
    "    Start with n = 1. Multiply by 2, 3, 4, 5 & 6. Convert int to string, make a set with the different digits, ensure that the 6 sets are the same"
   ]
  },
  {
   "cell_type": "code",
   "execution_count": 1,
   "metadata": {
    "collapsed": true
   },
   "outputs": [],
   "source": [
    "def run():\n",
    "    solution = None\n",
    "    n = 0\n",
    "    while not solution:\n",
    "        n +=1\n",
    "        n1 = set(list(str(1*n)))\n",
    "        n2 = set(list(str(2*n)))\n",
    "        if n1 == n2:\n",
    "            n3 = set(list(str(3*n)))\n",
    "            if n1 == n3:\n",
    "                n4 = set(list(str(4*n)))\n",
    "                if n1 == n4:\n",
    "                    n5 = set(list(str(5*n)))\n",
    "                    if n1 == n5:\n",
    "                        n6 = set(list(str(6*n)))\n",
    "                        if n1 == n6:\n",
    "                            solution = n\n",
    "    return solution\n",
    "    \n",
    "    #if n% 100000 == 0: print(n)"
   ]
  },
  {
   "cell_type": "code",
   "execution_count": 2,
   "metadata": {
    "collapsed": false
   },
   "outputs": [
    {
     "name": "stdout",
     "output_type": "stream",
     "text": [
      "1 loops, best of 3: 3.15 s per loop\n"
     ]
    }
   ],
   "source": [
    "%timeit run()"
   ]
  },
  {
   "cell_type": "code",
   "execution_count": 3,
   "metadata": {
    "collapsed": false,
    "scrolled": true
   },
   "outputs": [
    {
     "name": "stdout",
     "output_type": "stream",
     "text": [
      "142857 285714 428571 571428 714285 857142\n"
     ]
    }
   ],
   "source": [
    "n = run()\n",
    "print(n, 2*n, 3*n, 4*n, 5*n, 6*n)"
   ]
  },
  {
   "cell_type": "code",
   "execution_count": 4,
   "metadata": {
    "collapsed": false
   },
   "outputs": [],
   "source": [
    "def run11():\n",
    "    solution = None\n",
    "    n = 0\n",
    "    while not solution:\n",
    "        n +=1\n",
    "        if set(repr(1*n)) == set(repr(2*n)) == set(repr(3*n)) ==  set(repr(4*n)) == set(repr(5*n)) == set(repr(6*n)):  \n",
    "            solution = n\n",
    "            return solution\n",
    "    \n",
    "    #if n% 100000 == 0: print(n)"
   ]
  },
  {
   "cell_type": "code",
   "execution_count": 5,
   "metadata": {
    "collapsed": false
   },
   "outputs": [
    {
     "name": "stdout",
     "output_type": "stream",
     "text": [
      "1 loops, best of 3: 2.59 s per loop\n"
     ]
    }
   ],
   "source": [
    "%timeit run11()"
   ]
  },
  {
   "cell_type": "code",
   "execution_count": null,
   "metadata": {
    "collapsed": true
   },
   "outputs": [],
   "source": []
  }
 ],
 "metadata": {
  "kernelspec": {
   "display_name": "Python 3",
   "language": "python",
   "name": "python3"
  },
  "language_info": {
   "codemirror_mode": {
    "name": "ipython",
    "version": 3
   },
   "file_extension": ".py",
   "mimetype": "text/x-python",
   "name": "python",
   "nbconvert_exporter": "python",
   "pygments_lexer": "ipython3",
   "version": "3.4.4"
  }
 },
 "nbformat": 4,
 "nbformat_minor": 0
}
