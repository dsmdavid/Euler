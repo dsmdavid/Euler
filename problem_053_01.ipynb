{
 "cells": [
  {
   "cell_type": "markdown",
   "metadata": {},
   "source": [
    "There are exactly ten ways of selecting three from five, 12345:\n",
    "\n",
    "123, 124, 125, 134, 135, 145, 234, 235, 245, and 345\n",
    "\n",
    "In combinatorics, we use the notation, $^5C_3 = 10$.\n",
    "\n",
    "In general, $^nC_r = \\frac{n!}{r!(n-r)!}$, where $r ≤ n$, $n! = n×(n−1)×...×3×2×1$, and $0! = 1$.\n",
    "It is not until $n = 23$, that a value exceeds one-million: $^{23}C_{10} = 1144066$.\n",
    "\n",
    "How many, not necessarily distinct, values of   $^nC_r$, for $1 ≤ n ≤ 100$, are greater than one-million?"
   ]
  },
  {
   "cell_type": "markdown",
   "metadata": {},
   "source": [
    "#Approach:\n",
    "Brute force:\n",
    "###1.$r ≤ n$,\n",
    "###2.$ n ≤ 100$\n",
    "###3.Compute the calculation for n in range (1,101) and r in range(1, n+1), if result is $>10^6$ report it.\n",
    "####3.1 Using recursive factorial\n",
    "####3.2 Combining recursive factorial and dictionary as cache"
   ]
  },
  {
   "cell_type": "code",
   "execution_count": 62,
   "metadata": {
    "collapsed": true
   },
   "outputs": [],
   "source": [
    "def factorial(n):\n",
    "    if n == 0:\n",
    "        return 1\n",
    "    else:\n",
    "        return n * factorial(n-1)\n",
    "\n",
    "def pr053():\n",
    "    list_vals = []\n",
    "    #factorial = {}\n",
    "    for n in range(1,201):\n",
    "        for r in range(1,n+1):\n",
    "            val = (factorial(n))/(factorial(r)*factorial(n-r))\n",
    "            if val > 1000000:\n",
    "                list_vals.append((n,r,val))\n",
    "    return list_vals\n",
    "            \n"
   ]
  },
  {
   "cell_type": "code",
   "execution_count": 6,
   "metadata": {
    "collapsed": false
   },
   "outputs": [
    {
     "name": "stdout",
     "output_type": "stream",
     "text": [
      "4075\n"
     ]
    }
   ],
   "source": [
    "lv = pr053()\n",
    "print(len(lv))"
   ]
  },
  {
   "cell_type": "code",
   "execution_count": 55,
   "metadata": {
    "collapsed": true
   },
   "outputs": [],
   "source": [
    "def factorial2(n,d_f):\n",
    "    if n == 0:\n",
    "        return 1, d_f\n",
    "    else:\n",
    "        if not d_f.get(n-1):\n",
    "            d_f[n-1] = factorial(n-1)\n",
    "            return n * factorial(n-1), d_f\n",
    "        else:\n",
    "            return n*d_f[n-1], d_f\n",
    "\n",
    "def pr053_2():\n",
    "    list_vals = []\n",
    "    d_factorial = {}\n",
    "    for n in range(1,201):\n",
    "        for r in range(1,n+1):\n",
    "            f2, d_factorial = factorial2(n,d_factorial)\n",
    "            r2, d_factorial = factorial2(r, d_factorial)\n",
    "            k = n-r\n",
    "            n_r, d_factorial = factorial2(k,d_factorial)\n",
    "            val = f2/(r2 * n_r)\n",
    "            #(factorial2(n,d_factorial))/(factorial2(r)*factorial2(n-r))\n",
    "            if val > 1000000:\n",
    "                list_vals.append((n,r,val))\n",
    "    return list_vals\n",
    "            \n"
   ]
  },
  {
   "cell_type": "code",
   "execution_count": 33,
   "metadata": {
    "collapsed": true
   },
   "outputs": [],
   "source": [
    "import time"
   ]
  },
  {
   "cell_type": "code",
   "execution_count": 47,
   "metadata": {
    "collapsed": false
   },
   "outputs": [
    {
     "name": "stdout",
     "output_type": "stream",
     "text": [
      "18461\n",
      "10.629737854003906\n"
     ]
    }
   ],
   "source": [
    "st = time.time()\n",
    "l_v = pr053()\n",
    "print(len(l_v))\n",
    "end = time.time()\n",
    "print(end-st)"
   ]
  },
  {
   "cell_type": "code",
   "execution_count": 60,
   "metadata": {
    "collapsed": false
   },
   "outputs": [
    {
     "name": "stdout",
     "output_type": "stream",
     "text": [
      "18461\n",
      "0.8606929779052734\n"
     ]
    }
   ],
   "source": [
    "st = time.time()\n",
    "l_v2 = pr053_2()\n",
    "print(len(l_v2))\n",
    "end = time.time()\n",
    "print(end-st)"
   ]
  },
  {
   "cell_type": "code",
   "execution_count": 51,
   "metadata": {
    "collapsed": true
   },
   "outputs": [],
   "source": [
    "import math"
   ]
  },
  {
   "cell_type": "code",
   "execution_count": 63,
   "metadata": {
    "collapsed": true
   },
   "outputs": [],
   "source": [
    "def pr053_3():\n",
    "    list_vals = []\n",
    "    for n in range(1,201):\n",
    "        for r in range(1,n+1):\n",
    "            #f2, d_factorial = factorial2(n,d_factorial)\n",
    "            #r2, d_factorial = factorial2(r, d_factorial)\n",
    "            #k = n-r\n",
    "            #n_r, d_factorial = factorial2(k,d_factorial)\n",
    "            val = math.factorial(n)/(math.factorial(r)*math.factorial(n-r))\n",
    "            \n",
    "            #f2/(r2 * n_r)\n",
    "            #(factorial2(n,d_factorial))/(factorial2(r)*factorial2(n-r))\n",
    "            if val > 1000000:\n",
    "                list_vals.append((n,r,val))\n",
    "    return list_vals"
   ]
  },
  {
   "cell_type": "code",
   "execution_count": 53,
   "metadata": {
    "collapsed": false
   },
   "outputs": [
    {
     "name": "stdout",
     "output_type": "stream",
     "text": [
      "18461\n",
      "1.4055378437042236\n"
     ]
    }
   ],
   "source": [
    "st = time.time()\n",
    "l_v3 = pr053_3()\n",
    "print(len(l_v3))\n",
    "end = time.time()\n",
    "print(end-st)"
   ]
  },
  {
   "cell_type": "code",
   "execution_count": 64,
   "metadata": {
    "collapsed": false
   },
   "outputs": [
    {
     "name": "stdout",
     "output_type": "stream",
     "text": [
      "18461\n",
      "1.4669039249420166\n"
     ]
    }
   ],
   "source": [
    "st = time.time()\n",
    "l_v3 = pr053_3()\n",
    "print(len(l_v3))\n",
    "end = time.time()\n",
    "print(end-st)"
   ]
  },
  {
   "cell_type": "code",
   "execution_count": null,
   "metadata": {
    "collapsed": true
   },
   "outputs": [],
   "source": []
  }
 ],
 "metadata": {
  "kernelspec": {
   "display_name": "Python 3",
   "language": "python",
   "name": "python3"
  },
  "language_info": {
   "codemirror_mode": {
    "name": "ipython",
    "version": 3
   },
   "file_extension": ".py",
   "mimetype": "text/x-python",
   "name": "python",
   "nbconvert_exporter": "python",
   "pygments_lexer": "ipython3",
   "version": "3.4.4"
  }
 },
 "nbformat": 4,
 "nbformat_minor": 0
}
