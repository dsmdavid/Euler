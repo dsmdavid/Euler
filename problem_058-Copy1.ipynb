{
 "cells": [
  {
   "cell_type": "markdown",
   "metadata": {},
   "source": [
    "\n",
    "Starting with 1 and spiralling anticlockwise in the following way, a square spiral with side length 7 is formed.\n",
    "\n",
    "\n",
    "$$\n",
    "|37| 36| 35| 34| 33| 32| 31| \\\\ \n",
    "|38| 17| 16| 15| 14| 13| 30|  \\\\\n",
    "|39| 18|  5|  4|  3| 12| 29|  \\\\\n",
    "|40| 19|  6|  1|  2| 11| 28|  \\\\\n",
    "|41| 20|  7|  8|  9| 10| 27|  \\\\ \n",
    "|42| 21| 22| 23| 24| 25| 26| \\\\\n",
    "|43| 44| 45| 46| 47| 48| 49|\n",
    "$$\n",
    "\n",
    "\n",
    "It is interesting to note that the odd squares lie along the bottom right diagonal, but what is more interesting is that 8 out of the 13 numbers lying along both diagonals are prime; that is, a ratio of 8/13 ≈ 62%.\n",
    "\n",
    "If one complete new layer is wrapped around the spiral above, a square spiral with side length 9 will be formed. If this process is continued, what is the side length of the square spiral for which the ratio of primes along both diagonals first falls below 10%?"
   ]
  },
  {
   "cell_type": "markdown",
   "metadata": {},
   "source": [
    "#Approach:\n",
    "####1. Create matrix\n",
    "####2. Fill matrix\n",
    "####3. Check if diagonals are prime\n",
    "####4. Calculate %"
   ]
  },
  {
   "cell_type": "code",
   "execution_count": 1,
   "metadata": {
    "collapsed": true
   },
   "outputs": [],
   "source": [
    "import numpy as np\n",
    "import eulertools"
   ]
  },
  {
   "cell_type": "code",
   "execution_count": 48,
   "metadata": {
    "collapsed": false
   },
   "outputs": [],
   "source": [
    "def create_matrix(n):\n",
    "    return np.zeros((n,n))\n",
    "def move(mat,position,direction):\n",
    "    maxval = len(mat)\n",
    "    minval = 0\n",
    "\n",
    "    if direction == 'N':\n",
    "        next_move = (-1,0)\n",
    "    elif direction == 'E':\n",
    "        next_move = (0,1)\n",
    "    elif direction == 'S':\n",
    "        next_move = (1,0)\n",
    "    elif direction == 'W':\n",
    "        next_move = (0,-1)\n",
    "    else:\n",
    "        raise ValueError('Only NWSE available as direction')\n",
    "    new_position = (position[0]+next_move[0],position[1]+next_move[1])\n",
    "    if minval <= new_position[0] < maxval:\n",
    "        if minval <= new_position[1] <maxval:\n",
    "            return new_position\n",
    "    raise ValueError('Movement out of bounds')\n",
    "        \n",
    "    \n",
    "def increase_size(mat):\n",
    "    return np.lib.pad(mat,1,'constant')"
   ]
  },
  {
   "cell_type": "code",
   "execution_count": 49,
   "metadata": {
    "collapsed": true
   },
   "outputs": [],
   "source": [
    "def fill_matrix2(matr):\n",
    "    '''receives a filled matrix of sides n. Increments the side to n+2, transfers the matrix to the center\n",
    "    of the new matrix, and fills the reamining squares'''\n",
    "    mat = increase_size(matr)\n",
    "    n2 = len(mat)\n",
    "    position = (n2-2, n2-2)\n",
    "    moves = list('E'  + (n2-2)*'N' + (n2-1)*'W' + (n2-1)*'S' + (n2-1)*'E')\n",
    "    vals = [x for x in range(2,len(mat)**2 +1) if x > mat.max()]\n",
    "    vals = vals[::-1]\n",
    "    for direction in moves:\n",
    "        #print(position, direction, '\\n',mat,'\\n', n2, 'before updating')\n",
    "        position = move(mat,position,direction)\n",
    "        mat[position[0]][position[1]] = vals.pop()\n",
    "        #print(position, direction,'\\n', mat,'\\n', n2, 'after updating')\n",
    "\n",
    "    return mat"
   ]
  },
  {
   "cell_type": "code",
   "execution_count": 50,
   "metadata": {
    "collapsed": false
   },
   "outputs": [],
   "source": [
    "def fill_matrix(mat):\n",
    "    center = 1\n",
    "    \n",
    "    mat[np.floor(len(mat)/2)][np.floor(len(mat)/2)] = center\n",
    "    position = (np.floor(len(mat)/2),np.floor(len(mat)/2))\n",
    "    vals = [x for x in range(2,len(mat)**2 +1)]\n",
    "    vals = vals[::-1]\n",
    "    for i in range(1,len(mat)+1,2):\n",
    "        if i != 1:\n",
    "        \n",
    "            moves = 'E'  + (i-2)*'N' + (i-1)*'W' + (i-1)*'S' + (i-1)*'E'\n",
    "            moves = list(moves)\n",
    "            for direction in moves:\n",
    "                #print(position, direction, '\\n',mat,'\\n', i, 'before updating')\n",
    "                position = move(mat,position,direction)\n",
    "                mat[position[0]][position[1]] = vals.pop()\n",
    "                #print(position, direction,'\\n', mat,'\\n', i, 'after updating')\n",
    "            \n",
    "    return  mat\n",
    "        "
   ]
  },
  {
   "cell_type": "code",
   "execution_count": null,
   "metadata": {
    "collapsed": true
   },
   "outputs": [],
   "source": [
    "dict_mats = {}\n"
   ]
  },
  {
   "cell_type": "code",
   "execution_count": 4,
   "metadata": {
    "collapsed": true
   },
   "outputs": [],
   "source": [
    "a = create_matrix(3)"
   ]
  },
  {
   "cell_type": "code",
   "execution_count": 7,
   "metadata": {
    "collapsed": false
   },
   "outputs": [
    {
     "data": {
      "text/plain": [
       "array([[ 5.,  4.,  3.],\n",
       "       [ 6.,  1.,  2.],\n",
       "       [ 7.,  8.,  9.]])"
      ]
     },
     "execution_count": 7,
     "metadata": {},
     "output_type": "execute_result"
    }
   ],
   "source": [
    "a=fill_matrix(a)\n",
    "a"
   ]
  },
  {
   "cell_type": "code",
   "execution_count": 10,
   "metadata": {
    "collapsed": false
   },
   "outputs": [
    {
     "ename": "TypeError",
     "evalue": "unhashable type: 'numpy.ndarray'",
     "output_type": "error",
     "traceback": [
      "\u001b[1;31m---------------------------------------------------------------------------\u001b[0m",
      "\u001b[1;31mTypeError\u001b[0m                                 Traceback (most recent call last)",
      "\u001b[1;32m<ipython-input-10-3230717f5b63>\u001b[0m in \u001b[0;36m<module>\u001b[1;34m()\u001b[0m\n\u001b[1;32m----> 1\u001b[1;33m \u001b[0mset\u001b[0m\u001b[1;33m(\u001b[0m\u001b[0ma\u001b[0m\u001b[1;33m)\u001b[0m\u001b[1;33m\u001b[0m\u001b[0m\n\u001b[0m",
      "\u001b[1;31mTypeError\u001b[0m: unhashable type: 'numpy.ndarray'"
     ]
    }
   ],
   "source": []
  },
  {
   "cell_type": "code",
   "execution_count": 8,
   "metadata": {
    "collapsed": false
   },
   "outputs": [],
   "source": [
    "def check_diagonals(mat, primes):\n",
    "    if mat.max() < primes.max():\n",
    "        primes = primes\n",
    "    else:\n",
    "        primes = eulertools.primesfrom2to(len(10*mat)*len(10*mat)))\n",
    "    ct = 0\n",
    "    isprime = []\n",
    "    for n in range(0,len(mat)):\n",
    "        if int(mat[n][n]) in primes:\n",
    "            isprime.append(mat[n][n])\n",
    "        ct+=1\n",
    "    m = len(mat)-1\n",
    "    for n in range(0,len(mat)):\n",
    "        if int(mat[n][m]) in primes:\n",
    "            isprime.append(mat[n][n])\n",
    "        ct+=1\n",
    "        m -=1\n",
    "    #print(ct-1)\n",
    "    return len(isprime), ct-1, primes"
   ]
  },
  {
   "cell_type": "code",
   "execution_count": 63,
   "metadata": {
    "collapsed": false
   },
   "outputs": [
    {
     "data": {
      "text/plain": [
       "0.6153846153846154"
      ]
     },
     "execution_count": 63,
     "metadata": {},
     "output_type": "execute_result"
    }
   ],
   "source": [
    "b,c = check_diagonals(a)\n",
    "b/c"
   ]
  },
  {
   "cell_type": "code",
   "execution_count": 18,
   "metadata": {
    "collapsed": false
   },
   "outputs": [
    {
     "ename": "KeyboardInterrupt",
     "evalue": "",
     "output_type": "error",
     "traceback": [
      "\u001b[1;31m---------------------------------------------------------------------------\u001b[0m",
      "\u001b[1;31mKeyboardInterrupt\u001b[0m                         Traceback (most recent call last)",
      "\u001b[1;32m<ipython-input-18-75804dcc31f7>\u001b[0m in \u001b[0;36m<module>\u001b[1;34m()\u001b[0m\n\u001b[0;32m      8\u001b[0m \u001b[1;32mwhile\u001b[0m \u001b[0mratio\u001b[0m \u001b[1;33m>=\u001b[0m \u001b[1;36m0.1\u001b[0m\u001b[1;33m:\u001b[0m\u001b[1;33m\u001b[0m\u001b[0m\n\u001b[0;32m      9\u001b[0m \u001b[1;33m\u001b[0m\u001b[0m\n\u001b[1;32m---> 10\u001b[1;33m     \u001b[0mmat\u001b[0m \u001b[1;33m=\u001b[0m \u001b[0mfill_matrix2\u001b[0m\u001b[1;33m(\u001b[0m\u001b[0mmat\u001b[0m\u001b[1;33m)\u001b[0m\u001b[1;33m\u001b[0m\u001b[0m\n\u001b[0m\u001b[0;32m     11\u001b[0m     \u001b[0mpr\u001b[0m\u001b[1;33m,\u001b[0m \u001b[0mdiag\u001b[0m\u001b[1;33m,\u001b[0m \u001b[0mprimes\u001b[0m \u001b[1;33m=\u001b[0m \u001b[0mcheck_diagonals\u001b[0m\u001b[1;33m(\u001b[0m\u001b[0mmat\u001b[0m\u001b[1;33m,\u001b[0m\u001b[0mprimes\u001b[0m\u001b[1;33m)\u001b[0m\u001b[1;33m\u001b[0m\u001b[0m\n\u001b[0;32m     12\u001b[0m     \u001b[0mratio\u001b[0m \u001b[1;33m=\u001b[0m \u001b[0mpr\u001b[0m\u001b[1;33m/\u001b[0m\u001b[0mdiag\u001b[0m\u001b[1;33m\u001b[0m\u001b[0m\n",
      "\u001b[1;32m<ipython-input-3-15802b6cb376>\u001b[0m in \u001b[0;36mfill_matrix2\u001b[1;34m(matr)\u001b[0m\n\u001b[0;32m      6\u001b[0m     \u001b[0mposition\u001b[0m \u001b[1;33m=\u001b[0m \u001b[1;33m(\u001b[0m\u001b[0mn2\u001b[0m\u001b[1;33m-\u001b[0m\u001b[1;36m2\u001b[0m\u001b[1;33m,\u001b[0m \u001b[0mn2\u001b[0m\u001b[1;33m-\u001b[0m\u001b[1;36m2\u001b[0m\u001b[1;33m)\u001b[0m\u001b[1;33m\u001b[0m\u001b[0m\n\u001b[0;32m      7\u001b[0m     \u001b[0mmoves\u001b[0m \u001b[1;33m=\u001b[0m \u001b[0mlist\u001b[0m\u001b[1;33m(\u001b[0m\u001b[1;34m'E'\u001b[0m  \u001b[1;33m+\u001b[0m \u001b[1;33m(\u001b[0m\u001b[0mn2\u001b[0m\u001b[1;33m-\u001b[0m\u001b[1;36m2\u001b[0m\u001b[1;33m)\u001b[0m\u001b[1;33m*\u001b[0m\u001b[1;34m'N'\u001b[0m \u001b[1;33m+\u001b[0m \u001b[1;33m(\u001b[0m\u001b[0mn2\u001b[0m\u001b[1;33m-\u001b[0m\u001b[1;36m1\u001b[0m\u001b[1;33m)\u001b[0m\u001b[1;33m*\u001b[0m\u001b[1;34m'W'\u001b[0m \u001b[1;33m+\u001b[0m \u001b[1;33m(\u001b[0m\u001b[0mn2\u001b[0m\u001b[1;33m-\u001b[0m\u001b[1;36m1\u001b[0m\u001b[1;33m)\u001b[0m\u001b[1;33m*\u001b[0m\u001b[1;34m'S'\u001b[0m \u001b[1;33m+\u001b[0m \u001b[1;33m(\u001b[0m\u001b[0mn2\u001b[0m\u001b[1;33m-\u001b[0m\u001b[1;36m1\u001b[0m\u001b[1;33m)\u001b[0m\u001b[1;33m*\u001b[0m\u001b[1;34m'E'\u001b[0m\u001b[1;33m)\u001b[0m\u001b[1;33m\u001b[0m\u001b[0m\n\u001b[1;32m----> 8\u001b[1;33m     \u001b[0mvals\u001b[0m \u001b[1;33m=\u001b[0m \u001b[1;33m[\u001b[0m\u001b[0mx\u001b[0m \u001b[1;32mfor\u001b[0m \u001b[0mx\u001b[0m \u001b[1;32min\u001b[0m \u001b[0mrange\u001b[0m\u001b[1;33m(\u001b[0m\u001b[1;36m2\u001b[0m\u001b[1;33m,\u001b[0m\u001b[0mlen\u001b[0m\u001b[1;33m(\u001b[0m\u001b[0mmat\u001b[0m\u001b[1;33m)\u001b[0m\u001b[1;33m**\u001b[0m\u001b[1;36m2\u001b[0m \u001b[1;33m+\u001b[0m\u001b[1;36m1\u001b[0m\u001b[1;33m)\u001b[0m \u001b[1;32mif\u001b[0m \u001b[0mx\u001b[0m \u001b[1;33m>\u001b[0m \u001b[0mmat\u001b[0m\u001b[1;33m.\u001b[0m\u001b[0mmax\u001b[0m\u001b[1;33m(\u001b[0m\u001b[1;33m)\u001b[0m\u001b[1;33m]\u001b[0m\u001b[1;33m\u001b[0m\u001b[0m\n\u001b[0m\u001b[0;32m      9\u001b[0m     \u001b[0mvals\u001b[0m \u001b[1;33m=\u001b[0m \u001b[0mvals\u001b[0m\u001b[1;33m[\u001b[0m\u001b[1;33m:\u001b[0m\u001b[1;33m:\u001b[0m\u001b[1;33m-\u001b[0m\u001b[1;36m1\u001b[0m\u001b[1;33m]\u001b[0m\u001b[1;33m\u001b[0m\u001b[0m\n\u001b[0;32m     10\u001b[0m     \u001b[1;32mfor\u001b[0m \u001b[0mdirection\u001b[0m \u001b[1;32min\u001b[0m \u001b[0mmoves\u001b[0m\u001b[1;33m:\u001b[0m\u001b[1;33m\u001b[0m\u001b[0m\n",
      "\u001b[1;32m<ipython-input-3-15802b6cb376>\u001b[0m in \u001b[0;36m<listcomp>\u001b[1;34m(.0)\u001b[0m\n\u001b[0;32m      6\u001b[0m     \u001b[0mposition\u001b[0m \u001b[1;33m=\u001b[0m \u001b[1;33m(\u001b[0m\u001b[0mn2\u001b[0m\u001b[1;33m-\u001b[0m\u001b[1;36m2\u001b[0m\u001b[1;33m,\u001b[0m \u001b[0mn2\u001b[0m\u001b[1;33m-\u001b[0m\u001b[1;36m2\u001b[0m\u001b[1;33m)\u001b[0m\u001b[1;33m\u001b[0m\u001b[0m\n\u001b[0;32m      7\u001b[0m     \u001b[0mmoves\u001b[0m \u001b[1;33m=\u001b[0m \u001b[0mlist\u001b[0m\u001b[1;33m(\u001b[0m\u001b[1;34m'E'\u001b[0m  \u001b[1;33m+\u001b[0m \u001b[1;33m(\u001b[0m\u001b[0mn2\u001b[0m\u001b[1;33m-\u001b[0m\u001b[1;36m2\u001b[0m\u001b[1;33m)\u001b[0m\u001b[1;33m*\u001b[0m\u001b[1;34m'N'\u001b[0m \u001b[1;33m+\u001b[0m \u001b[1;33m(\u001b[0m\u001b[0mn2\u001b[0m\u001b[1;33m-\u001b[0m\u001b[1;36m1\u001b[0m\u001b[1;33m)\u001b[0m\u001b[1;33m*\u001b[0m\u001b[1;34m'W'\u001b[0m \u001b[1;33m+\u001b[0m \u001b[1;33m(\u001b[0m\u001b[0mn2\u001b[0m\u001b[1;33m-\u001b[0m\u001b[1;36m1\u001b[0m\u001b[1;33m)\u001b[0m\u001b[1;33m*\u001b[0m\u001b[1;34m'S'\u001b[0m \u001b[1;33m+\u001b[0m \u001b[1;33m(\u001b[0m\u001b[0mn2\u001b[0m\u001b[1;33m-\u001b[0m\u001b[1;36m1\u001b[0m\u001b[1;33m)\u001b[0m\u001b[1;33m*\u001b[0m\u001b[1;34m'E'\u001b[0m\u001b[1;33m)\u001b[0m\u001b[1;33m\u001b[0m\u001b[0m\n\u001b[1;32m----> 8\u001b[1;33m     \u001b[0mvals\u001b[0m \u001b[1;33m=\u001b[0m \u001b[1;33m[\u001b[0m\u001b[0mx\u001b[0m \u001b[1;32mfor\u001b[0m \u001b[0mx\u001b[0m \u001b[1;32min\u001b[0m \u001b[0mrange\u001b[0m\u001b[1;33m(\u001b[0m\u001b[1;36m2\u001b[0m\u001b[1;33m,\u001b[0m\u001b[0mlen\u001b[0m\u001b[1;33m(\u001b[0m\u001b[0mmat\u001b[0m\u001b[1;33m)\u001b[0m\u001b[1;33m**\u001b[0m\u001b[1;36m2\u001b[0m \u001b[1;33m+\u001b[0m\u001b[1;36m1\u001b[0m\u001b[1;33m)\u001b[0m \u001b[1;32mif\u001b[0m \u001b[0mx\u001b[0m \u001b[1;33m>\u001b[0m \u001b[0mmat\u001b[0m\u001b[1;33m.\u001b[0m\u001b[0mmax\u001b[0m\u001b[1;33m(\u001b[0m\u001b[1;33m)\u001b[0m\u001b[1;33m]\u001b[0m\u001b[1;33m\u001b[0m\u001b[0m\n\u001b[0m\u001b[0;32m      9\u001b[0m     \u001b[0mvals\u001b[0m \u001b[1;33m=\u001b[0m \u001b[0mvals\u001b[0m\u001b[1;33m[\u001b[0m\u001b[1;33m:\u001b[0m\u001b[1;33m:\u001b[0m\u001b[1;33m-\u001b[0m\u001b[1;36m1\u001b[0m\u001b[1;33m]\u001b[0m\u001b[1;33m\u001b[0m\u001b[0m\n\u001b[0;32m     10\u001b[0m     \u001b[1;32mfor\u001b[0m \u001b[0mdirection\u001b[0m \u001b[1;32min\u001b[0m \u001b[0mmoves\u001b[0m\u001b[1;33m:\u001b[0m\u001b[1;33m\u001b[0m\u001b[0m\n",
      "\u001b[1;32mD:\\Anaconda3\\lib\\site-packages\\numpy\\core\\_methods.py\u001b[0m in \u001b[0;36m_amax\u001b[1;34m(a, axis, out, keepdims)\u001b[0m\n\u001b[0;32m     24\u001b[0m \u001b[1;31m# small reductions\u001b[0m\u001b[1;33m\u001b[0m\u001b[1;33m\u001b[0m\u001b[0m\n\u001b[0;32m     25\u001b[0m \u001b[1;32mdef\u001b[0m \u001b[0m_amax\u001b[0m\u001b[1;33m(\u001b[0m\u001b[0ma\u001b[0m\u001b[1;33m,\u001b[0m \u001b[0maxis\u001b[0m\u001b[1;33m=\u001b[0m\u001b[1;32mNone\u001b[0m\u001b[1;33m,\u001b[0m \u001b[0mout\u001b[0m\u001b[1;33m=\u001b[0m\u001b[1;32mNone\u001b[0m\u001b[1;33m,\u001b[0m \u001b[0mkeepdims\u001b[0m\u001b[1;33m=\u001b[0m\u001b[1;32mFalse\u001b[0m\u001b[1;33m)\u001b[0m\u001b[1;33m:\u001b[0m\u001b[1;33m\u001b[0m\u001b[0m\n\u001b[1;32m---> 26\u001b[1;33m     \u001b[1;32mreturn\u001b[0m \u001b[0mumr_maximum\u001b[0m\u001b[1;33m(\u001b[0m\u001b[0ma\u001b[0m\u001b[1;33m,\u001b[0m \u001b[0maxis\u001b[0m\u001b[1;33m,\u001b[0m \u001b[1;32mNone\u001b[0m\u001b[1;33m,\u001b[0m \u001b[0mout\u001b[0m\u001b[1;33m,\u001b[0m \u001b[0mkeepdims\u001b[0m\u001b[1;33m)\u001b[0m\u001b[1;33m\u001b[0m\u001b[0m\n\u001b[0m\u001b[0;32m     27\u001b[0m \u001b[1;33m\u001b[0m\u001b[0m\n\u001b[0;32m     28\u001b[0m \u001b[1;32mdef\u001b[0m \u001b[0m_amin\u001b[0m\u001b[1;33m(\u001b[0m\u001b[0ma\u001b[0m\u001b[1;33m,\u001b[0m \u001b[0maxis\u001b[0m\u001b[1;33m=\u001b[0m\u001b[1;32mNone\u001b[0m\u001b[1;33m,\u001b[0m \u001b[0mout\u001b[0m\u001b[1;33m=\u001b[0m\u001b[1;32mNone\u001b[0m\u001b[1;33m,\u001b[0m \u001b[0mkeepdims\u001b[0m\u001b[1;33m=\u001b[0m\u001b[1;32mFalse\u001b[0m\u001b[1;33m)\u001b[0m\u001b[1;33m:\u001b[0m\u001b[1;33m\u001b[0m\u001b[0m\n",
      "\u001b[1;31mKeyboardInterrupt\u001b[0m: "
     ]
    }
   ],
   "source": [
    "#intialize\n",
    "mat = create_matrix(3)\n",
    "mat = fill_matrix(mat)\n",
    "primes = eulertools.primesfrom2to(1000000)\n",
    "\n",
    "ratio = 1\n",
    "\n",
    "while ratio >= 0.1:\n",
    "    \n",
    "    mat = fill_matrix2(mat)\n",
    "    pr, diag, primes = check_diagonals(mat,primes)\n",
    "    ratio = pr/diag\n",
    "\n",
    "    \n",
    "    "
   ]
  },
  {
   "cell_type": "code",
   "execution_count": 2,
   "metadata": {
    "collapsed": false
   },
   "outputs": [],
   "source": [
    "primes = eulertools.primesfrom2to(1000000)"
   ]
  },
  {
   "cell_type": "code",
   "execution_count": 23,
   "metadata": {
    "collapsed": true
   },
   "outputs": [],
   "source": [
    "import cProfile as cp"
   ]
  },
  {
   "cell_type": "code",
   "execution_count": 12,
   "metadata": {
    "collapsed": false
   },
   "outputs": [],
   "source": [
    "def alternate(primes, val):\n",
    "    '''Deduce the way the numbers increase as a function of the increased side. Apply that knowdledge to \n",
    "    infer the turning point'''\n",
    "    #intialize\n",
    "    diagonals = [1,3,5,7,9]\n",
    "    dist = len(diagonals)\n",
    "    pmax = primes.max()\n",
    "    maxd = max(diagonals)\n",
    "    ratio = 1\n",
    "    pr_list = [1 if x in primes else 0 for x in diagonals]\n",
    "    n=5\n",
    "    \n",
    "    #loop\n",
    "    while ratio > val:\n",
    "    \n",
    "        if maxd < pmax:\n",
    "            primes = primes\n",
    "        else:\n",
    "            primes = eulertools.primesfrom2to(100*pmax)\n",
    "            pmax = primes.max()\n",
    "        ext_list = [maxd+(n-1), maxd+2*(n-1), maxd + 3*(n-1), maxd+4*(n-1)]\n",
    "        ext_pr = [1  if x in primes else 0 for x in ext_list]\n",
    "        \n",
    "        diagonals.extend(ext_list)\n",
    "        pr_list.extend(ext_pr)\n",
    "        \n",
    "        maxd = maxd + 4*(n-1)\n",
    "        dist +=4\n",
    "        ratio = sum(pr_list)/dist\n",
    "        \n",
    "        n +=2\n",
    "        \n",
    "    return n, ratio, maxd, diagonals, pr_list\n",
    "    \n",
    "    \n",
    "    \n",
    "   # pr_list = [1 for x in diagonals if x in primes else 0]\n",
    "    "
   ]
  },
  {
   "cell_type": "code",
   "execution_count": 61,
   "metadata": {
    "collapsed": false
   },
   "outputs": [
    {
     "name": "stdout",
     "output_type": "stream",
     "text": [
      "         774 function calls in 1.148 seconds\n",
      "\n",
      "   Ordered by: standard name\n",
      "\n",
      "   ncalls  tottime  percall  cumtime  percall filename:lineno(function)\n",
      "        1    0.011    0.011    1.147    1.147 <ipython-input-12-769ac68c0a27>:1(alternate)\n",
      "      153    1.124    0.007    1.124    0.007 <ipython-input-12-769ac68c0a27>:21(<listcomp>)\n",
      "        1    0.007    0.007    0.007    0.007 <ipython-input-12-769ac68c0a27>:9(<listcomp>)\n",
      "        1    0.000    0.000    1.147    1.147 <string>:1(<module>)\n",
      "        1    0.000    0.000    0.001    0.001 _methods.py:25(_amax)\n",
      "        1    0.000    0.000    1.148    1.148 {built-in method exec}\n",
      "      153    0.000    0.000    0.000    0.000 {built-in method len}\n",
      "        1    0.000    0.000    0.000    0.000 {built-in method max}\n",
      "      153    0.004    0.000    0.004    0.000 {built-in method sum}\n",
      "        1    0.000    0.000    0.000    0.000 {method 'disable' of '_lsprof.Profiler' objects}\n",
      "      306    0.001    0.000    0.001    0.000 {method 'extend' of 'list' objects}\n",
      "        1    0.000    0.000    0.001    0.001 {method 'max' of 'numpy.ndarray' objects}\n",
      "        1    0.000    0.000    0.000    0.000 {method 'reduce' of 'numpy.ufunc' objects}\n",
      "\n",
      "\n"
     ]
    }
   ],
   "source": [
    "cp.run('alternate(primes,0.2)')"
   ]
  },
  {
   "cell_type": "code",
   "execution_count": 65,
   "metadata": {
    "collapsed": false
   },
   "outputs": [
    {
     "name": "stdout",
     "output_type": "stream",
     "text": [
      "         66 function calls in 565.538 seconds\n",
      "\n",
      "   Ordered by: standard name\n",
      "\n",
      "   ncalls  tottime  percall  cumtime  percall filename:lineno(function)\n",
      "        1  561.673  561.673  565.537  565.537 <ipython-input-63-a9ca4eb49247>:1(alternate2)\n",
      "        1    0.007    0.007    0.007    0.007 <ipython-input-63-a9ca4eb49247>:10(<listcomp>)\n",
      "        1    0.000    0.000  565.537  565.537 <string>:1(<module>)\n",
      "        2    0.000    0.000    0.030    0.015 _methods.py:25(_amax)\n",
      "        1    3.425    3.425    3.828    3.828 eulertools.py:2(primesfrom2to)\n",
      "        1    0.000    0.000    0.271    0.271 fromnumeric.py:1484(nonzero)\n",
      "        1    0.000    0.000    0.000    0.000 index_tricks.py:231(_retval)\n",
      "        1    0.001    0.001    0.060    0.060 index_tricks.py:251(__getitem__)\n",
      "        1    0.000    0.000    0.071    0.071 numeric.py:141(ones)\n",
      "        1    0.000    0.000    0.000    0.000 numerictypes.py:1015(<listcomp>)\n",
      "        1    0.000    0.000    0.000    0.000 numerictypes.py:1016(<listcomp>)\n",
      "        2    0.000    0.000    0.000    0.000 numerictypes.py:942(_can_coerce_all)\n",
      "        6    0.000    0.000    0.000    0.000 numerictypes.py:951(<listcomp>)\n",
      "        1    0.000    0.000    0.001    0.001 numerictypes.py:964(find_common_type)\n",
      "        2    0.000    0.000    0.000    0.000 {built-in method array}\n",
      "        1    0.058    0.058    0.058    0.058 {built-in method concatenate}\n",
      "        1    0.070    0.070    0.070    0.070 {built-in method copyto}\n",
      "        1    0.001    0.001    0.001    0.001 {built-in method empty}\n",
      "        1    0.001    0.001  565.538  565.538 {built-in method exec}\n",
      "        9    0.000    0.000    0.000    0.000 {built-in method isinstance}\n",
      "       10    0.000    0.000    0.000    0.000 {built-in method len}\n",
      "        1    0.000    0.000    0.000    0.000 {built-in method max}\n",
      "        1    0.000    0.000    0.000    0.000 {built-in method sum}\n",
      "        8    0.000    0.000    0.000    0.000 {method 'append' of 'list' objects}\n",
      "        2    0.000    0.000    0.000    0.000 {method 'astype' of 'numpy.ndarray' objects}\n",
      "        1    0.000    0.000    0.000    0.000 {method 'disable' of '_lsprof.Profiler' objects}\n",
      "        2    0.000    0.000    0.000    0.000 {method 'index' of 'list' objects}\n",
      "        2    0.000    0.000    0.030    0.015 {method 'max' of 'numpy.ndarray' objects}\n",
      "        1    0.271    0.271    0.271    0.271 {method 'nonzero' of 'numpy.ndarray' objects}\n",
      "        2    0.030    0.015    0.030    0.015 {method 'reduce' of 'numpy.ufunc' objects}\n",
      "\n",
      "\n"
     ]
    },
    {
     "ename": "KeyboardInterrupt",
     "evalue": "",
     "output_type": "error",
     "traceback": [
      "\u001b[1;31m---------------------------------------------------------------------------\u001b[0m",
      "\u001b[1;31mKeyboardInterrupt\u001b[0m                         Traceback (most recent call last)",
      "\u001b[1;32m<ipython-input-65-e028422f7be6>\u001b[0m in \u001b[0;36m<module>\u001b[1;34m()\u001b[0m\n\u001b[1;32m----> 1\u001b[1;33m \u001b[0mcp\u001b[0m\u001b[1;33m.\u001b[0m\u001b[0mrun\u001b[0m\u001b[1;33m(\u001b[0m\u001b[1;34m'alternate2(primes,0.1)'\u001b[0m\u001b[1;33m)\u001b[0m\u001b[1;33m\u001b[0m\u001b[0m\n\u001b[0m",
      "\u001b[1;32mD:\\Anaconda3\\lib\\cProfile.py\u001b[0m in \u001b[0;36mrun\u001b[1;34m(statement, filename, sort)\u001b[0m\n\u001b[0;32m     14\u001b[0m \u001b[1;33m\u001b[0m\u001b[0m\n\u001b[0;32m     15\u001b[0m \u001b[1;32mdef\u001b[0m \u001b[0mrun\u001b[0m\u001b[1;33m(\u001b[0m\u001b[0mstatement\u001b[0m\u001b[1;33m,\u001b[0m \u001b[0mfilename\u001b[0m\u001b[1;33m=\u001b[0m\u001b[1;32mNone\u001b[0m\u001b[1;33m,\u001b[0m \u001b[0msort\u001b[0m\u001b[1;33m=\u001b[0m\u001b[1;33m-\u001b[0m\u001b[1;36m1\u001b[0m\u001b[1;33m)\u001b[0m\u001b[1;33m:\u001b[0m\u001b[1;33m\u001b[0m\u001b[0m\n\u001b[1;32m---> 16\u001b[1;33m     \u001b[1;32mreturn\u001b[0m \u001b[0m_pyprofile\u001b[0m\u001b[1;33m.\u001b[0m\u001b[0m_Utils\u001b[0m\u001b[1;33m(\u001b[0m\u001b[0mProfile\u001b[0m\u001b[1;33m)\u001b[0m\u001b[1;33m.\u001b[0m\u001b[0mrun\u001b[0m\u001b[1;33m(\u001b[0m\u001b[0mstatement\u001b[0m\u001b[1;33m,\u001b[0m \u001b[0mfilename\u001b[0m\u001b[1;33m,\u001b[0m \u001b[0msort\u001b[0m\u001b[1;33m)\u001b[0m\u001b[1;33m\u001b[0m\u001b[0m\n\u001b[0m\u001b[0;32m     17\u001b[0m \u001b[1;33m\u001b[0m\u001b[0m\n\u001b[0;32m     18\u001b[0m \u001b[1;32mdef\u001b[0m \u001b[0mrunctx\u001b[0m\u001b[1;33m(\u001b[0m\u001b[0mstatement\u001b[0m\u001b[1;33m,\u001b[0m \u001b[0mglobals\u001b[0m\u001b[1;33m,\u001b[0m \u001b[0mlocals\u001b[0m\u001b[1;33m,\u001b[0m \u001b[0mfilename\u001b[0m\u001b[1;33m=\u001b[0m\u001b[1;32mNone\u001b[0m\u001b[1;33m,\u001b[0m \u001b[0msort\u001b[0m\u001b[1;33m=\u001b[0m\u001b[1;33m-\u001b[0m\u001b[1;36m1\u001b[0m\u001b[1;33m)\u001b[0m\u001b[1;33m:\u001b[0m\u001b[1;33m\u001b[0m\u001b[0m\n",
      "\u001b[1;32mD:\\Anaconda3\\lib\\profile.py\u001b[0m in \u001b[0;36mrun\u001b[1;34m(self, statement, filename, sort)\u001b[0m\n\u001b[0;32m     53\u001b[0m         \u001b[0mprof\u001b[0m \u001b[1;33m=\u001b[0m \u001b[0mself\u001b[0m\u001b[1;33m.\u001b[0m\u001b[0mprofiler\u001b[0m\u001b[1;33m(\u001b[0m\u001b[1;33m)\u001b[0m\u001b[1;33m\u001b[0m\u001b[0m\n\u001b[0;32m     54\u001b[0m         \u001b[1;32mtry\u001b[0m\u001b[1;33m:\u001b[0m\u001b[1;33m\u001b[0m\u001b[0m\n\u001b[1;32m---> 55\u001b[1;33m             \u001b[0mprof\u001b[0m\u001b[1;33m.\u001b[0m\u001b[0mrun\u001b[0m\u001b[1;33m(\u001b[0m\u001b[0mstatement\u001b[0m\u001b[1;33m)\u001b[0m\u001b[1;33m\u001b[0m\u001b[0m\n\u001b[0m\u001b[0;32m     56\u001b[0m         \u001b[1;32mexcept\u001b[0m \u001b[0mSystemExit\u001b[0m\u001b[1;33m:\u001b[0m\u001b[1;33m\u001b[0m\u001b[0m\n\u001b[0;32m     57\u001b[0m             \u001b[1;32mpass\u001b[0m\u001b[1;33m\u001b[0m\u001b[0m\n",
      "\u001b[1;32mD:\\Anaconda3\\lib\\cProfile.py\u001b[0m in \u001b[0;36mrun\u001b[1;34m(self, cmd)\u001b[0m\n\u001b[0;32m     93\u001b[0m         \u001b[1;32mimport\u001b[0m \u001b[0m__main__\u001b[0m\u001b[1;33m\u001b[0m\u001b[0m\n\u001b[0;32m     94\u001b[0m         \u001b[0mdict\u001b[0m \u001b[1;33m=\u001b[0m \u001b[0m__main__\u001b[0m\u001b[1;33m.\u001b[0m\u001b[0m__dict__\u001b[0m\u001b[1;33m\u001b[0m\u001b[0m\n\u001b[1;32m---> 95\u001b[1;33m         \u001b[1;32mreturn\u001b[0m \u001b[0mself\u001b[0m\u001b[1;33m.\u001b[0m\u001b[0mrunctx\u001b[0m\u001b[1;33m(\u001b[0m\u001b[0mcmd\u001b[0m\u001b[1;33m,\u001b[0m \u001b[0mdict\u001b[0m\u001b[1;33m,\u001b[0m \u001b[0mdict\u001b[0m\u001b[1;33m)\u001b[0m\u001b[1;33m\u001b[0m\u001b[0m\n\u001b[0m\u001b[0;32m     96\u001b[0m \u001b[1;33m\u001b[0m\u001b[0m\n\u001b[0;32m     97\u001b[0m     \u001b[1;32mdef\u001b[0m \u001b[0mrunctx\u001b[0m\u001b[1;33m(\u001b[0m\u001b[0mself\u001b[0m\u001b[1;33m,\u001b[0m \u001b[0mcmd\u001b[0m\u001b[1;33m,\u001b[0m \u001b[0mglobals\u001b[0m\u001b[1;33m,\u001b[0m \u001b[0mlocals\u001b[0m\u001b[1;33m)\u001b[0m\u001b[1;33m:\u001b[0m\u001b[1;33m\u001b[0m\u001b[0m\n",
      "\u001b[1;32mD:\\Anaconda3\\lib\\cProfile.py\u001b[0m in \u001b[0;36mrunctx\u001b[1;34m(self, cmd, globals, locals)\u001b[0m\n\u001b[0;32m     98\u001b[0m         \u001b[0mself\u001b[0m\u001b[1;33m.\u001b[0m\u001b[0menable\u001b[0m\u001b[1;33m(\u001b[0m\u001b[1;33m)\u001b[0m\u001b[1;33m\u001b[0m\u001b[0m\n\u001b[0;32m     99\u001b[0m         \u001b[1;32mtry\u001b[0m\u001b[1;33m:\u001b[0m\u001b[1;33m\u001b[0m\u001b[0m\n\u001b[1;32m--> 100\u001b[1;33m             \u001b[0mexec\u001b[0m\u001b[1;33m(\u001b[0m\u001b[0mcmd\u001b[0m\u001b[1;33m,\u001b[0m \u001b[0mglobals\u001b[0m\u001b[1;33m,\u001b[0m \u001b[0mlocals\u001b[0m\u001b[1;33m)\u001b[0m\u001b[1;33m\u001b[0m\u001b[0m\n\u001b[0m\u001b[0;32m    101\u001b[0m         \u001b[1;32mfinally\u001b[0m\u001b[1;33m:\u001b[0m\u001b[1;33m\u001b[0m\u001b[0m\n\u001b[0;32m    102\u001b[0m             \u001b[0mself\u001b[0m\u001b[1;33m.\u001b[0m\u001b[0mdisable\u001b[0m\u001b[1;33m(\u001b[0m\u001b[1;33m)\u001b[0m\u001b[1;33m\u001b[0m\u001b[0m\n",
      "\u001b[1;32m<string>\u001b[0m in \u001b[0;36m<module>\u001b[1;34m()\u001b[0m\n",
      "\u001b[1;32m<ipython-input-63-a9ca4eb49247>\u001b[0m in \u001b[0;36malternate2\u001b[1;34m(primes, val)\u001b[0m\n\u001b[0;32m     24\u001b[0m \u001b[1;33m\u001b[0m\u001b[0m\n\u001b[0;32m     25\u001b[0m         \u001b[1;32mfor\u001b[0m \u001b[0mi\u001b[0m \u001b[1;32min\u001b[0m \u001b[0mrange\u001b[0m\u001b[1;33m(\u001b[0m\u001b[1;36m1\u001b[0m\u001b[1;33m,\u001b[0m\u001b[1;36m5\u001b[0m\u001b[1;33m)\u001b[0m\u001b[1;33m:\u001b[0m\u001b[1;33m\u001b[0m\u001b[0m\n\u001b[1;32m---> 26\u001b[1;33m             \u001b[0mvalue\u001b[0m \u001b[1;33m=\u001b[0m \u001b[0mmaxd\u001b[0m \u001b[1;33m+\u001b[0m \u001b[0mi\u001b[0m \u001b[1;33m*\u001b[0m\u001b[1;33m(\u001b[0m\u001b[0mn\u001b[0m\u001b[1;33m-\u001b[0m\u001b[1;36m1\u001b[0m\u001b[1;33m)\u001b[0m\u001b[1;33m\u001b[0m\u001b[0m\n\u001b[0m\u001b[0;32m     27\u001b[0m             \u001b[1;31m#diagonals.append(value)\u001b[0m\u001b[1;33m\u001b[0m\u001b[1;33m\u001b[0m\u001b[0m\n\u001b[0;32m     28\u001b[0m             \u001b[1;32mif\u001b[0m \u001b[0mvalue\u001b[0m \u001b[1;32min\u001b[0m \u001b[0mprimes\u001b[0m\u001b[1;33m:\u001b[0m\u001b[1;33m\u001b[0m\u001b[0m\n",
      "\u001b[1;31mKeyboardInterrupt\u001b[0m: "
     ]
    }
   ],
   "source": [
    "cp.run('alternate2(primes,0.1)')"
   ]
  },
  {
   "cell_type": "code",
   "execution_count": 63,
   "metadata": {
    "collapsed": false
   },
   "outputs": [],
   "source": [
    "def alternate2(primes, val):\n",
    "    '''Deduce the way the numbers increase as a function of the increased side. Apply that knowdledge to \n",
    "    infer the turning point'''\n",
    "    #intialize\n",
    "    diagonals = [1,3,5,7,9]\n",
    "    dist = len(diagonals)\n",
    "    pmax = primes.max()\n",
    "    maxd = max(diagonals)\n",
    "    ratio = 1\n",
    "    pr_list = [1 if x in primes else 0 for x in diagonals]\n",
    "    \n",
    "    prs = sum(pr_list)\n",
    "    n=3\n",
    "    \n",
    "    #loop\n",
    "    while ratio > val:\n",
    "        n+=2\n",
    "    \n",
    "        if maxd < pmax:\n",
    "            primes = primes\n",
    "        else:\n",
    "            primes = eulertools.primesfrom2to(100*pmax)\n",
    "            pmax = primes.max()\n",
    "        \n",
    "        for i in range(1,5):\n",
    "            value = maxd + i *(n-1)\n",
    "            #diagonals.append(value)\n",
    "            if value in primes:\n",
    "                prs +=1\n",
    "        #ext_list = [maxd+(n-1), maxd+2*(n-1), maxd + 3*(n-1), maxd+4*(n-1)]\n",
    "        #ext_pr = [1  if x in primes else 0 for x in ext_list]\n",
    "        \n",
    "        #diagonals.extend(ext_list)\n",
    "        #pr_list.extend(ext_pr)\n",
    "        \n",
    "        maxd = maxd + 4*(n-1)\n",
    "        dist +=4\n",
    "        ratio = prs/dist\n",
    "    \n",
    "        \n",
    "    \n",
    "        \n",
    "    return n, ratio, prs, maxd, dist#, diagonals\n",
    "    \n",
    "    \n",
    "   # pr_list = [1 for x in diagonals if x in primes else 0]\n",
    "    "
   ]
  },
  {
   "cell_type": "code",
   "execution_count": 26,
   "metadata": {
    "collapsed": false
   },
   "outputs": [],
   "source": [
    "from numba import jit\n"
   ]
  },
  {
   "cell_type": "code",
   "execution_count": 58,
   "metadata": {
    "collapsed": false
   },
   "outputs": [
    {
     "data": {
      "text/plain": [
       "0.09090909090909091"
      ]
     },
     "execution_count": 58,
     "metadata": {},
     "output_type": "execute_result"
    }
   ],
   "source": [
    "t[1]"
   ]
  },
  {
   "cell_type": "code",
   "execution_count": null,
   "metadata": {
    "collapsed": false
   },
   "outputs": [],
   "source": [
    "alternate2(primes, 0.1)"
   ]
  },
  {
   "cell_type": "code",
   "execution_count": 51,
   "metadata": {
    "collapsed": false
   },
   "outputs": [],
   "source": [
    "a = create_matrix(17)"
   ]
  },
  {
   "cell_type": "code",
   "execution_count": 53,
   "metadata": {
    "collapsed": false
   },
   "outputs": [
    {
     "data": {
      "text/plain": [
       "array([[ 257.,  256.,  255.,  254.,  253.,  252.,  251.,  250.,  249.,\n",
       "         248.,  247.,  246.,  245.,  244.,  243.,  242.,  241.],\n",
       "       [ 258.,  197.,  196.,  195.,  194.,  193.,  192.,  191.,  190.,\n",
       "         189.,  188.,  187.,  186.,  185.,  184.,  183.,  240.],\n",
       "       [ 259.,  198.,  145.,  144.,  143.,  142.,  141.,  140.,  139.,\n",
       "         138.,  137.,  136.,  135.,  134.,  133.,  182.,  239.],\n",
       "       [ 260.,  199.,  146.,  101.,  100.,   99.,   98.,   97.,   96.,\n",
       "          95.,   94.,   93.,   92.,   91.,  132.,  181.,  238.],\n",
       "       [ 261.,  200.,  147.,  102.,   65.,   64.,   63.,   62.,   61.,\n",
       "          60.,   59.,   58.,   57.,   90.,  131.,  180.,  237.],\n",
       "       [ 262.,  201.,  148.,  103.,   66.,   37.,   36.,   35.,   34.,\n",
       "          33.,   32.,   31.,   56.,   89.,  130.,  179.,  236.],\n",
       "       [ 263.,  202.,  149.,  104.,   67.,   38.,   17.,   16.,   15.,\n",
       "          14.,   13.,   30.,   55.,   88.,  129.,  178.,  235.],\n",
       "       [ 264.,  203.,  150.,  105.,   68.,   39.,   18.,    5.,    4.,\n",
       "           3.,   12.,   29.,   54.,   87.,  128.,  177.,  234.],\n",
       "       [ 265.,  204.,  151.,  106.,   69.,   40.,   19.,    6.,    1.,\n",
       "           2.,   11.,   28.,   53.,   86.,  127.,  176.,  233.],\n",
       "       [ 266.,  205.,  152.,  107.,   70.,   41.,   20.,    7.,    8.,\n",
       "           9.,   10.,   27.,   52.,   85.,  126.,  175.,  232.],\n",
       "       [ 267.,  206.,  153.,  108.,   71.,   42.,   21.,   22.,   23.,\n",
       "          24.,   25.,   26.,   51.,   84.,  125.,  174.,  231.],\n",
       "       [ 268.,  207.,  154.,  109.,   72.,   43.,   44.,   45.,   46.,\n",
       "          47.,   48.,   49.,   50.,   83.,  124.,  173.,  230.],\n",
       "       [ 269.,  208.,  155.,  110.,   73.,   74.,   75.,   76.,   77.,\n",
       "          78.,   79.,   80.,   81.,   82.,  123.,  172.,  229.],\n",
       "       [ 270.,  209.,  156.,  111.,  112.,  113.,  114.,  115.,  116.,\n",
       "         117.,  118.,  119.,  120.,  121.,  122.,  171.,  228.],\n",
       "       [ 271.,  210.,  157.,  158.,  159.,  160.,  161.,  162.,  163.,\n",
       "         164.,  165.,  166.,  167.,  168.,  169.,  170.,  227.],\n",
       "       [ 272.,  211.,  212.,  213.,  214.,  215.,  216.,  217.,  218.,\n",
       "         219.,  220.,  221.,  222.,  223.,  224.,  225.,  226.],\n",
       "       [ 273.,  274.,  275.,  276.,  277.,  278.,  279.,  280.,  281.,\n",
       "         282.,  283.,  284.,  285.,  286.,  287.,  288.,  289.]])"
      ]
     },
     "execution_count": 53,
     "metadata": {},
     "output_type": "execute_result"
    }
   ],
   "source": [
    "a = fill_matrix(a)\n",
    "a"
   ]
  },
  {
   "cell_type": "code",
   "execution_count": 98,
   "metadata": {
    "collapsed": false
   },
   "outputs": [
    {
     "data": {
      "text/plain": [
       "array([[ 37.,  36.,  35.,  34.,  33.,  32.,  31.],\n",
       "       [ 38.,  17.,  16.,  15.,  14.,  13.,  30.],\n",
       "       [ 39.,  18.,   5.,   4.,   3.,  12.,  29.],\n",
       "       [ 40.,  19.,   6.,   1.,   2.,  11.,  28.],\n",
       "       [ 41.,  20.,   7.,   8.,   9.,  10.,  27.],\n",
       "       [ 42.,  21.,  22.,  23.,  24.,  25.,  26.],\n",
       "       [ 43.,  44.,  45.,  46.,  47.,  48.,  49.]])"
      ]
     },
     "execution_count": 98,
     "metadata": {},
     "output_type": "execute_result"
    }
   ],
   "source": [
    "a"
   ]
  },
  {
   "cell_type": "code",
   "execution_count": null,
   "metadata": {
    "collapsed": true
   },
   "outputs": [],
   "source": []
  }
 ],
 "metadata": {
  "kernelspec": {
   "display_name": "Python 3",
   "language": "python",
   "name": "python3"
  },
  "language_info": {
   "codemirror_mode": {
    "name": "ipython",
    "version": 3
   },
   "file_extension": ".py",
   "mimetype": "text/x-python",
   "name": "python",
   "nbconvert_exporter": "python",
   "pygments_lexer": "ipython3",
   "version": "3.4.4"
  }
 },
 "nbformat": 4,
 "nbformat_minor": 0
}
