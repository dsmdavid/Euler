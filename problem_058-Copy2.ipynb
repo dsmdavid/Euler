{
 "cells": [
  {
   "cell_type": "markdown",
   "metadata": {},
   "source": [
    "\n",
    "Starting with 1 and spiralling anticlockwise in the following way, a square spiral with side length 7 is formed.\n",
    "\n",
    "\n",
    "$$\n",
    "|37| 36| 35| 34| 33| 32| 31| \\\\ \n",
    "|38| 17| 16| 15| 14| 13| 30|  \\\\\n",
    "|39| 18|  5|  4|  3| 12| 29|  \\\\\n",
    "|40| 19|  6|  1|  2| 11| 28|  \\\\\n",
    "|41| 20|  7|  8|  9| 10| 27|  \\\\ \n",
    "|42| 21| 22| 23| 24| 25| 26| \\\\\n",
    "|43| 44| 45| 46| 47| 48| 49|\n",
    "$$\n",
    "\n",
    "\n",
    "It is interesting to note that the odd squares lie along the bottom right diagonal, but what is more interesting is that 8 out of the 13 numbers lying along both diagonals are prime; that is, a ratio of 8/13 ≈ 62%.\n",
    "\n",
    "If one complete new layer is wrapped around the spiral above, a square spiral with side length 9 will be formed. If this process is continued, what is the side length of the square spiral for which the ratio of primes along both diagonals first falls below 10%?"
   ]
  },
  {
   "cell_type": "markdown",
   "metadata": {},
   "source": [
    "#Approach:\n",
    "####1. Create matrix\n",
    "####2. Fill matrix\n",
    "####3. Check if diagonals are prime\n",
    "####4. Calculate %"
   ]
  },
  {
   "cell_type": "code",
   "execution_count": 2,
   "metadata": {
    "collapsed": false
   },
   "outputs": [],
   "source": [
    "import numpy as np\n",
    "import eulertools"
   ]
  },
  {
   "cell_type": "code",
   "execution_count": null,
   "metadata": {
    "collapsed": true
   },
   "outputs": [],
   "source": [
    "np.r_[]"
   ]
  },
  {
   "cell_type": "code",
   "execution_count": 22,
   "metadata": {
    "collapsed": false
   },
   "outputs": [
    {
     "ename": "MemoryError",
     "evalue": "",
     "output_type": "error",
     "traceback": [
      "\u001b[1;31m---------------------------------------------------------------------------\u001b[0m",
      "\u001b[1;31mMemoryError\u001b[0m                               Traceback (most recent call last)",
      "\u001b[1;32m<ipython-input-22-665ba4af490f>\u001b[0m in \u001b[0;36m<module>\u001b[1;34m()\u001b[0m\n\u001b[1;32m----> 1\u001b[1;33m \u001b[0mprimes\u001b[0m \u001b[1;33m=\u001b[0m \u001b[0mset\u001b[0m\u001b[1;33m(\u001b[0m\u001b[0meulertools\u001b[0m\u001b[1;33m.\u001b[0m\u001b[0mprimesfrom2to\u001b[0m\u001b[1;33m(\u001b[0m\u001b[1;36m1000000000\u001b[0m\u001b[1;33m)\u001b[0m\u001b[1;33m)\u001b[0m\u001b[1;33m\u001b[0m\u001b[0m\n\u001b[0m",
      "\u001b[1;32mC:\\Users\\David\\Dropbox\\python\\Euler\\eulertools.py\u001b[0m in \u001b[0;36mprimesfrom2to\u001b[1;34m(n)\u001b[0m\n\u001b[0;32m      8\u001b[0m             \u001b[0msieve\u001b[0m\u001b[1;33m[\u001b[0m       \u001b[0mk\u001b[0m\u001b[1;33m*\u001b[0m\u001b[0mk\u001b[0m\u001b[1;33m/\u001b[0m\u001b[1;36m3\u001b[0m     \u001b[1;33m:\u001b[0m\u001b[1;33m:\u001b[0m\u001b[1;36m2\u001b[0m\u001b[1;33m*\u001b[0m\u001b[0mk\u001b[0m\u001b[1;33m]\u001b[0m \u001b[1;33m=\u001b[0m \u001b[1;32mFalse\u001b[0m\u001b[1;33m\u001b[0m\u001b[0m\n\u001b[0;32m      9\u001b[0m             \u001b[0msieve\u001b[0m\u001b[1;33m[\u001b[0m\u001b[0mk\u001b[0m\u001b[1;33m*\u001b[0m\u001b[1;33m(\u001b[0m\u001b[0mk\u001b[0m\u001b[1;33m-\u001b[0m\u001b[1;36m2\u001b[0m\u001b[1;33m*\u001b[0m\u001b[1;33m(\u001b[0m\u001b[0mi\u001b[0m\u001b[1;33m&\u001b[0m\u001b[1;36m1\u001b[0m\u001b[1;33m)\u001b[0m\u001b[1;33m+\u001b[0m\u001b[1;36m4\u001b[0m\u001b[1;33m)\u001b[0m\u001b[1;33m/\u001b[0m\u001b[1;36m3\u001b[0m\u001b[1;33m:\u001b[0m\u001b[1;33m:\u001b[0m\u001b[1;36m2\u001b[0m\u001b[1;33m*\u001b[0m\u001b[0mk\u001b[0m\u001b[1;33m]\u001b[0m \u001b[1;33m=\u001b[0m \u001b[1;32mFalse\u001b[0m\u001b[1;33m\u001b[0m\u001b[0m\n\u001b[1;32m---> 10\u001b[1;33m     \u001b[1;32mreturn\u001b[0m \u001b[0mnumpy\u001b[0m\u001b[1;33m.\u001b[0m\u001b[0mr_\u001b[0m\u001b[1;33m[\u001b[0m\u001b[1;36m2\u001b[0m\u001b[1;33m,\u001b[0m\u001b[1;36m3\u001b[0m\u001b[1;33m,\u001b[0m\u001b[1;33m(\u001b[0m\u001b[1;33m(\u001b[0m\u001b[1;36m3\u001b[0m\u001b[1;33m*\u001b[0m\u001b[0mnumpy\u001b[0m\u001b[1;33m.\u001b[0m\u001b[0mnonzero\u001b[0m\u001b[1;33m(\u001b[0m\u001b[0msieve\u001b[0m\u001b[1;33m)\u001b[0m\u001b[1;33m[\u001b[0m\u001b[1;36m0\u001b[0m\u001b[1;33m]\u001b[0m\u001b[1;33m[\u001b[0m\u001b[1;36m1\u001b[0m\u001b[1;33m:\u001b[0m\u001b[1;33m]\u001b[0m\u001b[1;33m+\u001b[0m\u001b[1;36m1\u001b[0m\u001b[1;33m)\u001b[0m\u001b[1;33m|\u001b[0m\u001b[1;36m1\u001b[0m\u001b[1;33m)\u001b[0m\u001b[1;33m]\u001b[0m\u001b[1;33m\u001b[0m\u001b[0m\n\u001b[0m",
      "\u001b[1;31mMemoryError\u001b[0m: "
     ]
    }
   ],
   "source": [
    "primes = set(eulertools.primesfrom2to(100000000))\n"
   ]
  },
  {
   "cell_type": "code",
   "execution_count": 23,
   "metadata": {
    "collapsed": false
   },
   "outputs": [],
   "source": [
    "#@profile\n",
    "def alternate2(primes, val):\n",
    "    '''Deduce the way the numbers increase as a function of the increased side. Apply that knowdledge to \n",
    "    infer the turning point'''\n",
    "    #intialize\n",
    "    diagonals = [1,3,5,7,9]\n",
    "    dist = len(diagonals)\n",
    "    pmax = max(primes)\n",
    "    maxd = max(diagonals)\n",
    "    ratio = 1\n",
    "    pr_list = [1 if x in primes else 0 for x in diagonals]\n",
    "    \n",
    "    prs = sum(pr_list)\n",
    "    n=3\n",
    "    \n",
    "    #loop\n",
    "    while ratio > val:\n",
    "        n+=2\n",
    "    \n",
    "        if maxd < pmax:\n",
    "            primes = primes\n",
    "        else:\n",
    "            primes = set(eulertools.primesfrom2to(100*pmax))\n",
    "            pmax = max(primes)\n",
    "        \n",
    "        for i in range(1,5):\n",
    "            value = maxd + i *(n-1)\n",
    "            #diagonals.append(value)\n",
    "            if value in primes:\n",
    "                prs +=1\n",
    "        #ext_list = [maxd+(n-1), maxd+2*(n-1), maxd + 3*(n-1), maxd+4*(n-1)]\n",
    "        #ext_pr = [1  if x in primes else 0 for x in ext_list]\n",
    "        \n",
    "        #diagonals.extend(ext_list)\n",
    "        #pr_list.extend(ext_pr)\n",
    "        \n",
    "        maxd = maxd + 4*(n-1)\n",
    "        dist +=4\n",
    "        ratio = prs/dist\n",
    "    \n",
    "        \n",
    "    \n",
    "        \n",
    "    return n, ratio, prs, maxd, dist, pmax#.max()#, diagonals\n",
    "    \n",
    "    \n",
    "   # pr_list = [1 for x in diagonals if x in primes else 0]\n",
    "    "
   ]
  },
  {
   "cell_type": "code",
   "execution_count": 24,
   "metadata": {
    "collapsed": false
   },
   "outputs": [],
   "source": [
    "t = alternate2(primes, 0.15)"
   ]
  },
  {
   "cell_type": "code",
   "execution_count": 25,
   "metadata": {
    "collapsed": false
   },
   "outputs": [
    {
     "data": {
      "text/plain": [
       "(981, 0.14992350841407445, 294, 962361, 1961, 99999989)"
      ]
     },
     "execution_count": 25,
     "metadata": {},
     "output_type": "execute_result"
    }
   ],
   "source": [
    "t"
   ]
  },
  {
   "cell_type": "code",
   "execution_count": 26,
   "metadata": {
    "collapsed": false
   },
   "outputs": [
    {
     "data": {
      "text/plain": [
       "11"
      ]
     },
     "execution_count": 26,
     "metadata": {},
     "output_type": "execute_result"
    }
   ],
   "source": [
    "1000000000-99999989"
   ]
  },
  {
   "cell_type": "code",
   "execution_count": 4,
   "metadata": {
    "collapsed": false
   },
   "outputs": [
    {
     "name": "stderr",
     "output_type": "stream",
     "text": [
      "C:\\Anaconda3\\lib\\site-packages\\numpy\\core\\numeric.py:190: VisibleDeprecationWarning: using a non-integer number instead of an integer will result in an error in the future\n",
      "  a = empty(shape, dtype, order)\n",
      "C:\\Users\\sanchezmartind\\Dropbox\\python\\Euler\\eulertools.py:8: VisibleDeprecationWarning: using a non-integer number instead of an integer will result in an error in the future\n",
      "  sieve[       k*k/3     ::2*k] = False\n",
      "C:\\Users\\sanchezmartind\\Dropbox\\python\\Euler\\eulertools.py:9: VisibleDeprecationWarning: using a non-integer number instead of an integer will result in an error in the future\n",
      "  sieve[k*(k-2*(i&1)+4)/3::2*k] = False\n"
     ]
    }
   ],
   "source": [
    "\n",
    "# coding: utf-8\n",
    "\n",
    "# \n",
    "# Starting with 1 and spiralling anticlockwise in the following way, a square spiral with side length 7 is formed.\n",
    "# \n",
    "# \n",
    "# $$\n",
    "# |37| 36| 35| 34| 33| 32| 31| \\\\ \n",
    "# |38| 17| 16| 15| 14| 13| 30|  \\\\\n",
    "# |39| 18|  5|  4|  3| 12| 29|  \\\\\n",
    "# |40| 19|  6|  1|  2| 11| 28|  \\\\\n",
    "# |41| 20|  7|  8|  9| 10| 27|  \\\\ \n",
    "# |42| 21| 22| 23| 24| 25| 26| \\\\\n",
    "# |43| 44| 45| 46| 47| 48| 49|\n",
    "# $$\n",
    "# \n",
    "# \n",
    "# It is interesting to note that the odd squares lie along the bottom right diagonal, but what is more interesting is that 8 out of the 13 numbers lying along both diagonals are prime; that is, a ratio of 8/13 ≈ 62%.\n",
    "# \n",
    "# If one complete new layer is wrapped around the spiral above, a square spiral with side length 9 will be formed. If this process is continued, what is the side length of the square spiral for which the ratio of primes along both diagonals first falls below 10%?\n",
    "\n",
    "# #Approach:\n",
    "# ####1. Create matrix\n",
    "# ####2. Fill matrix\n",
    "# ####3. Check if diagonals are prime\n",
    "# ####4. Calculate %\n",
    "\n",
    "# In[1]:\n",
    "\n",
    "import numpy as np\n",
    "import eulertools\n",
    "\n",
    "\n",
    "# In[2]:\n",
    "\n",
    "primes = set(eulertools.primesfrom2to(999999999))\n",
    "#100000000))#299999999))\n",
    "\n",
    "\n",
    "# In[3]:\n",
    "\n",
    "#@profile\n",
    "def alternate2(primes, val):\n",
    "    '''Deduce the way the numbers increase as a function of the increased side. Apply that knowdledge to \n",
    "    infer the turning point'''\n",
    "    #intialize\n",
    "    diagonals = [1,3,5,7,9]\n",
    "    dist = len(diagonals)\n",
    "    pmax = max(primes)\n",
    "    maxd = max(diagonals)\n",
    "    ratio = 1\n",
    "    pr_list = [1 if x in primes else 0 for x in diagonals]\n",
    "    \n",
    "    prs = sum(pr_list)\n",
    "    n=3\n",
    "    \n",
    "    #loop\n",
    "    while ratio > val:\n",
    "        n+=2\n",
    "    \n",
    "        if maxd < pmax:\n",
    "            primes = primes\n",
    "        else:\n",
    "            primes = set(eulertools.primesfrom2to(100*pmax))\n",
    "            pmax = max(primes)\n",
    "        \n",
    "        for i in range(1,5):\n",
    "            value = maxd + i *(n-1)\n",
    "            #diagonals.append(value)\n",
    "            if value in primes:\n",
    "                prs +=1\n",
    "        #ext_list = [maxd+(n-1), maxd+2*(n-1), maxd + 3*(n-1), maxd+4*(n-1)]\n",
    "        #ext_pr = [1  if x in primes else 0 for x in ext_list]\n",
    "        \n",
    "        #diagonals.extend(ext_list)\n",
    "        #pr_list.extend(ext_pr)\n",
    "        \n",
    "        maxd = maxd + 4*(n-1)\n",
    "        dist +=4\n",
    "        ratio = prs/dist\n",
    "    \n",
    "        \n",
    "    \n",
    "        \n",
    "    return n, ratio, prs, maxd, dist, pmax#, diagonals\n",
    "    \n",
    "    \n",
    "   # pr_list = [1 for x in diagonals if x in primes else 0]\n",
    "    \n",
    "\n",
    "\n",
    "\n",
    "\n"
   ]
  },
  {
   "cell_type": "code",
   "execution_count": 6,
   "metadata": {
    "collapsed": false
   },
   "outputs": [
    {
     "data": {
      "text/plain": [
       "50847534"
      ]
     },
     "execution_count": 6,
     "metadata": {},
     "output_type": "execute_result"
    }
   ],
   "source": [
    "len(primes)"
   ]
  },
  {
   "cell_type": "code",
   "execution_count": 5,
   "metadata": {
    "collapsed": true
   },
   "outputs": [],
   "source": [
    "import time"
   ]
  },
  {
   "cell_type": "code",
   "execution_count": 9,
   "metadata": {
    "collapsed": false
   },
   "outputs": [
    {
     "name": "stderr",
     "output_type": "stream",
     "text": [
      "C:\\Anaconda3\\lib\\site-packages\\numpy\\core\\numeric.py:190: VisibleDeprecationWarning: using a non-integer number instead of an integer will result in an error in the future\n",
      "  a = empty(shape, dtype, order)\n",
      "C:\\Users\\sanchezmartind\\Dropbox\\python\\Euler\\eulertools.py:8: VisibleDeprecationWarning: using a non-integer number instead of an integer will result in an error in the future\n",
      "  sieve[       k*k/3     ::2*k] = False\n"
     ]
    },
    {
     "name": "stdout",
     "output_type": "stream",
     "text": [
      "(26241, 0.09999809454850327, 5248, 688590081, 52481, 999999937) 16.073400020599365\n"
     ]
    },
    {
     "name": "stderr",
     "output_type": "stream",
     "text": [
      "C:\\Users\\sanchezmartind\\Dropbox\\python\\Euler\\eulertools.py:9: VisibleDeprecationWarning: using a non-integer number instead of an integer will result in an error in the future\n",
      "  sieve[k*(k-2*(i&1)+4)/3::2*k] = False\n"
     ]
    }
   ],
   "source": [
    "# In[4]:\n",
    "start = time.time()\n",
    "primes = set(eulertools.primesfrom2to(999999999))\n",
    "\n",
    "t = alternate2(primes, 0.1)\n",
    "\n",
    "\n",
    "# In[5]:\n",
    "end = time.time()\n",
    "print(t, end-start)"
   ]
  },
  {
   "cell_type": "code",
   "execution_count": null,
   "metadata": {
    "collapsed": true
   },
   "outputs": [],
   "source": []
  }
 ],
 "metadata": {
  "kernelspec": {
   "display_name": "Python 3",
   "language": "python",
   "name": "python3"
  },
  "language_info": {
   "codemirror_mode": {
    "name": "ipython",
    "version": 3
   },
   "file_extension": ".py",
   "mimetype": "text/x-python",
   "name": "python",
   "nbconvert_exporter": "python",
   "pygments_lexer": "ipython3",
   "version": "3.4.5"
  }
 },
 "nbformat": 4,
 "nbformat_minor": 0
}
