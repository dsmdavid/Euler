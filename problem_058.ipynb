{
 "cells": [
  {
   "cell_type": "markdown",
   "metadata": {},
   "source": [
    "\n",
    "Starting with 1 and spiralling anticlockwise in the following way, a square spiral with side length 7 is formed.\n",
    "\n",
    "\n",
    "$$\n",
    "|37| 36| 35| 34| 33| 32| 31| \\\\ \n",
    "|38| 17| 16| 15| 14| 13| 30|  \\\\\n",
    "|39| 18|  5|  4|  3| 12| 29|  \\\\\n",
    "|40| 19|  6|  1|  2| 11| 28|  \\\\\n",
    "|41| 20|  7|  8|  9| 10| 27|  \\\\ \n",
    "|42| 21| 22| 23| 24| 25| 26| \\\\\n",
    "|43| 44| 45| 46| 47| 48| 49|\n",
    "$$\n",
    "\n",
    "\n",
    "It is interesting to note that the odd squares lie along the bottom right diagonal, but what is more interesting is that 8 out of the 13 numbers lying along both diagonals are prime; that is, a ratio of 8/13 ≈ 62%.\n",
    "\n",
    "If one complete new layer is wrapped around the spiral above, a square spiral with side length 9 will be formed. If this process is continued, what is the side length of the square spiral for which the ratio of primes along both diagonals first falls below 10%?"
   ]
  },
  {
   "cell_type": "markdown",
   "metadata": {},
   "source": [
    "#Approach:\n",
    "####1. Create matrix\n",
    "####2. Fill matrix\n",
    "####3. Check if diagonals are prime\n",
    "####4. Calculate %"
   ]
  },
  {
   "cell_type": "code",
   "execution_count": 3,
   "metadata": {
    "collapsed": true
   },
   "outputs": [],
   "source": [
    "import numpy as np"
   ]
  },
  {
   "cell_type": "code",
   "execution_count": 4,
   "metadata": {
    "collapsed": false
   },
   "outputs": [],
   "source": [
    "def create_matrix(n):\n",
    "    return np.zeros((n,n))"
   ]
  },
  {
   "cell_type": "code",
   "execution_count": 64,
   "metadata": {
    "collapsed": false
   },
   "outputs": [
    {
     "data": {
      "text/plain": [
       "(2, 3, 1, 0)"
      ]
     },
     "execution_count": 64,
     "metadata": {},
     "output_type": "execute_result"
    }
   ],
   "source": []
  },
  {
   "cell_type": "code",
   "execution_count": 65,
   "metadata": {
    "collapsed": true
   },
   "outputs": [],
   "source": [
    "def move(mat,position,direction):\n",
    "    maxval = len(mat)\n",
    "    minval = 0\n",
    "\n",
    "    if direction == 'N':\n",
    "        next_move = (-1,0)\n",
    "    elif direction == 'E':\n",
    "        next_move = (0,-1)\n",
    "    elif direction == 'S':\n",
    "        next_move = (1,0)\n",
    "    elif direction == 'W':\n",
    "        next_move = (0,1)\n",
    "    else:\n",
    "        raise ValueError('Only NWSE available as direction')\n",
    "    new_position = (position[0]+next_move[0],position[1]+next_move[1])\n",
    "    if minval < new_position[0] < maxval:\n",
    "        if minval < new_position[1] <maxval:\n",
    "            return new_position\n",
    "    raise ValueError('Movement out of bounds')\n",
    "        \n",
    "    "
   ]
  },
  {
   "cell_type": "code",
   "execution_count": 70,
   "metadata": {
    "collapsed": false
   },
   "outputs": [
    {
     "ename": "ValueError",
     "evalue": "Movement out of bounds",
     "output_type": "error",
     "traceback": [
      "\u001b[1;31m---------------------------------------------------------------------------\u001b[0m",
      "\u001b[1;31mValueError\u001b[0m                                Traceback (most recent call last)",
      "\u001b[1;32m<ipython-input-70-9676874252a9>\u001b[0m in \u001b[0;36m<module>\u001b[1;34m()\u001b[0m\n\u001b[1;32m----> 1\u001b[1;33m \u001b[0mmove\u001b[0m\u001b[1;33m(\u001b[0m\u001b[0ma\u001b[0m\u001b[1;33m,\u001b[0m \u001b[1;33m(\u001b[0m\u001b[1;36m0\u001b[0m\u001b[1;33m,\u001b[0m\u001b[1;36m0\u001b[0m\u001b[1;33m)\u001b[0m\u001b[1;33m,\u001b[0m \u001b[1;34m'E'\u001b[0m\u001b[1;33m)\u001b[0m\u001b[1;33m\u001b[0m\u001b[0m\n\u001b[0m",
      "\u001b[1;32m<ipython-input-65-2acf1c02cc2c>\u001b[0m in \u001b[0;36mmove\u001b[1;34m(mat, position, direction)\u001b[0m\n\u001b[0;32m     17\u001b[0m         \u001b[1;32mif\u001b[0m \u001b[0mminval\u001b[0m \u001b[1;33m<\u001b[0m \u001b[0mnew_position\u001b[0m\u001b[1;33m[\u001b[0m\u001b[1;36m1\u001b[0m\u001b[1;33m]\u001b[0m \u001b[1;33m<\u001b[0m\u001b[0mmaxval\u001b[0m\u001b[1;33m:\u001b[0m\u001b[1;33m\u001b[0m\u001b[0m\n\u001b[0;32m     18\u001b[0m             \u001b[1;32mreturn\u001b[0m \u001b[0mnew_position\u001b[0m\u001b[1;33m\u001b[0m\u001b[0m\n\u001b[1;32m---> 19\u001b[1;33m     \u001b[1;32mraise\u001b[0m \u001b[0mValueError\u001b[0m\u001b[1;33m(\u001b[0m\u001b[1;34m'Movement out of bounds'\u001b[0m\u001b[1;33m)\u001b[0m\u001b[1;33m\u001b[0m\u001b[0m\n\u001b[0m\u001b[0;32m     20\u001b[0m \u001b[1;33m\u001b[0m\u001b[0m\n\u001b[0;32m     21\u001b[0m \u001b[1;33m\u001b[0m\u001b[0m\n",
      "\u001b[1;31mValueError\u001b[0m: Movement out of bounds"
     ]
    }
   ],
   "source": [
    "move(a, (0,0), 'E')"
   ]
  },
  {
   "cell_type": "code",
   "execution_count": 58,
   "metadata": {
    "collapsed": false
   },
   "outputs": [],
   "source": [
    "def fill_matrix(mat):\n",
    "    center = 1\n",
    "    mat[np.floor(len(mat)/2)][np.floor(len(mat)/2)] = center\n",
    "    vals = [x for x in range(1,len(mat)**2 +1)]\n",
    "    for i in range(1,len(mat)+1,2):\n",
    "        moves = 'W'  + (i-2)*'N' + (i-1)*'E' + (i-1)*'S' + (i-1)*'W'\n",
    "        moves = list(moves)\n",
    "        for move in moves:\n",
    "            pass\n",
    "            \n",
    "    return  mat\n",
    "        "
   ]
  },
  {
   "cell_type": "code",
   "execution_count": 59,
   "metadata": {
    "collapsed": true
   },
   "outputs": [],
   "source": [
    "a = create_matrix(3)"
   ]
  },
  {
   "cell_type": "code",
   "execution_count": 60,
   "metadata": {
    "collapsed": false
   },
   "outputs": [],
   "source": [
    "b =fill_matrix(a)"
   ]
  },
  {
   "cell_type": "code",
   "execution_count": 62,
   "metadata": {
    "collapsed": false
   },
   "outputs": [
    {
     "data": {
      "text/plain": [
       "array([[ 0.,  0.,  0.],\n",
       "       [ 0.,  1.,  0.],\n",
       "       [ 0.,  3.,  0.]])"
      ]
     },
     "execution_count": 62,
     "metadata": {},
     "output_type": "execute_result"
    }
   ],
   "source": [
    "b[2][1]=3\n",
    "b"
   ]
  },
  {
   "cell_type": "code",
   "execution_count": 24,
   "metadata": {
    "collapsed": false
   },
   "outputs": [
    {
     "data": {
      "text/plain": [
       "array([[ 11.,   0.,   0.,   0.,   0.],\n",
       "       [  0.,   1.,   0.,   0.,   0.],\n",
       "       [  0.,   0.,   2.,   0.,   0.],\n",
       "       [  0.,   0.,   0.,   3.,   0.],\n",
       "       [  0.,   0.,   0.,   0.,   0.]])"
      ]
     },
     "execution_count": 24,
     "metadata": {},
     "output_type": "execute_result"
    }
   ],
   "source": [
    "b[0][0] = 11\n",
    "b[1][1] = 1\n",
    "b[2][2] = 2\n",
    "b[3][3] = 3\n",
    "b"
   ]
  },
  {
   "cell_type": "code",
   "execution_count": 31,
   "metadata": {
    "collapsed": false
   },
   "outputs": [
    {
     "data": {
      "text/plain": [
       "array([[ 0.,  0.,  0.,  0.,  0.,  0.,  0.,  0.,  0.,  0.,  0.],\n",
       "       [ 0.,  0.,  0.,  0.,  0.,  0.,  0.,  0.,  0.,  0.,  0.],\n",
       "       [ 0.,  0.,  0.,  0.,  0.,  0.,  0.,  0.,  0.,  0.,  0.],\n",
       "       [ 0.,  0.,  0.,  0.,  0.,  0.,  0.,  0.,  0.,  0.,  0.],\n",
       "       [ 0.,  0.,  0.,  0.,  0.,  0.,  0.,  0.,  0.,  0.,  0.],\n",
       "       [ 0.,  0.,  0.,  0.,  0.,  1.,  0.,  0.,  0.,  0.,  0.],\n",
       "       [ 0.,  0.,  0.,  0.,  0.,  0.,  0.,  0.,  0.,  0.,  0.],\n",
       "       [ 0.,  0.,  0.,  0.,  0.,  0.,  0.,  0.,  0.,  0.,  0.],\n",
       "       [ 0.,  0.,  0.,  0.,  0.,  0.,  0.,  0.,  0.,  0.,  0.],\n",
       "       [ 0.,  0.,  0.,  0.,  0.,  0.,  0.,  0.,  0.,  0.,  0.],\n",
       "       [ 0.,  0.,  0.,  0.,  0.,  0.,  0.,  0.,  0.,  0.,  0.]])"
      ]
     },
     "execution_count": 31,
     "metadata": {},
     "output_type": "execute_result"
    }
   ],
   "source": [
    "b"
   ]
  },
  {
   "cell_type": "code",
   "execution_count": 27,
   "metadata": {
    "collapsed": true
   },
   "outputs": [],
   "source": [
    "def iter_me(n, dict_its):\n",
    "    fraction = (1,2)\n",
    "    for i in range(n):\n",
    "        if not dict_its.get(i):\n",
    "            fraction =invert(suma(fraction,2))\n",
    "            dict_its[i] = fraction\n",
    "        else:\n",
    "            fraction = dict_its.get(i)\n",
    "            \n",
    "    fraction = suma(fraction, 1)\n",
    "    return fraction, dict_its"
   ]
  },
  {
   "cell_type": "code",
   "execution_count": 36,
   "metadata": {
    "collapsed": false
   },
   "outputs": [
    {
     "name": "stdout",
     "output_type": "stream",
     "text": [
      "(1393, 985)\n"
     ]
    }
   ],
   "source": [
    "result, dict_its = iter_me(7,dict_its)\n",
    "print(result)"
   ]
  },
  {
   "cell_type": "code",
   "execution_count": 37,
   "metadata": {
    "collapsed": false
   },
   "outputs": [],
   "source": [
    "def islonger(fraction):\n",
    "    return len(str(fraction[0])) > len(str(fraction[1]))"
   ]
  },
  {
   "cell_type": "code",
   "execution_count": 47,
   "metadata": {
    "collapsed": false
   },
   "outputs": [
    {
     "name": "stdout",
     "output_type": "stream",
     "text": [
      "153 1.248049020767212\n"
     ]
    }
   ],
   "source": [
    "st = time.time()\n",
    "dict_its = {}\n",
    "ct= 0\n",
    "for number in range(0,1001):\n",
    "    result, dict_its = iter_me(number, dict_its)\n",
    "    if islonger(result):\n",
    "        ct +=1\n",
    "ct\n",
    "end = time.time()\n",
    "print(ct, end-st)"
   ]
  },
  {
   "cell_type": "code",
   "execution_count": 41,
   "metadata": {
    "collapsed": false
   },
   "outputs": [],
   "source": [
    "#without dict_cache:\n",
    "def iter_me2(n):\n",
    "    fraction = (1,2)\n",
    "    for i in range(n):\n",
    "        fraction =invert(suma(fraction,2))\n",
    "            \n",
    "    fraction = suma(fraction, 1)\n",
    "    return fraction"
   ]
  },
  {
   "cell_type": "code",
   "execution_count": 45,
   "metadata": {
    "collapsed": false
   },
   "outputs": [
    {
     "name": "stdout",
     "output_type": "stream",
     "text": [
      "153 4.801342010498047\n"
     ]
    }
   ],
   "source": [
    "st = time.time()\n",
    "ct2= 0\n",
    "for number in range(0,1001):\n",
    "    if islonger(iter_me2(number)):\n",
    "        ct2 +=1\n",
    "ct2\n",
    "end= time.time()\n",
    "print(ct2, end-st)"
   ]
  },
  {
   "cell_type": "code",
   "execution_count": 44,
   "metadata": {
    "collapsed": true
   },
   "outputs": [],
   "source": [
    "import time"
   ]
  },
  {
   "cell_type": "code",
   "execution_count": 49,
   "metadata": {
    "collapsed": false
   },
   "outputs": [
    {
     "name": "stdout",
     "output_type": "stream",
     "text": [
      "153 0.2516350746154785\n"
     ]
    }
   ],
   "source": [
    "\n",
    "class br:\n",
    "    def __init__(self, num, dem=1):\n",
    "        self.num = num\n",
    "        self.dem = dem\n",
    "\n",
    "    def __mul__(self, other):\n",
    "        return br(self.num*other.num, self.dem*other.dem)\n",
    "\n",
    "    def __str__(self):\n",
    "        return \"%d\\n---\\n%d\\n\" % (self.num, self.dem)\n",
    "\n",
    "    def __div__(self, other):\n",
    "        return br(self.num*other.dem, self.dem*other.num)\n",
    "\n",
    "    def __add__(self, other):\n",
    "        s = self * br(other.dem)\n",
    "        o = other * br(self.dem)\n",
    "        return br(s.num+o.num, s.dem*o.dem)\n",
    "    def numbiggerdem(self):\n",
    "        return len(str(self.num)) > len(str(self.dem))\n",
    "st = time.time()\n",
    "b = br(1,2)\n",
    "c = 0\n",
    "for i in range(1001):\n",
    "    if (br(1)+b).numbiggerdem():\n",
    "        c+=1\n",
    "        #print (br(1)+b)\n",
    "    b = br(1).__div__((br(2)+b))\n",
    "\n",
    "end = time.time()    \n",
    "print(c, end-st)\n",
    "\n",
    "\n"
   ]
  },
  {
   "cell_type": "code",
   "execution_count": null,
   "metadata": {
    "collapsed": true
   },
   "outputs": [],
   "source": []
  }
 ],
 "metadata": {
  "kernelspec": {
   "display_name": "Python 3",
   "language": "python",
   "name": "python3"
  },
  "language_info": {
   "codemirror_mode": {
    "name": "ipython",
    "version": 3
   },
   "file_extension": ".py",
   "mimetype": "text/x-python",
   "name": "python",
   "nbconvert_exporter": "python",
   "pygments_lexer": "ipython3",
   "version": "3.4.4"
  }
 },
 "nbformat": 4,
 "nbformat_minor": 0
}
