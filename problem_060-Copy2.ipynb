{
 "cells": [
  {
   "cell_type": "markdown",
   "metadata": {},
   "source": [
    "3, 7, 109, 673 are primes.\n",
    "Concatenating any two of them, results in another prime:\n",
    "3 - 7 -- 37; 7 - 3 -- 73; 673-3 -- 6733; 3 - 673 -- 3673; 109673; ...\n",
    "The sum of these primes (3 + 7 + 109 +673 = 792) is the lowest sum of four primes with this property.\n",
    "\n",
    "Find the lowest sum for a set of five primes for which any two primes concateamte to produce another prime."
   ]
  },
  {
   "cell_type": "code",
   "execution_count": null,
   "metadata": {
    "collapsed": true
   },
   "outputs": [],
   "source": []
  },
  {
   "cell_type": "markdown",
   "metadata": {},
   "source": [
    "#Approach:\n",
    "####1. Calculate primes up to 100 000 000 to be used as the matching set.\n",
    "####2. Calculate primes up to  100 000 to be used as the testing set\n",
    "####3. Start testing until one set candidate appears\n",
    "####4. For the remainder of potential combinations without repetition, calculate the sum, discard those that either have been tested already or whose sum is greater.\n",
    "####5. Test the rest until all have been cleared."
   ]
  },
  {
   "cell_type": "code",
   "execution_count": 1,
   "metadata": {
    "collapsed": false
   },
   "outputs": [],
   "source": [
    "import numpy as np\n",
    "import eulertools\n",
    "import itertools\n",
    "import time\n"
   ]
  },
  {
   "cell_type": "code",
   "execution_count": 8,
   "metadata": {
    "collapsed": false
   },
   "outputs": [
    {
     "name": "stderr",
     "output_type": "stream",
     "text": [
      "C:\\Anaconda3\\lib\\site-packages\\numpy\\core\\numeric.py:190: VisibleDeprecationWarning: using a non-integer number instead of an integer will result in an error in the future\n",
      "  a = empty(shape, dtype, order)\n",
      "C:\\Users\\sanchezmartind\\Dropbox\\python\\Euler\\eulertools.py:8: VisibleDeprecationWarning: using a non-integer number instead of an integer will result in an error in the future\n",
      "  sieve[       k*k/3     ::2*k] = False\n",
      "C:\\Users\\sanchezmartind\\Dropbox\\python\\Euler\\eulertools.py:9: VisibleDeprecationWarning: using a non-integer number instead of an integer will result in an error in the future\n",
      "  sieve[k*(k-2*(i&1)+4)/3::2*k] = False\n"
     ]
    }
   ],
   "source": [
    "primes = set(eulertools.primesfrom2to(100000000))\n",
    "primes_st = set([str(x) for x in primes])\n",
    "p_test1 = eulertools.primesfrom2to(100000)\n",
    "p_test = set(p_test1)\n",
    "p_test_str = [str(x) for x in p_test]"
   ]
  },
  {
   "cell_type": "code",
   "execution_count": 12,
   "metadata": {
    "collapsed": true
   },
   "outputs": [],
   "source": [
    "start = time.time()"
   ]
  },
  {
   "cell_type": "code",
   "execution_count": 13,
   "metadata": {
    "collapsed": true
   },
   "outputs": [],
   "source": [
    "def test_pairs(pairs, val):\n",
    "    '''Receives two lists, the first with one/more values as strings, the second with one single value to test. \n",
    "    Returns whether or not all the potential combinations using one item from the first list and one item for the second is prime'''\n",
    "\n",
    "    pr = True\n",
    "    cont = True\n",
    "    \n",
    "    combs = itertools.product(pairs,val)\n",
    " \n",
    "    while pr and cont:\n",
    "        try:\n",
    "            comb = next(combs)\n",
    "            pr = pr *(comb[0]+comb[1] in primes_st)\n",
    "            #print(pr,comb)\n",
    "        except:\n",
    "            cont = False\n",
    "    \n",
    "    cont = True\n",
    "    combs = itertools.product(val, pairs)\n",
    "    \n",
    "    while pr and cont:\n",
    "        try:\n",
    "            comb = next(combs)\n",
    "            pr = pr *(comb[0]+comb[1] in primes_st)\n",
    "            #print(pr,comb)\n",
    "        except:\n",
    "            cont = False\n",
    "    return pr\n",
    "\n",
    "def check_min(vals_str,minimum):\n",
    "    '''Tests the sum of the values in the list provided as a string against a minimum value'''\n",
    "    temp = 0\n",
    "    try:\n",
    "        for elem in vals_str:\n",
    "            temp += int(elem)\n",
    "    except:\n",
    "        temp = 0\n",
    "    return temp < minimum"
   ]
  },
  {
   "cell_type": "code",
   "execution_count": 14,
   "metadata": {
    "collapsed": false
   },
   "outputs": [],
   "source": [
    "test5 = []\n",
    "minn = sum(p_test1[-5:])\n",
    "for i1 in p_test_str:\n",
    "    testing = [i1]\n",
    "    if check_min(testing, minn):\n",
    "        for i2 in p_test_str:\n",
    "            if i1 != i2:\n",
    "                if test_pairs(testing,[i2]):\n",
    "                    testing = [i1,i2]\n",
    "                    if check_min(testing, minn):\n",
    "                        for i3 in p_test_str:\n",
    "                            if i3 not in testing:\n",
    "                                if test_pairs(testing,[i3]):\n",
    "                                    testing = [i1,i2,i3]\n",
    "                                    if check_min(testing, minn):\n",
    "                                        for i4 in p_test_str:\n",
    "                                            if i4 not in testing:\n",
    "                                                if test_pairs(testing,[i4]):\n",
    "                                                    testing = [i1,i2,i3,i4]\n",
    "                                                    if check_min(testing, minn):\n",
    "                                                        \n",
    "                                                        for i5 in p_test_str:\n",
    "                                                            if i5 not in testing:\n",
    "                                                                if test_pairs(testing,[i5]):\n",
    "                                                                    testing = [i1,i2,i3,i4, i5]                                                    \n",
    "                                                                    if sorted(testing) not in test5:\n",
    "                                                                        test5.append(sorted(testing))\n",
    "                                                                        if check_min(testing, minn):\n",
    "                                                                            minn = sum([int(x) for x in testing])\n",
    "\n",
    "                                                "
   ]
  },
  {
   "cell_type": "code",
   "execution_count": 15,
   "metadata": {
    "collapsed": false
   },
   "outputs": [
    {
     "data": {
      "text/plain": [
       "26033"
      ]
     },
     "execution_count": 15,
     "metadata": {},
     "output_type": "execute_result"
    }
   ],
   "source": [
    "minn"
   ]
  },
  {
   "cell_type": "code",
   "execution_count": 16,
   "metadata": {
    "collapsed": false
   },
   "outputs": [
    {
     "name": "stdout",
     "output_type": "stream",
     "text": [
      "-135.27800011634827\n"
     ]
    }
   ],
   "source": [
    "end = time.time()\n",
    "print(start-end)"
   ]
  },
  {
   "cell_type": "raw",
   "metadata": {
    "collapsed": false
   },
   "source": [
    "test4 = []\n",
    "minn = sum(p_test1[-4:])\n",
    "for i1 in p_test_str:\n",
    "    testing = [i1]\n",
    "    if check_min(testing, minn):\n",
    "        for i2 in p_test_str:\n",
    "            if i1 != i2:\n",
    "                if test_pairs(testing,[i2]):\n",
    "                    testing = [i1,i2]\n",
    "                    if check_min(testing, minn):\n",
    "                        for i3 in p_test_str:\n",
    "                            if i3 not in testing:\n",
    "                                if test_pairs(testing,[i3]):\n",
    "                                    testing = [i1,i2,i3]\n",
    "                                    if check_min(testing, minn):\n",
    "                                        for i4 in p_test_str:\n",
    "                                            if i4 not in testing:\n",
    "                                                if test_pairs(testing,[i4]):\n",
    "                                                    testing = [i1,i2,i3,i4]\n",
    "                                                    if sorted(testing) not in test4:\n",
    "                                                        test4.append(sorted(testing))\n",
    "                                                        if check_min(testing, minn):\n",
    "                                                            minn = sum([int(x) for x in testing])\n",
    "\n",
    "                                                "
   ]
  },
  {
   "cell_type": "code",
   "execution_count": null,
   "metadata": {
    "collapsed": true
   },
   "outputs": [],
   "source": []
  }
 ],
 "metadata": {
  "kernelspec": {
   "display_name": "Python 3",
   "language": "python",
   "name": "python3"
  },
  "language_info": {
   "codemirror_mode": {
    "name": "ipython",
    "version": 3
   },
   "file_extension": ".py",
   "mimetype": "text/x-python",
   "name": "python",
   "nbconvert_exporter": "python",
   "pygments_lexer": "ipython3",
   "version": "3.4.5"
  }
 },
 "nbformat": 4,
 "nbformat_minor": 0
}
